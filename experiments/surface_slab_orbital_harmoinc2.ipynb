{
 "cells": [
  {
   "cell_type": "code",
   "execution_count": 1,
   "metadata": {
    "scrolled": true
   },
   "outputs": [
    {
     "name": "stdout",
     "output_type": "stream",
     "text": [
      "env: CUDA_DEVICE_ORDER=PCI_BUS_ID\n",
      "env: CUDA_VISIBLE_DEVICES=0\n",
      "env: CUDA_LAUNCH_BLOCKING=1\n"
     ]
    }
   ],
   "source": [
    "import os\n",
    "import sys\n",
    "sys.path.insert(0,'/home/junwoony/Desktop/Differentiable_Optimization_GCN/Differentiable_Optimization_GCN/')\n",
    "\n",
    "import numpy as np\n",
    "%env CUDA_DEVICE_ORDER=PCI_BUS_ID\n",
    "%env CUDA_VISIBLE_DEVICES=0\n",
    "%env CUDA_LAUNCH_BLOCKING=1\n",
    "\n",
    "import mongo\n",
    "import time\n",
    "import pickle\n",
    "import random\n",
    "import numpy as np\n",
    "import tqdm\n",
    "import copy\n",
    "import matplotlib.pyplot as plt\n",
    "import multiprocess as mp\n",
    "\n",
    "from pymatgen.io.ase import AseAtomsAdaptor\n",
    "\n",
    "import torch\n",
    "from torch.nn.utils import clip_grad_norm_\n",
    "from torch.utils.data import Dataset, DataLoader\n",
    "from torch.optim import Adam, SGD\n",
    "from torch.optim.lbfgs import LBFGS\n",
    "from cgcnn.data_orbital_sigopt import StructureData, ListDataset, StructureDataTransformer, collate_pool, MergeDataset\n",
    "from cgcnn.model_sigopt import CrystalGraphConvNet\n",
    "\n",
    "from sklearn.preprocessing import StandardScaler\n",
    "from sklearn.model_selection import ShuffleSplit, train_test_split\n",
    "from sklearn.metrics import get_scorer\n",
    "from skorch import NeuralNetRegressor\n",
    "from skorch.callbacks import Checkpoint, LoadInitState #needs skorch 0.4.0, conda-forge version at 0.3.0 doesn't cut it\n",
    "import skorch.callbacks.base\n",
    "from skorch.dataset import CVSplit\n",
    "from skorch.callbacks.lr_scheduler import WarmRestartLR, LRScheduler\n",
    "\n",
    "from utils.adamwr.adamw import AdamW\n",
    "from utils.adamwr.cosine_scheduler import CosineLRWithRestarts\n",
    "\n",
    "\n",
    "from sigopt_sklearn.search import SigOptSearchCV\n"
   ]
  },
  {
   "cell_type": "code",
   "execution_count": 2,
   "metadata": {},
   "outputs": [],
   "source": [
    "SDT_list = pickle.load(open('../../inputs/input_7_nbrs_40_steps/SDT_list.pkl', 'rb'))\n",
    "docs = pickle.load(open('../../inputs/input_7_nbrs_40_steps/final_docs.pkl', 'rb'))\n",
    "\n",
    "target_list = []\n",
    "for sdt in SDT_list:\n",
    "    free_atom_idx = sdt[-2]\n",
    "    target_list.append(sdt[-1][free_atom_idx].numpy())\n",
    "target_list = np.array(target_list).reshape(-1,1)\n",
    "\n",
    "structures = SDT_list[0]\n",
    "orig_atom_fea_len = structures[0].shape[-1]\n",
    "nbr_fea_len = structures[1].shape[-1]\n"
   ]
  },
  {
   "cell_type": "code",
   "execution_count": 3,
   "metadata": {},
   "outputs": [],
   "source": [
    "SDT_training, SDT_test, target_training, target_test, docs_training, docs_test \\\n",
    "= train_test_split(SDT_list, target_list, docs, test_size=0.1, random_state=42)"
   ]
  },
  {
   "cell_type": "code",
   "execution_count": 4,
   "metadata": {
    "scrolled": true
   },
   "outputs": [],
   "source": [
    "# atom_fea = SDT_list[0][0]\n",
    "# nbr_fea = SDT_list[0][1]\n",
    "# nbr_fea_idx = SDT_list[0][2]\n",
    "# nbr_fea_offset = SDT_list[0][3]\n",
    "# atom_pos =SDT_list[0][4]\n",
    "# nbr_pos = SDT_list[0][5] \n",
    "# atom_pos_idx = SDT_list[0][6]\n",
    "# cells = SDT_list[0][7]\n",
    "# fixed_base = SDT_list[0][8]\n",
    "# free_atom_idx = SDT_list[0][9]\n",
    "# atom_pos_final = SDT_list[0][10]\n"
   ]
  },
  {
   "cell_type": "code",
   "execution_count": 5,
   "metadata": {},
   "outputs": [
    {
     "name": "stdout",
     "output_type": "stream",
     "text": [
      "device: cuda\n"
     ]
    }
   ],
   "source": [
    "cuda = torch.cuda.is_available()\n",
    "if cuda:\n",
    "    device = torch.device(\"cuda\")\n",
    "else:\n",
    "    device='cpu'\n",
    "\n",
    "#Make a checkpoint to save parameters every time there is a new best for validation lost\n",
    "cp = Checkpoint(monitor='valid_loss_best',fn_prefix='./surface_slab_harmonic2/valid_best_')\n",
    "\n",
    "#Callback to load the checkpoint with the best validation loss at the end of training\n",
    "\n",
    "class train_end_load_best_valid_loss(skorch.callbacks.base.Callback):\n",
    "    def on_train_end(self, net, X, y):\n",
    "        net.load_params('./surface_slab_harmonic2/valid_best_params.pt')\n",
    "        \n",
    "load_best_valid_loss = train_end_load_best_valid_loss()\n",
    "print('device:', device)"
   ]
  },
  {
   "cell_type": "code",
   "execution_count": 6,
   "metadata": {
    "scrolled": false
   },
   "outputs": [
    {
     "data": {
      "text/plain": [
       "0.122171804"
      ]
     },
     "execution_count": 6,
     "metadata": {},
     "output_type": "execute_result"
    }
   ],
   "source": [
    "def diff(sdt, target):\n",
    "    fixed_base = sdt[8]\n",
    "    free_atom_idx = np.where(fixed_base == 0)[0]\n",
    "    free_atom_idx = torch.LongTensor(free_atom_idx)   \n",
    "    diff = np.sum(((target[0] - sdt[4].numpy()[free_atom_idx]))**2.,axis=1)**0.5 \n",
    "    return diff\n",
    "\n",
    "np.mean(np.abs(np.concatenate([diff(sdt, target) for sdt,target in zip(SDT_list, target_list)])))"
   ]
  },
  {
   "cell_type": "code",
   "execution_count": 7,
   "metadata": {},
   "outputs": [
    {
     "data": {
      "text/plain": [
       "0.054590654"
      ]
     },
     "execution_count": 7,
     "metadata": {},
     "output_type": "execute_result"
    }
   ],
   "source": [
    "def diff_position(sdt, target):\n",
    "    fixed_base = sdt[8]\n",
    "    free_atom_idx = np.where(fixed_base == 0)[0]\n",
    "    free_atom_idx = torch.LongTensor(free_atom_idx)   \n",
    "    diff = (target[0] - sdt[4].numpy()[free_atom_idx])\n",
    "    return diff\n",
    "\n",
    "differences = []\n",
    "for sdt, target in zip(SDT_list, target_list):\n",
    "    differences.append(diff_position(sdt, target))\n",
    "differences = np.concatenate(differences)\n",
    "np.mean(np.abs(differences))"
   ]
  },
  {
   "cell_type": "code",
   "execution_count": 8,
   "metadata": {
    "scrolled": true
   },
   "outputs": [],
   "source": [
    "train_test_splitter = ShuffleSplit(test_size=0.1, random_state=42)\n",
    "\n",
    "batchsize = 100\n",
    "# warm restart scheduling from https://arxiv.org/pdf/1711.05101.pdf\n",
    "LR_schedule = LRScheduler(CosineLRWithRestarts, batch_size=batchsize, epoch_size=len(SDT_training), restart_period=10, t_mult=1.2)\n",
    "\n",
    "#############\n",
    "# To extract intermediate features, set the forward takes only the first return value to calculate loss\n",
    "class MyNet(NeuralNetRegressor):\n",
    "    def get_loss(self, y_pred, y_true, **kwargs):        \n",
    "        y_pred = y_pred[0] if isinstance(y_pred, tuple) else y_pred  # discard the 2nd output\n",
    "        differ=torch.sum((y_pred - y_true.cuda())**2.0,dim=1)\n",
    "        if torch.nonzero(differ).shape[0] != differ.shape[0]:\n",
    "            print('zero sqrt for Loss')\n",
    "\n",
    "        differ = torch.clamp(differ, min=1e-8)\n",
    "        return torch.mean(torch.sqrt(differ))\n",
    "\n",
    "net = MyNet(\n",
    "    CrystalGraphConvNet,\n",
    "    module__orig_atom_fea_len = orig_atom_fea_len,\n",
    "    module__nbr_fea_len = nbr_fea_len,\n",
    "    batch_size=batchsize, #214\n",
    "    module__classification=False,\n",
    "    lr=0.0056,\n",
    "    max_epochs= 500,\n",
    "    module__energy_mode=\"Harmonic\", #[\"Harmonic\", \"Morse\", \"LJ\"], Default = \"Harmonic\"\n",
    "    module__atom_fea_len=46, #46,\n",
    "    module__h_fea_len=83,\n",
    "    module__h_fea_len_dist=83,\n",
    "    module__h_fea_len_const=83,\n",
    "    module__h_fea_len_D=83,\n",
    "    module__n_conv=6, #8\n",
    "    module__n_h_dist=8,\n",
    "    module__n_h_const=8,\n",
    "    module__n_h_D=8,\n",
    "    module__max_num_nbr=12, #9\n",
    "    module__opt_step_size=0.3, #0.3\n",
    "    module__min_opt_steps=30,\n",
    "    module__max_opt_steps=300,\n",
    "    module__momentum=0.8,\n",
    "    optimizer__weight_decay=1e-3,\n",
    "    optimizer=AdamW,\n",
    "    iterator_train__pin_memory=True,\n",
    "    iterator_train__num_workers=0,\n",
    "    iterator_train__shuffle=True,\n",
    "    iterator_train__collate_fn = collate_pool,\n",
    "    iterator_valid__pin_memory=True,\n",
    "    iterator_valid__num_workers=0,\n",
    "    iterator_valid__collate_fn = collate_pool,\n",
    "    device=device,\n",
    "#     criterion=torch.nn.MSELoss,\n",
    "    criterion=torch.nn.L1Loss,\n",
    "    dataset=MergeDataset,\n",
    "    train_split = CVSplit(cv=train_test_splitter),\n",
    "    callbacks=[cp, LR_schedule, load_best_valid_loss]\n",
    ")\n",
    "net.initialize()\n",
    "net.load_params(f_history = './surface_slab_harmonic2/valid_best_history.json',\n",
    "               f_optimizer = './surface_slab_harmonic2/valid_best_optimizer.pt',\n",
    "               f_params = './surface_slab_harmonic2/valid_best_params.pt')"
   ]
  },
  {
   "cell_type": "code",
   "execution_count": 10,
   "metadata": {},
   "outputs": [
    {
     "name": "stdout",
     "output_type": "stream",
     "text": [
      "Re-initializing module because the following parameters were re-set: atom_fea_len, classification, energy_mode, h_fea_len, h_fea_len_D, h_fea_len_const, h_fea_len_dist, max_num_nbr, max_opt_steps, min_opt_steps, momentum, n_conv, n_h_D, n_h_const, n_h_dist, nbr_fea_len, opt_step_size, orig_atom_fea_len.\n",
      "Re-initializing optimizer because the following parameters were re-set: weight_decay.\n",
      "blow up\n",
      "blow up\n",
      "  epoch    train_loss    valid_loss    cp       dur\n",
      "-------  ------------  ------------  ----  --------\n",
      "      1        \u001b[36m0.9093\u001b[0m        \u001b[32m1.8402\u001b[0m     +  285.3992\n",
      "blow up\n",
      "blow up\n",
      "blow up\n",
      "blow up\n",
      "      2        1.5457        \u001b[32m0.4217\u001b[0m     +  353.3929\n",
      "blow up\n",
      "blow up\n",
      "blow up\n",
      "blow up\n",
      "blow up\n",
      "blow up\n",
      "blow up\n",
      "blow up\n",
      "blow up\n",
      "blow up\n",
      "blow up\n",
      "blow up\n",
      "blow up\n",
      "blow up\n",
      "blow up\n",
      "      3        \u001b[36m0.4387\u001b[0m        0.6599        242.6621\n",
      "blow up\n",
      "blow up\n",
      "blow up\n",
      "blow up\n",
      "blow up\n",
      "      4        0.5306        \u001b[32m0.2629\u001b[0m     +  238.2346\n",
      "      5        \u001b[36m0.2264\u001b[0m        \u001b[32m0.1735\u001b[0m     +  207.0725\n",
      "      6        \u001b[36m0.1505\u001b[0m        \u001b[32m0.1481\u001b[0m     +  199.3052\n",
      "      7        0.1509        \u001b[32m0.1370\u001b[0m     +  192.7559\n",
      "      8        \u001b[36m0.1474\u001b[0m        0.1386        183.5124\n",
      "      9        \u001b[36m0.1275\u001b[0m        \u001b[32m0.1328\u001b[0m     +  172.0618\n",
      "     10        0.1421        0.1340        184.0427\n",
      "     11        \u001b[36m0.1189\u001b[0m        \u001b[32m0.1193\u001b[0m     +  174.4572\n",
      "     12        0.1225        \u001b[32m0.1146\u001b[0m     +  168.3247\n",
      "     13        \u001b[36m0.1125\u001b[0m        \u001b[32m0.1112\u001b[0m     +  171.8831\n",
      "     14        0.1131        \u001b[32m0.1072\u001b[0m     +  170.8781\n",
      "     15        \u001b[36m0.1119\u001b[0m        \u001b[32m0.1059\u001b[0m     +  167.2542\n",
      "     16        \u001b[36m0.1048\u001b[0m        0.1060        162.8773\n",
      "     17        0.1082        \u001b[32m0.1042\u001b[0m     +  141.9678\n",
      "     18        0.1092        0.1058        89.4174\n",
      "     19        0.1124        \u001b[32m0.1041\u001b[0m     +  95.1781\n",
      "     20        \u001b[36m0.1018\u001b[0m        \u001b[32m0.1039\u001b[0m     +  96.7787\n",
      "     21        0.1054        \u001b[32m0.1033\u001b[0m     +  92.2097\n",
      "     22        0.1028        \u001b[32m0.1024\u001b[0m     +  96.6276\n",
      "     23        0.1076        0.1042        94.7980\n",
      "     24        0.1183        0.1042        92.4492\n",
      "     25        \u001b[36m0.0989\u001b[0m        0.1050        93.5896\n",
      "     26        0.1026        \u001b[32m0.0996\u001b[0m     +  93.0614\n",
      "     27        \u001b[36m0.0967\u001b[0m        0.1006        92.7269\n",
      "     28        0.1012        0.1012        95.3167\n",
      "     29        \u001b[36m0.0963\u001b[0m        0.0997        96.0170\n",
      "     30        \u001b[36m0.0951\u001b[0m        0.1026        92.7536\n",
      "     31        0.0951        \u001b[32m0.0975\u001b[0m     +  95.2073\n",
      "     32        \u001b[36m0.0928\u001b[0m        0.0992        88.8913\n",
      "     33        0.0965        \u001b[32m0.0974\u001b[0m     +  92.5308\n",
      "     34        0.1020        0.0976        93.5502\n",
      "     35        0.0932        \u001b[32m0.0967\u001b[0m     +  92.5722\n",
      "     36        0.0989        \u001b[32m0.0964\u001b[0m     +  94.4915\n",
      "     37        0.0961        0.0969        92.0522\n",
      "     38        0.1033        0.0967        96.5001\n",
      "     39        0.1009        0.0999        90.7678\n",
      "     40        0.1001        0.1054        94.1104\n",
      "     41        0.0997        0.0985        96.1249\n",
      "     42        0.0999        0.0976        91.7141\n",
      "     43        0.1029        \u001b[32m0.0952\u001b[0m     +  95.0113\n",
      "     44        0.1001        0.1019        87.1443\n",
      "     45        \u001b[36m0.0923\u001b[0m        0.0966        96.0466\n",
      "     46        0.0959        \u001b[32m0.0947\u001b[0m     +  90.0175\n",
      "     47        0.0934        0.1018        93.2888\n",
      "     48        0.0938        \u001b[32m0.0946\u001b[0m     +  89.0676\n",
      "     49        0.0977        0.0950        91.2310\n",
      "     50        \u001b[36m0.0873\u001b[0m        \u001b[32m0.0929\u001b[0m     +  94.2587\n",
      "     51        0.0917        \u001b[32m0.0927\u001b[0m     +  90.8847\n",
      "     52        0.0937        0.0928        98.4609\n",
      "     53        0.0967        0.0933        95.8275\n",
      "     54        0.0885        0.0930        90.6398\n",
      "     55        0.0933        0.0931        91.7510\n",
      "     56        0.0992        0.0955        87.3700\n",
      "     57        0.0941        0.1064        91.6253\n",
      "     58        0.0966        0.0993        93.3453\n",
      "     59        0.0952        0.0958        88.0362\n",
      "     60        0.0946        0.1034        85.5197\n",
      "     61        0.0925        0.0950        85.1941\n",
      "     62        0.0958        \u001b[32m0.0920\u001b[0m     +  86.2377\n",
      "     63        0.0962        0.0956        84.2994\n",
      "     64        0.0880        \u001b[32m0.0908\u001b[0m     +  88.1458\n",
      "     65        \u001b[36m0.0839\u001b[0m        0.0923        85.2593\n",
      "     66        0.0924        \u001b[32m0.0903\u001b[0m     +  85.7677\n",
      "     67        0.0904        \u001b[32m0.0896\u001b[0m     +  83.6753\n",
      "     68        0.0884        \u001b[32m0.0892\u001b[0m     +  82.4670\n",
      "     69        0.0860        0.0898        85.0896\n",
      "     70        0.0957        0.0894        77.5396\n",
      "     71        0.0852        \u001b[32m0.0890\u001b[0m     +  85.0801\n",
      "     72        0.0882        0.0909        82.3982\n",
      "     73        0.0886        \u001b[32m0.0887\u001b[0m     +  84.5163\n",
      "     74        0.0870        0.0887        81.2513\n",
      "     75        0.0857        0.0888        84.8258\n",
      "     76        0.0865        \u001b[32m0.0885\u001b[0m     +  85.1292\n",
      "     77        0.0972        0.0962        80.6047\n",
      "     78        0.0939        0.1305        84.5298\n",
      "     79        0.0892        0.0919        84.2342\n",
      "     80        0.0926        0.0894        88.2228\n",
      "     81        0.0902        0.0947        87.3801\n",
      "     82        0.0928        0.0948        82.9307\n",
      "     83        0.0909        0.0907        82.4392\n",
      "     84        0.0908        0.0888        87.8089\n",
      "     85        0.0872        0.0889        82.3587\n",
      "     86        0.0872        \u001b[32m0.0880\u001b[0m     +  85.3091\n",
      "     87        0.0851        0.0881        78.4965\n",
      "     88        0.0881        0.0908        79.4816\n",
      "     89        0.0876        \u001b[32m0.0864\u001b[0m     +  81.8152\n",
      "     90        0.0862        \u001b[32m0.0863\u001b[0m     +  82.9859\n",
      "     91        \u001b[36m0.0822\u001b[0m        \u001b[32m0.0862\u001b[0m     +  80.3536\n",
      "     92        0.0848        \u001b[32m0.0855\u001b[0m     +  80.5252\n",
      "     93        0.0833        \u001b[32m0.0853\u001b[0m     +  80.8942\n",
      "     94        \u001b[36m0.0811\u001b[0m        0.0854        85.3626\n",
      "     95        \u001b[36m0.0804\u001b[0m        0.0858        89.8444\n",
      "     96        0.0860        \u001b[32m0.0853\u001b[0m     +  88.2316\n",
      "     97        0.0809        \u001b[32m0.0843\u001b[0m     +  88.3939\n",
      "     98        0.0828        0.0843        82.2489\n",
      "     99        0.0839        0.0844        86.5192\n",
      "    100        0.0843        0.0846        78.5819\n",
      "    101        0.0830        \u001b[32m0.0842\u001b[0m     +  80.8555\n",
      "    102        0.0902        0.0919        86.4679\n",
      "    103        0.0889        0.1076        87.9291\n",
      "    104        0.0907        0.0879        80.9348\n",
      "    105        0.0828        0.0959        86.1368\n",
      "    106        0.0847        0.0894        77.6989\n",
      "    107        0.0851        0.0869        86.5586\n",
      "    108        0.0833        0.0858        80.7877\n",
      "    109        0.0858        0.0859        82.2460\n",
      "    110        0.0945        0.0885        87.4442\n",
      "    111        0.0827        0.0879        78.1760\n",
      "    112        0.0830        0.0851        84.3650\n",
      "    113        0.0851        0.0896        77.5912\n",
      "    114        0.0814        0.0918        75.7676\n",
      "    115        \u001b[36m0.0761\u001b[0m        0.0929        86.7904\n",
      "    116        0.0856        0.0923        84.0627\n",
      "    117        0.0837        \u001b[32m0.0832\u001b[0m     +  86.8508\n",
      "    118        0.0791        \u001b[32m0.0825\u001b[0m     +  85.9146\n",
      "    119        0.0797        0.0876        83.7036\n",
      "    120        0.0806        \u001b[32m0.0822\u001b[0m     +  88.1033\n",
      "    121        0.0781        \u001b[32m0.0808\u001b[0m     +  86.6856\n",
      "    122        0.0795        0.0814        83.0980\n",
      "    123        0.0770        0.0827        84.6456\n",
      "    124        \u001b[36m0.0760\u001b[0m        0.0813        83.9756\n",
      "    125        0.0804        0.0813        87.6052\n",
      "    126        0.0767        0.0809        84.4246\n",
      "    127        \u001b[36m0.0747\u001b[0m        \u001b[32m0.0803\u001b[0m     +  78.8567\n",
      "    128        0.0787        0.0803        76.0380\n",
      "    129        0.0760        \u001b[32m0.0802\u001b[0m     +  76.4607\n",
      "    130        \u001b[36m0.0737\u001b[0m        \u001b[32m0.0801\u001b[0m     +  85.6498\n",
      "    131        0.0754        0.0802        86.1884\n",
      "    132        0.0841        0.0838        89.3555\n",
      "    133        0.0870        0.1126        83.3812\n"
     ]
    },
    {
     "name": "stdout",
     "output_type": "stream",
     "text": [
      "    134        0.0840        0.0906        84.6439\n",
      "    135        0.0840        0.1129        76.3375\n",
      "    136        0.0890        0.0832        83.4143\n",
      "    137        0.0830        0.0820        87.7290\n",
      "    138        0.0841        0.0858        80.2441\n",
      "    139        0.0894        0.0879        87.1121\n",
      "    140        0.0804        0.0851        81.5386\n",
      "    141        0.0770        0.0853        83.8086\n",
      "    142        0.0827        0.0847        79.1177\n",
      "    143        0.0797        0.0823        78.7545\n",
      "    144        0.0756        0.0922        84.7394\n",
      "    145        0.0773        0.1091        84.9418\n",
      "    146        0.0785        \u001b[32m0.0789\u001b[0m     +  78.4321\n",
      "    147        \u001b[36m0.0717\u001b[0m        0.0794        85.9226\n",
      "    148        0.0768        0.0873        82.6602\n",
      "    149        0.0759        0.0833        72.6876\n",
      "    150        0.0769        \u001b[32m0.0772\u001b[0m     +  82.8383\n",
      "    151        0.0749        0.0791        85.3816\n",
      "    152        0.0733        \u001b[32m0.0766\u001b[0m     +  87.4208\n",
      "    153        0.0728        0.0825        88.8927\n",
      "    154        \u001b[36m0.0690\u001b[0m        0.0775        85.3032\n",
      "    155        0.0737        \u001b[32m0.0754\u001b[0m     +  85.6613\n",
      "    156        0.0725        0.0764        90.7668\n",
      "    157        0.0753        0.0777        84.3797\n",
      "    158        0.0743        0.0761        92.5471\n",
      "    159        \u001b[36m0.0681\u001b[0m        \u001b[32m0.0749\u001b[0m     +  83.2845\n",
      "    160        0.0737        0.0755        92.8346\n",
      "    161        0.0706        0.0752        85.0059\n",
      "    162        0.0694        0.0753        89.0666\n",
      "    163        \u001b[36m0.0680\u001b[0m        0.0749        82.9565\n",
      "    164        0.0681        0.0751        82.7709\n",
      "    165        0.0693        0.0751        85.5086\n",
      "    166        \u001b[36m0.0662\u001b[0m        0.0750        90.7625\n",
      "    167        0.0692        \u001b[32m0.0748\u001b[0m     +  83.4317\n",
      "    168        0.0776        0.0801        88.9947\n",
      "    169        0.0784        0.0835        84.5132\n",
      "    170        0.0767        0.0805        95.4891\n",
      "    171        0.0816        0.0953        100.0274\n",
      "    172        0.0844        0.0840        93.3902\n",
      "    173        0.0773        0.0875        84.7108\n",
      "    174        0.0781        0.0805        84.7220\n",
      "    175        0.0777        0.0857        88.3277\n",
      "    176        0.0731        0.0791        85.9270\n",
      "    177        0.0753        0.0792        85.9596\n",
      "    178        0.0702        0.0811        99.8191\n",
      "    179        0.0774        0.0795        91.1148\n",
      "    180        0.0713        0.0763        94.7591\n",
      "    181        0.0725        0.0783        90.8109\n",
      "    182        0.0716        0.0799        94.2981\n",
      "    183        0.0715        0.0828        99.0706\n",
      "    184        0.0740        0.0755        90.5067\n",
      "    185        0.0718        0.0788        95.3811\n",
      "    186        0.0718        0.0754        103.8327\n",
      "    187        0.0728        0.0752        94.6396\n",
      "    188        0.0685        0.0782        95.9094\n",
      "    189        0.0723        0.0754        99.6930\n",
      "    190        0.0707        \u001b[32m0.0745\u001b[0m     +  106.4908\n",
      "    191        \u001b[36m0.0659\u001b[0m        \u001b[32m0.0741\u001b[0m     +  103.2828\n",
      "    192        0.0700        0.0748        96.6347\n",
      "    193        0.0664        0.0746        103.0827\n",
      "    194        \u001b[36m0.0652\u001b[0m        \u001b[32m0.0731\u001b[0m     +  87.5860\n",
      "    195        \u001b[36m0.0644\u001b[0m        0.0734        102.3777\n",
      "    196        0.0684        0.0769        108.7813\n",
      "    197        0.0687        0.0742        110.6254\n",
      "    198        0.0663        \u001b[32m0.0722\u001b[0m     +  107.7177\n",
      "    199        0.0663        0.0727        107.8368\n",
      "    200        0.0681        0.0733        111.0676\n",
      "    201        \u001b[36m0.0642\u001b[0m        \u001b[32m0.0712\u001b[0m     +  112.6594\n",
      "    202        \u001b[36m0.0623\u001b[0m        0.0724        111.4215\n",
      "    203        0.0632        0.0727        110.8174\n",
      "    204        0.0627        0.0734        113.8205\n",
      "    205        0.0654        0.0714        103.8663\n",
      "    206        \u001b[36m0.0585\u001b[0m        0.0722        111.9265\n",
      "    207        0.0645        0.0726        120.1288\n",
      "    208        0.0622        0.0719        121.3009\n",
      "    209        0.0639        0.0715        107.3841\n",
      "    210        0.0633        \u001b[32m0.0711\u001b[0m     +  109.3239\n",
      "    211        0.0751        0.0897        102.2575\n",
      "    212        0.0752        0.0779        95.5928\n",
      "    213        0.0803        0.0845        92.7092\n",
      "    214        0.0780        0.0778        98.6265\n",
      "    215        0.0796        0.0852        96.7097\n",
      "    216        0.0728        0.0903        100.4917\n",
      "    217        0.0740        0.0792        89.7412\n",
      "    218        0.0745        0.0779        115.5868\n",
      "    219        0.0736        0.1002        106.3086\n",
      "    220        0.0752        0.0763        106.0687\n",
      "    221        0.0739        0.0739        111.0983\n",
      "    222        0.0725        0.0931        103.1407\n",
      "    223        0.0782        0.0869        101.8112\n",
      "    224        0.0751        0.0750        99.5720\n",
      "    225        0.0699        0.0753        105.9892\n",
      "    226        0.0695        0.0782        100.8863\n",
      "    227        0.0723        0.0803        104.8752\n",
      "    228        0.0687        0.0736        104.6140\n",
      "    229        0.0709        0.0746        113.6920\n",
      "    230        0.0676        0.0758        100.7458\n",
      "    231        0.0667        0.0732        121.4821\n",
      "    232        0.0704        0.0757        101.2324\n",
      "    233        0.0666        0.0785        114.9134\n",
      "    234        0.0662        0.0730        116.2032\n",
      "    235        0.0653        0.0744        114.9487\n",
      "    236        0.0645        0.0727        116.9279\n",
      "    237        0.0634        0.0739        117.8350\n",
      "    238        0.0671        \u001b[32m0.0710\u001b[0m     +  111.4218\n",
      "    239        0.0651        0.0714        109.7687\n",
      "    240        0.0597        \u001b[32m0.0709\u001b[0m     +  123.0965\n",
      "    241        0.0612        0.0719        116.4290\n",
      "    242        0.0611        0.0713        113.5457\n",
      "    243        0.0615        0.0762        127.9567\n",
      "    244        \u001b[36m0.0569\u001b[0m        \u001b[32m0.0701\u001b[0m     +  123.3498\n",
      "    245        0.0640        0.0713        111.1924\n",
      "    246        0.0569        \u001b[32m0.0700\u001b[0m     +  109.0124\n",
      "    247        0.0600        0.0702        114.5141\n",
      "    248        0.0600        \u001b[32m0.0696\u001b[0m     +  128.6477\n",
      "    249        0.0584        0.0763        108.3098\n",
      "    250        0.0583        \u001b[32m0.0694\u001b[0m     +  128.3312\n",
      "    251        \u001b[36m0.0568\u001b[0m        0.0696        116.5127\n",
      "    252        \u001b[36m0.0555\u001b[0m        \u001b[32m0.0691\u001b[0m     +  122.6147\n",
      "    253        0.0557        0.0694        125.8425\n",
      "    254        0.0599        0.0693        131.7220\n",
      "    255        0.0570        0.0692        122.1426\n",
      "    256        0.0597        0.0693        134.7629\n",
      "    257        0.0597        0.0695        134.0075\n",
      "    258        \u001b[36m0.0537\u001b[0m        \u001b[32m0.0690\u001b[0m     +  129.9122\n",
      "    259        \u001b[36m0.0536\u001b[0m        0.0691        129.5155\n",
      "    260        0.0586        0.0692        41.3003\n",
      "    261        0.0599        0.0692        36.2406\n",
      "    262        0.0604        0.0691        34.7064\n",
      "    263        0.0712        0.0912        35.0232\n",
      "    264        0.0771        0.0807        32.4310\n",
      "    265        0.0775        0.0798        31.5197\n",
      "    266        0.0729        0.0971        31.5915\n",
      "    267        0.0693        0.0861        32.2366\n",
      "    268        0.0686        0.0854        31.7448\n",
      "    269        0.0702        0.0893        32.1547\n",
      "    270        0.0726        0.0761        31.8568\n",
      "    271        0.0723        0.0952        32.0028\n",
      "    272        0.0721        0.0859        33.9723\n",
      "    273        0.0711        0.1110        32.2865\n",
      "    274        0.0780        0.0722        33.1196\n",
      "    275        0.0694        0.0735        32.0264\n",
      "    276        0.0666        0.0951        31.0791\n",
      "    277        0.0735        0.0917        31.5423\n",
      "    278        0.0681        0.0754        33.4257\n",
      "    279        0.0644        0.0734        32.9513\n",
      "    280        0.0714        0.0780        33.4142\n",
      "    281        0.0644        0.0737        37.1480\n",
      "    282        0.0666        0.0744        31.8308\n",
      "    283        0.0646        0.0725        32.2032\n",
      "    284        0.0634        0.0806        31.7709\n",
      "    285        0.0683        0.0705        32.8348\n",
      "    286        0.0620        0.0714        36.1218\n",
      "    287        0.0653        0.0719        32.1202\n"
     ]
    },
    {
     "name": "stdout",
     "output_type": "stream",
     "text": [
      "    288        0.0615        0.0904        33.4310\n",
      "    289        0.0659        0.0725        36.6947\n",
      "    290        0.0656        0.0807        36.4099\n",
      "    291        0.0632        0.0756        35.1100\n",
      "    292        0.0621        0.0708        33.1181\n",
      "    293        0.0602        0.0717        33.7198\n",
      "    294        0.0584        0.0825        34.5700\n",
      "    295        0.0587        0.0698        36.2929\n",
      "    296        0.0604        0.0690        32.9684\n",
      "    297        0.0576        0.0707        35.8311\n",
      "    298        0.0589        0.0737        34.8728\n",
      "    299        0.0588        0.0710        34.5565\n",
      "    300        0.0547        0.0695        34.0523\n",
      "    301        0.0574        0.0699        35.3289\n",
      "    302        0.0561        \u001b[32m0.0686\u001b[0m     +  33.1720\n",
      "    303        0.0574        \u001b[32m0.0683\u001b[0m     +  34.1559\n"
     ]
    },
    {
     "ename": "RuntimeError",
     "evalue": "CUDA out of memory. Tried to allocate 2.00 MiB (GPU 0; 11.78 GiB total capacity; 2.05 GiB already allocated; 4.88 MiB free; 215.39 MiB cached)",
     "output_type": "error",
     "traceback": [
      "\u001b[0;31m---------------------------------------------------------------------------\u001b[0m",
      "\u001b[0;31mRuntimeError\u001b[0m                              Traceback (most recent call last)",
      "\u001b[0;32m<ipython-input-10-0cf85e7ab73c>\u001b[0m in \u001b[0;36m<module>\u001b[0;34m\u001b[0m\n\u001b[1;32m      1\u001b[0m \u001b[0mnet\u001b[0m\u001b[0;34m.\u001b[0m\u001b[0minitialize\u001b[0m\u001b[0;34m(\u001b[0m\u001b[0;34m)\u001b[0m\u001b[0;34m\u001b[0m\u001b[0;34m\u001b[0m\u001b[0m\n\u001b[0;32m----> 2\u001b[0;31m \u001b[0mnet\u001b[0m\u001b[0;34m.\u001b[0m\u001b[0mfit\u001b[0m\u001b[0;34m(\u001b[0m\u001b[0mSDT_training\u001b[0m\u001b[0;34m,\u001b[0m \u001b[0mtarget_training\u001b[0m\u001b[0;34m)\u001b[0m\u001b[0;34m\u001b[0m\u001b[0;34m\u001b[0m\u001b[0m\n\u001b[0m",
      "\u001b[0;32m~/miniconda3/envs/schnet2/lib/python3.7/site-packages/skorch/regressor.py\u001b[0m in \u001b[0;36mfit\u001b[0;34m(self, X, y, **fit_params)\u001b[0m\n\u001b[1;32m     88\u001b[0m         \u001b[0;31m# this is actually a pylint bug:\u001b[0m\u001b[0;34m\u001b[0m\u001b[0;34m\u001b[0m\u001b[0;34m\u001b[0m\u001b[0m\n\u001b[1;32m     89\u001b[0m         \u001b[0;31m# https://github.com/PyCQA/pylint/issues/1085\u001b[0m\u001b[0;34m\u001b[0m\u001b[0;34m\u001b[0m\u001b[0;34m\u001b[0m\u001b[0m\n\u001b[0;32m---> 90\u001b[0;31m         \u001b[0;32mreturn\u001b[0m \u001b[0msuper\u001b[0m\u001b[0;34m(\u001b[0m\u001b[0mNeuralNetRegressor\u001b[0m\u001b[0;34m,\u001b[0m \u001b[0mself\u001b[0m\u001b[0;34m)\u001b[0m\u001b[0;34m.\u001b[0m\u001b[0mfit\u001b[0m\u001b[0;34m(\u001b[0m\u001b[0mX\u001b[0m\u001b[0;34m,\u001b[0m \u001b[0my\u001b[0m\u001b[0;34m,\u001b[0m \u001b[0;34m**\u001b[0m\u001b[0mfit_params\u001b[0m\u001b[0;34m)\u001b[0m\u001b[0;34m\u001b[0m\u001b[0;34m\u001b[0m\u001b[0m\n\u001b[0m",
      "\u001b[0;32m~/miniconda3/envs/schnet2/lib/python3.7/site-packages/skorch/net.py\u001b[0m in \u001b[0;36mfit\u001b[0;34m(self, X, y, **fit_params)\u001b[0m\n\u001b[1;32m    843\u001b[0m             \u001b[0mself\u001b[0m\u001b[0;34m.\u001b[0m\u001b[0minitialize\u001b[0m\u001b[0;34m(\u001b[0m\u001b[0;34m)\u001b[0m\u001b[0;34m\u001b[0m\u001b[0;34m\u001b[0m\u001b[0m\n\u001b[1;32m    844\u001b[0m \u001b[0;34m\u001b[0m\u001b[0m\n\u001b[0;32m--> 845\u001b[0;31m         \u001b[0mself\u001b[0m\u001b[0;34m.\u001b[0m\u001b[0mpartial_fit\u001b[0m\u001b[0;34m(\u001b[0m\u001b[0mX\u001b[0m\u001b[0;34m,\u001b[0m \u001b[0my\u001b[0m\u001b[0;34m,\u001b[0m \u001b[0;34m**\u001b[0m\u001b[0mfit_params\u001b[0m\u001b[0;34m)\u001b[0m\u001b[0;34m\u001b[0m\u001b[0;34m\u001b[0m\u001b[0m\n\u001b[0m\u001b[1;32m    846\u001b[0m         \u001b[0;32mreturn\u001b[0m \u001b[0mself\u001b[0m\u001b[0;34m\u001b[0m\u001b[0;34m\u001b[0m\u001b[0m\n\u001b[1;32m    847\u001b[0m \u001b[0;34m\u001b[0m\u001b[0m\n",
      "\u001b[0;32m~/miniconda3/envs/schnet2/lib/python3.7/site-packages/skorch/net.py\u001b[0m in \u001b[0;36mpartial_fit\u001b[0;34m(self, X, y, classes, **fit_params)\u001b[0m\n\u001b[1;32m    802\u001b[0m         \u001b[0mself\u001b[0m\u001b[0;34m.\u001b[0m\u001b[0mnotify\u001b[0m\u001b[0;34m(\u001b[0m\u001b[0;34m'on_train_begin'\u001b[0m\u001b[0;34m,\u001b[0m \u001b[0mX\u001b[0m\u001b[0;34m=\u001b[0m\u001b[0mX\u001b[0m\u001b[0;34m,\u001b[0m \u001b[0my\u001b[0m\u001b[0;34m=\u001b[0m\u001b[0my\u001b[0m\u001b[0;34m)\u001b[0m\u001b[0;34m\u001b[0m\u001b[0;34m\u001b[0m\u001b[0m\n\u001b[1;32m    803\u001b[0m         \u001b[0;32mtry\u001b[0m\u001b[0;34m:\u001b[0m\u001b[0;34m\u001b[0m\u001b[0;34m\u001b[0m\u001b[0m\n\u001b[0;32m--> 804\u001b[0;31m             \u001b[0mself\u001b[0m\u001b[0;34m.\u001b[0m\u001b[0mfit_loop\u001b[0m\u001b[0;34m(\u001b[0m\u001b[0mX\u001b[0m\u001b[0;34m,\u001b[0m \u001b[0my\u001b[0m\u001b[0;34m,\u001b[0m \u001b[0;34m**\u001b[0m\u001b[0mfit_params\u001b[0m\u001b[0;34m)\u001b[0m\u001b[0;34m\u001b[0m\u001b[0;34m\u001b[0m\u001b[0m\n\u001b[0m\u001b[1;32m    805\u001b[0m         \u001b[0;32mexcept\u001b[0m \u001b[0mKeyboardInterrupt\u001b[0m\u001b[0;34m:\u001b[0m\u001b[0;34m\u001b[0m\u001b[0;34m\u001b[0m\u001b[0m\n\u001b[1;32m    806\u001b[0m             \u001b[0;32mpass\u001b[0m\u001b[0;34m\u001b[0m\u001b[0;34m\u001b[0m\u001b[0m\n",
      "\u001b[0;32m~/miniconda3/envs/schnet2/lib/python3.7/site-packages/skorch/net.py\u001b[0m in \u001b[0;36mfit_loop\u001b[0;34m(self, X, y, epochs, **fit_params)\u001b[0m\n\u001b[1;32m    752\u001b[0m                 \u001b[0myi_res\u001b[0m \u001b[0;34m=\u001b[0m \u001b[0myi\u001b[0m \u001b[0;32mif\u001b[0m \u001b[0;32mnot\u001b[0m \u001b[0my_valid_is_ph\u001b[0m \u001b[0;32melse\u001b[0m \u001b[0;32mNone\u001b[0m\u001b[0;34m\u001b[0m\u001b[0;34m\u001b[0m\u001b[0m\n\u001b[1;32m    753\u001b[0m                 \u001b[0mself\u001b[0m\u001b[0;34m.\u001b[0m\u001b[0mnotify\u001b[0m\u001b[0;34m(\u001b[0m\u001b[0;34m'on_batch_begin'\u001b[0m\u001b[0;34m,\u001b[0m \u001b[0mX\u001b[0m\u001b[0;34m=\u001b[0m\u001b[0mXi\u001b[0m\u001b[0;34m,\u001b[0m \u001b[0my\u001b[0m\u001b[0;34m=\u001b[0m\u001b[0myi_res\u001b[0m\u001b[0;34m,\u001b[0m \u001b[0mtraining\u001b[0m\u001b[0;34m=\u001b[0m\u001b[0;32mFalse\u001b[0m\u001b[0;34m)\u001b[0m\u001b[0;34m\u001b[0m\u001b[0;34m\u001b[0m\u001b[0m\n\u001b[0;32m--> 754\u001b[0;31m                 \u001b[0mstep\u001b[0m \u001b[0;34m=\u001b[0m \u001b[0mself\u001b[0m\u001b[0;34m.\u001b[0m\u001b[0mvalidation_step\u001b[0m\u001b[0;34m(\u001b[0m\u001b[0mXi\u001b[0m\u001b[0;34m,\u001b[0m \u001b[0myi\u001b[0m\u001b[0;34m,\u001b[0m \u001b[0;34m**\u001b[0m\u001b[0mfit_params\u001b[0m\u001b[0;34m)\u001b[0m\u001b[0;34m\u001b[0m\u001b[0;34m\u001b[0m\u001b[0m\n\u001b[0m\u001b[1;32m    755\u001b[0m                 \u001b[0mself\u001b[0m\u001b[0;34m.\u001b[0m\u001b[0mhistory\u001b[0m\u001b[0;34m.\u001b[0m\u001b[0mrecord_batch\u001b[0m\u001b[0;34m(\u001b[0m\u001b[0;34m'valid_loss'\u001b[0m\u001b[0;34m,\u001b[0m \u001b[0mstep\u001b[0m\u001b[0;34m[\u001b[0m\u001b[0;34m'loss'\u001b[0m\u001b[0;34m]\u001b[0m\u001b[0;34m.\u001b[0m\u001b[0mitem\u001b[0m\u001b[0;34m(\u001b[0m\u001b[0;34m)\u001b[0m\u001b[0;34m)\u001b[0m\u001b[0;34m\u001b[0m\u001b[0;34m\u001b[0m\u001b[0m\n\u001b[1;32m    756\u001b[0m                 \u001b[0mself\u001b[0m\u001b[0;34m.\u001b[0m\u001b[0mhistory\u001b[0m\u001b[0;34m.\u001b[0m\u001b[0mrecord_batch\u001b[0m\u001b[0;34m(\u001b[0m\u001b[0;34m'valid_batch_size'\u001b[0m\u001b[0;34m,\u001b[0m \u001b[0mget_len\u001b[0m\u001b[0;34m(\u001b[0m\u001b[0mXi\u001b[0m\u001b[0;34m)\u001b[0m\u001b[0;34m)\u001b[0m\u001b[0;34m\u001b[0m\u001b[0;34m\u001b[0m\u001b[0m\n",
      "\u001b[0;32m~/miniconda3/envs/schnet2/lib/python3.7/site-packages/skorch/net.py\u001b[0m in \u001b[0;36mvalidation_step\u001b[0;34m(self, Xi, yi, **fit_params)\u001b[0m\n\u001b[1;32m    577\u001b[0m         \u001b[0mself\u001b[0m\u001b[0;34m.\u001b[0m\u001b[0mmodule_\u001b[0m\u001b[0;34m.\u001b[0m\u001b[0meval\u001b[0m\u001b[0;34m(\u001b[0m\u001b[0;34m)\u001b[0m\u001b[0;34m\u001b[0m\u001b[0;34m\u001b[0m\u001b[0m\n\u001b[1;32m    578\u001b[0m         \u001b[0;31m#with torch.no_grad():\u001b[0m\u001b[0;34m\u001b[0m\u001b[0;34m\u001b[0m\u001b[0;34m\u001b[0m\u001b[0m\n\u001b[0;32m--> 579\u001b[0;31m         \u001b[0my_pred\u001b[0m \u001b[0;34m=\u001b[0m \u001b[0mself\u001b[0m\u001b[0;34m.\u001b[0m\u001b[0minfer\u001b[0m\u001b[0;34m(\u001b[0m\u001b[0mXi\u001b[0m\u001b[0;34m,\u001b[0m \u001b[0;34m**\u001b[0m\u001b[0mfit_params\u001b[0m\u001b[0;34m)\u001b[0m\u001b[0;34m\u001b[0m\u001b[0;34m\u001b[0m\u001b[0m\n\u001b[0m\u001b[1;32m    580\u001b[0m         \u001b[0mloss\u001b[0m \u001b[0;34m=\u001b[0m \u001b[0mself\u001b[0m\u001b[0;34m.\u001b[0m\u001b[0mget_loss\u001b[0m\u001b[0;34m(\u001b[0m\u001b[0my_pred\u001b[0m\u001b[0;34m,\u001b[0m \u001b[0myi\u001b[0m\u001b[0;34m,\u001b[0m \u001b[0mX\u001b[0m\u001b[0;34m=\u001b[0m\u001b[0mXi\u001b[0m\u001b[0;34m,\u001b[0m \u001b[0mtraining\u001b[0m\u001b[0;34m=\u001b[0m\u001b[0;32mFalse\u001b[0m\u001b[0;34m)\u001b[0m\u001b[0;34m\u001b[0m\u001b[0;34m\u001b[0m\u001b[0m\n\u001b[1;32m    581\u001b[0m         return {\n",
      "\u001b[0;32m~/miniconda3/envs/schnet2/lib/python3.7/site-packages/skorch/net.py\u001b[0m in \u001b[0;36minfer\u001b[0;34m(self, x, **fit_params)\u001b[0m\n\u001b[1;32m    976\u001b[0m         \u001b[0;32mif\u001b[0m \u001b[0misinstance\u001b[0m\u001b[0;34m(\u001b[0m\u001b[0mx\u001b[0m\u001b[0;34m,\u001b[0m \u001b[0mdict\u001b[0m\u001b[0;34m)\u001b[0m\u001b[0;34m:\u001b[0m\u001b[0;34m\u001b[0m\u001b[0;34m\u001b[0m\u001b[0m\n\u001b[1;32m    977\u001b[0m             \u001b[0mx_dict\u001b[0m \u001b[0;34m=\u001b[0m \u001b[0mself\u001b[0m\u001b[0;34m.\u001b[0m\u001b[0m_merge_x_and_fit_params\u001b[0m\u001b[0;34m(\u001b[0m\u001b[0mx\u001b[0m\u001b[0;34m,\u001b[0m \u001b[0mfit_params\u001b[0m\u001b[0;34m)\u001b[0m\u001b[0;34m\u001b[0m\u001b[0;34m\u001b[0m\u001b[0m\n\u001b[0;32m--> 978\u001b[0;31m             \u001b[0;32mreturn\u001b[0m \u001b[0mself\u001b[0m\u001b[0;34m.\u001b[0m\u001b[0mmodule_\u001b[0m\u001b[0;34m(\u001b[0m\u001b[0;34m**\u001b[0m\u001b[0mx_dict\u001b[0m\u001b[0;34m)\u001b[0m\u001b[0;34m\u001b[0m\u001b[0;34m\u001b[0m\u001b[0m\n\u001b[0m\u001b[1;32m    979\u001b[0m         \u001b[0;32mreturn\u001b[0m \u001b[0mself\u001b[0m\u001b[0;34m.\u001b[0m\u001b[0mmodule_\u001b[0m\u001b[0;34m(\u001b[0m\u001b[0mx\u001b[0m\u001b[0;34m,\u001b[0m \u001b[0;34m**\u001b[0m\u001b[0mfit_params\u001b[0m\u001b[0;34m)\u001b[0m\u001b[0;34m\u001b[0m\u001b[0;34m\u001b[0m\u001b[0m\n\u001b[1;32m    980\u001b[0m \u001b[0;34m\u001b[0m\u001b[0m\n",
      "\u001b[0;32m~/miniconda3/envs/schnet2/lib/python3.7/site-packages/torch/nn/modules/module.py\u001b[0m in \u001b[0;36m__call__\u001b[0;34m(self, *input, **kwargs)\u001b[0m\n\u001b[1;32m    545\u001b[0m             \u001b[0mresult\u001b[0m \u001b[0;34m=\u001b[0m \u001b[0mself\u001b[0m\u001b[0;34m.\u001b[0m\u001b[0m_slow_forward\u001b[0m\u001b[0;34m(\u001b[0m\u001b[0;34m*\u001b[0m\u001b[0minput\u001b[0m\u001b[0;34m,\u001b[0m \u001b[0;34m**\u001b[0m\u001b[0mkwargs\u001b[0m\u001b[0;34m)\u001b[0m\u001b[0;34m\u001b[0m\u001b[0;34m\u001b[0m\u001b[0m\n\u001b[1;32m    546\u001b[0m         \u001b[0;32melse\u001b[0m\u001b[0;34m:\u001b[0m\u001b[0;34m\u001b[0m\u001b[0;34m\u001b[0m\u001b[0m\n\u001b[0;32m--> 547\u001b[0;31m             \u001b[0mresult\u001b[0m \u001b[0;34m=\u001b[0m \u001b[0mself\u001b[0m\u001b[0;34m.\u001b[0m\u001b[0mforward\u001b[0m\u001b[0;34m(\u001b[0m\u001b[0;34m*\u001b[0m\u001b[0minput\u001b[0m\u001b[0;34m,\u001b[0m \u001b[0;34m**\u001b[0m\u001b[0mkwargs\u001b[0m\u001b[0;34m)\u001b[0m\u001b[0;34m\u001b[0m\u001b[0;34m\u001b[0m\u001b[0m\n\u001b[0m\u001b[1;32m    548\u001b[0m         \u001b[0;32mfor\u001b[0m \u001b[0mhook\u001b[0m \u001b[0;32min\u001b[0m \u001b[0mself\u001b[0m\u001b[0;34m.\u001b[0m\u001b[0m_forward_hooks\u001b[0m\u001b[0;34m.\u001b[0m\u001b[0mvalues\u001b[0m\u001b[0;34m(\u001b[0m\u001b[0;34m)\u001b[0m\u001b[0;34m:\u001b[0m\u001b[0;34m\u001b[0m\u001b[0;34m\u001b[0m\u001b[0m\n\u001b[1;32m    549\u001b[0m             \u001b[0mhook_result\u001b[0m \u001b[0;34m=\u001b[0m \u001b[0mhook\u001b[0m\u001b[0;34m(\u001b[0m\u001b[0mself\u001b[0m\u001b[0;34m,\u001b[0m \u001b[0minput\u001b[0m\u001b[0;34m,\u001b[0m \u001b[0mresult\u001b[0m\u001b[0;34m)\u001b[0m\u001b[0;34m\u001b[0m\u001b[0;34m\u001b[0m\u001b[0m\n",
      "\u001b[0;32m~/Desktop/Differentiable_Optimization_GCN/Differentiable_Optimization_GCN/cgcnn/model_sigopt.py\u001b[0m in \u001b[0;36mforward\u001b[0;34m(self, atom_fea, nbr_fea, nbr_fea_idx, nbr_fea_offset, crystal_atom_idx, atom_pos, nbr_pos, atom_pos_idx, cells, fixed_atom_mask, atom_pos_final)\u001b[0m\n\u001b[1;32m    294\u001b[0m \u001b[0;34m\u001b[0m\u001b[0m\n\u001b[1;32m    295\u001b[0m             \u001b[0mgrad_E\u001b[0m \u001b[0;34m=\u001b[0m \u001b[0mpotential_E\u001b[0m\u001b[0;34m.\u001b[0m\u001b[0msum\u001b[0m\u001b[0;34m(\u001b[0m\u001b[0;34m)\u001b[0m \u001b[0;31m#.sum()\u001b[0m\u001b[0;34m\u001b[0m\u001b[0;34m\u001b[0m\u001b[0m\n\u001b[0;32m--> 296\u001b[0;31m             \u001b[0mgrad\u001b[0m \u001b[0;34m=\u001b[0m \u001b[0mtorch\u001b[0m\u001b[0;34m.\u001b[0m\u001b[0mautograd\u001b[0m\u001b[0;34m.\u001b[0m\u001b[0mgrad\u001b[0m\u001b[0;34m(\u001b[0m\u001b[0mgrad_E\u001b[0m\u001b[0;34m,\u001b[0m \u001b[0matom_pos\u001b[0m\u001b[0;34m,\u001b[0m \u001b[0mretain_graph\u001b[0m\u001b[0;34m=\u001b[0m\u001b[0;32mTrue\u001b[0m\u001b[0;34m,\u001b[0m \u001b[0mcreate_graph\u001b[0m\u001b[0;34m=\u001b[0m\u001b[0;32mTrue\u001b[0m\u001b[0;34m)\u001b[0m\u001b[0;34m[\u001b[0m\u001b[0;36m0\u001b[0m\u001b[0;34m]\u001b[0m\u001b[0;34m\u001b[0m\u001b[0;34m\u001b[0m\u001b[0m\n\u001b[0m\u001b[1;32m    297\u001b[0m \u001b[0;34m\u001b[0m\u001b[0m\n\u001b[1;32m    298\u001b[0m             \u001b[0mgrad\u001b[0m\u001b[0;34m[\u001b[0m\u001b[0mfixed_atom_idx\u001b[0m\u001b[0;34m]\u001b[0m \u001b[0;34m=\u001b[0m \u001b[0;36m0\u001b[0m\u001b[0;34m\u001b[0m\u001b[0;34m\u001b[0m\u001b[0m\n",
      "\u001b[0;32m~/miniconda3/envs/schnet2/lib/python3.7/site-packages/torch/autograd/__init__.py\u001b[0m in \u001b[0;36mgrad\u001b[0;34m(outputs, inputs, grad_outputs, retain_graph, create_graph, only_inputs, allow_unused)\u001b[0m\n\u001b[1;32m    147\u001b[0m     return Variable._execution_engine.run_backward(\n\u001b[1;32m    148\u001b[0m         \u001b[0moutputs\u001b[0m\u001b[0;34m,\u001b[0m \u001b[0mgrad_outputs\u001b[0m\u001b[0;34m,\u001b[0m \u001b[0mretain_graph\u001b[0m\u001b[0;34m,\u001b[0m \u001b[0mcreate_graph\u001b[0m\u001b[0;34m,\u001b[0m\u001b[0;34m\u001b[0m\u001b[0;34m\u001b[0m\u001b[0m\n\u001b[0;32m--> 149\u001b[0;31m         inputs, allow_unused)\n\u001b[0m\u001b[1;32m    150\u001b[0m \u001b[0;34m\u001b[0m\u001b[0m\n\u001b[1;32m    151\u001b[0m \u001b[0;34m\u001b[0m\u001b[0m\n",
      "\u001b[0;31mRuntimeError\u001b[0m: CUDA out of memory. Tried to allocate 2.00 MiB (GPU 0; 11.78 GiB total capacity; 2.05 GiB already allocated; 4.88 MiB free; 215.39 MiB cached)"
     ]
    }
   ],
   "source": [
    "net.initialize()\n",
    "net.fit(SDT_training, target_training)"
   ]
  },
  {
   "cell_type": "code",
   "execution_count": null,
   "metadata": {},
   "outputs": [],
   "source": []
  },
  {
   "cell_type": "code",
   "execution_count": 9,
   "metadata": {
    "scrolled": true
   },
   "outputs": [
    {
     "name": "stderr",
     "output_type": "stream",
     "text": [
      "/home/junwoony/miniconda3/envs/schnet2/lib/python3.7/site-packages/torch/optim/lr_scheduler.py:82: UserWarning: Detected call of `lr_scheduler.step()` before `optimizer.step()`. In PyTorch 1.1.0 and later, you should call them in the opposite order: `optimizer.step()` before `lr_scheduler.step()`.  Failure to do this will result in PyTorch skipping the first value of the learning rate schedule.See more details at https://pytorch.org/docs/stable/optim.html#how-to-adjust-learning-rate\n",
      "  \"https://pytorch.org/docs/stable/optim.html#how-to-adjust-learning-rate\", UserWarning)\n"
     ]
    },
    {
     "name": "stdout",
     "output_type": "stream",
     "text": [
      "  epoch    train_loss    valid_loss    cp      dur\n",
      "-------  ------------  ------------  ----  -------\n",
      "      1        \u001b[36m0.1185\u001b[0m        \u001b[32m0.1218\u001b[0m     +  32.2326\n",
      "      2        0.1203        \u001b[32m0.1210\u001b[0m     +  31.6294\n",
      "      3        0.1190        0.1211        31.7579\n",
      "      4        \u001b[36m0.1180\u001b[0m        0.1211        31.8141\n"
     ]
    },
    {
     "ename": "KeyboardInterrupt",
     "evalue": "",
     "output_type": "error",
     "traceback": [
      "\u001b[0;31m---------------------------------------------------------------------------\u001b[0m",
      "\u001b[0;31mKeyboardInterrupt\u001b[0m                         Traceback (most recent call last)",
      "\u001b[0;32m<ipython-input-9-32a99a96616a>\u001b[0m in \u001b[0;36m<module>\u001b[0;34m\u001b[0m\n\u001b[1;32m     22\u001b[0m                     n_jobs=1, n_iter=50, scoring=get_scorer('neg_mean_absolute_error'))\n\u001b[1;32m     23\u001b[0m \u001b[0;34m\u001b[0m\u001b[0m\n\u001b[0;32m---> 24\u001b[0;31m \u001b[0mclf\u001b[0m\u001b[0;34m.\u001b[0m\u001b[0mfit\u001b[0m\u001b[0;34m(\u001b[0m\u001b[0mSDT_training\u001b[0m\u001b[0;34m,\u001b[0m \u001b[0mtarget_training\u001b[0m\u001b[0;34m)\u001b[0m\u001b[0;34m\u001b[0m\u001b[0;34m\u001b[0m\u001b[0m\n\u001b[0m",
      "\u001b[0;32m~/miniconda3/envs/schnet2/lib/python3.7/site-packages/sigopt_sklearn/search.py\u001b[0m in \u001b[0;36mfit\u001b[0;34m(self, X, y, groups, **fit_params)\u001b[0m\n\u001b[1;32m    445\u001b[0m             \u001b[0;32mNone\u001b[0m \u001b[0;32mfor\u001b[0m \u001b[0munsupervised\u001b[0m \u001b[0mlearning\u001b[0m\u001b[0;34m.\u001b[0m\u001b[0;34m\u001b[0m\u001b[0;34m\u001b[0m\u001b[0m\n\u001b[1;32m    446\u001b[0m         \"\"\"\n\u001b[0;32m--> 447\u001b[0;31m         \u001b[0;32mreturn\u001b[0m \u001b[0mself\u001b[0m\u001b[0;34m.\u001b[0m\u001b[0m_fit\u001b[0m\u001b[0;34m(\u001b[0m\u001b[0mX\u001b[0m\u001b[0;34m,\u001b[0m \u001b[0my\u001b[0m\u001b[0;34m=\u001b[0m\u001b[0my\u001b[0m\u001b[0;34m,\u001b[0m \u001b[0mgroups\u001b[0m\u001b[0;34m=\u001b[0m\u001b[0mgroups\u001b[0m\u001b[0;34m,\u001b[0m \u001b[0;34m**\u001b[0m\u001b[0mfit_params\u001b[0m\u001b[0;34m)\u001b[0m\u001b[0;34m\u001b[0m\u001b[0;34m\u001b[0m\u001b[0m\n\u001b[0m",
      "\u001b[0;32m~/miniconda3/envs/schnet2/lib/python3.7/site-packages/sigopt_sklearn/search.py\u001b[0m in \u001b[0;36m_fit\u001b[0;34m(self, X, y, groups, parameter_iterable, **fit_params)\u001b[0m\n\u001b[1;32m    377\u001b[0m                                             \u001b[0mreturn_parameters\u001b[0m\u001b[0;34m=\u001b[0m\u001b[0;32mTrue\u001b[0m\u001b[0;34m,\u001b[0m\u001b[0;34m\u001b[0m\u001b[0;34m\u001b[0m\u001b[0m\n\u001b[1;32m    378\u001b[0m                                             error_score=self.error_score)\n\u001b[0;32m--> 379\u001b[0;31m                         \u001b[0;32mfor\u001b[0m \u001b[0mparameters\u001b[0m \u001b[0;32min\u001b[0m \u001b[0mparameter_configs\u001b[0m\u001b[0;34m\u001b[0m\u001b[0;34m\u001b[0m\u001b[0m\n\u001b[0m\u001b[1;32m    380\u001b[0m                         for train, test in cv_iter)\n\u001b[1;32m    381\u001b[0m             \u001b[0;32mexcept\u001b[0m \u001b[0mTimeoutError\u001b[0m\u001b[0;34m:\u001b[0m\u001b[0;34m\u001b[0m\u001b[0;34m\u001b[0m\u001b[0m\n",
      "\u001b[0;32m~/miniconda3/envs/schnet2/lib/python3.7/site-packages/joblib-0.14.1.dev0-py3.7.egg/joblib/parallel.py\u001b[0m in \u001b[0;36m__call__\u001b[0;34m(self, iterable)\u001b[0m\n\u001b[1;32m   1002\u001b[0m             \u001b[0;31m# remaining jobs.\u001b[0m\u001b[0;34m\u001b[0m\u001b[0;34m\u001b[0m\u001b[0;34m\u001b[0m\u001b[0m\n\u001b[1;32m   1003\u001b[0m             \u001b[0mself\u001b[0m\u001b[0;34m.\u001b[0m\u001b[0m_iterating\u001b[0m \u001b[0;34m=\u001b[0m \u001b[0;32mFalse\u001b[0m\u001b[0;34m\u001b[0m\u001b[0;34m\u001b[0m\u001b[0m\n\u001b[0;32m-> 1004\u001b[0;31m             \u001b[0;32mif\u001b[0m \u001b[0mself\u001b[0m\u001b[0;34m.\u001b[0m\u001b[0mdispatch_one_batch\u001b[0m\u001b[0;34m(\u001b[0m\u001b[0miterator\u001b[0m\u001b[0;34m)\u001b[0m\u001b[0;34m:\u001b[0m\u001b[0;34m\u001b[0m\u001b[0;34m\u001b[0m\u001b[0m\n\u001b[0m\u001b[1;32m   1005\u001b[0m                 \u001b[0mself\u001b[0m\u001b[0;34m.\u001b[0m\u001b[0m_iterating\u001b[0m \u001b[0;34m=\u001b[0m \u001b[0mself\u001b[0m\u001b[0;34m.\u001b[0m\u001b[0m_original_iterator\u001b[0m \u001b[0;32mis\u001b[0m \u001b[0;32mnot\u001b[0m \u001b[0;32mNone\u001b[0m\u001b[0;34m\u001b[0m\u001b[0;34m\u001b[0m\u001b[0m\n\u001b[1;32m   1006\u001b[0m \u001b[0;34m\u001b[0m\u001b[0m\n",
      "\u001b[0;32m~/miniconda3/envs/schnet2/lib/python3.7/site-packages/joblib-0.14.1.dev0-py3.7.egg/joblib/parallel.py\u001b[0m in \u001b[0;36mdispatch_one_batch\u001b[0;34m(self, iterator)\u001b[0m\n\u001b[1;32m    833\u001b[0m                 \u001b[0;32mreturn\u001b[0m \u001b[0;32mFalse\u001b[0m\u001b[0;34m\u001b[0m\u001b[0;34m\u001b[0m\u001b[0m\n\u001b[1;32m    834\u001b[0m             \u001b[0;32melse\u001b[0m\u001b[0;34m:\u001b[0m\u001b[0;34m\u001b[0m\u001b[0;34m\u001b[0m\u001b[0m\n\u001b[0;32m--> 835\u001b[0;31m                 \u001b[0mself\u001b[0m\u001b[0;34m.\u001b[0m\u001b[0m_dispatch\u001b[0m\u001b[0;34m(\u001b[0m\u001b[0mtasks\u001b[0m\u001b[0;34m)\u001b[0m\u001b[0;34m\u001b[0m\u001b[0;34m\u001b[0m\u001b[0m\n\u001b[0m\u001b[1;32m    836\u001b[0m                 \u001b[0;32mreturn\u001b[0m \u001b[0;32mTrue\u001b[0m\u001b[0;34m\u001b[0m\u001b[0;34m\u001b[0m\u001b[0m\n\u001b[1;32m    837\u001b[0m \u001b[0;34m\u001b[0m\u001b[0m\n",
      "\u001b[0;32m~/miniconda3/envs/schnet2/lib/python3.7/site-packages/joblib-0.14.1.dev0-py3.7.egg/joblib/parallel.py\u001b[0m in \u001b[0;36m_dispatch\u001b[0;34m(self, batch)\u001b[0m\n\u001b[1;32m    752\u001b[0m         \u001b[0;32mwith\u001b[0m \u001b[0mself\u001b[0m\u001b[0;34m.\u001b[0m\u001b[0m_lock\u001b[0m\u001b[0;34m:\u001b[0m\u001b[0;34m\u001b[0m\u001b[0;34m\u001b[0m\u001b[0m\n\u001b[1;32m    753\u001b[0m             \u001b[0mjob_idx\u001b[0m \u001b[0;34m=\u001b[0m \u001b[0mlen\u001b[0m\u001b[0;34m(\u001b[0m\u001b[0mself\u001b[0m\u001b[0;34m.\u001b[0m\u001b[0m_jobs\u001b[0m\u001b[0;34m)\u001b[0m\u001b[0;34m\u001b[0m\u001b[0;34m\u001b[0m\u001b[0m\n\u001b[0;32m--> 754\u001b[0;31m             \u001b[0mjob\u001b[0m \u001b[0;34m=\u001b[0m \u001b[0mself\u001b[0m\u001b[0;34m.\u001b[0m\u001b[0m_backend\u001b[0m\u001b[0;34m.\u001b[0m\u001b[0mapply_async\u001b[0m\u001b[0;34m(\u001b[0m\u001b[0mbatch\u001b[0m\u001b[0;34m,\u001b[0m \u001b[0mcallback\u001b[0m\u001b[0;34m=\u001b[0m\u001b[0mcb\u001b[0m\u001b[0;34m)\u001b[0m\u001b[0;34m\u001b[0m\u001b[0;34m\u001b[0m\u001b[0m\n\u001b[0m\u001b[1;32m    755\u001b[0m             \u001b[0;31m# A job can complete so quickly than its callback is\u001b[0m\u001b[0;34m\u001b[0m\u001b[0;34m\u001b[0m\u001b[0;34m\u001b[0m\u001b[0m\n\u001b[1;32m    756\u001b[0m             \u001b[0;31m# called before we get here, causing self._jobs to\u001b[0m\u001b[0;34m\u001b[0m\u001b[0;34m\u001b[0m\u001b[0;34m\u001b[0m\u001b[0m\n",
      "\u001b[0;32m~/miniconda3/envs/schnet2/lib/python3.7/site-packages/joblib-0.14.1.dev0-py3.7.egg/joblib/_parallel_backends.py\u001b[0m in \u001b[0;36mapply_async\u001b[0;34m(self, func, callback)\u001b[0m\n\u001b[1;32m    207\u001b[0m     \u001b[0;32mdef\u001b[0m \u001b[0mapply_async\u001b[0m\u001b[0;34m(\u001b[0m\u001b[0mself\u001b[0m\u001b[0;34m,\u001b[0m \u001b[0mfunc\u001b[0m\u001b[0;34m,\u001b[0m \u001b[0mcallback\u001b[0m\u001b[0;34m=\u001b[0m\u001b[0;32mNone\u001b[0m\u001b[0;34m)\u001b[0m\u001b[0;34m:\u001b[0m\u001b[0;34m\u001b[0m\u001b[0;34m\u001b[0m\u001b[0m\n\u001b[1;32m    208\u001b[0m         \u001b[0;34m\"\"\"Schedule a func to be run\"\"\"\u001b[0m\u001b[0;34m\u001b[0m\u001b[0;34m\u001b[0m\u001b[0m\n\u001b[0;32m--> 209\u001b[0;31m         \u001b[0mresult\u001b[0m \u001b[0;34m=\u001b[0m \u001b[0mImmediateResult\u001b[0m\u001b[0;34m(\u001b[0m\u001b[0mfunc\u001b[0m\u001b[0;34m)\u001b[0m\u001b[0;34m\u001b[0m\u001b[0;34m\u001b[0m\u001b[0m\n\u001b[0m\u001b[1;32m    210\u001b[0m         \u001b[0;32mif\u001b[0m \u001b[0mcallback\u001b[0m\u001b[0;34m:\u001b[0m\u001b[0;34m\u001b[0m\u001b[0;34m\u001b[0m\u001b[0m\n\u001b[1;32m    211\u001b[0m             \u001b[0mcallback\u001b[0m\u001b[0;34m(\u001b[0m\u001b[0mresult\u001b[0m\u001b[0;34m)\u001b[0m\u001b[0;34m\u001b[0m\u001b[0;34m\u001b[0m\u001b[0m\n",
      "\u001b[0;32m~/miniconda3/envs/schnet2/lib/python3.7/site-packages/joblib-0.14.1.dev0-py3.7.egg/joblib/_parallel_backends.py\u001b[0m in \u001b[0;36m__init__\u001b[0;34m(self, batch)\u001b[0m\n\u001b[1;32m    588\u001b[0m         \u001b[0;31m# Don't delay the application, to avoid keeping the input\u001b[0m\u001b[0;34m\u001b[0m\u001b[0;34m\u001b[0m\u001b[0;34m\u001b[0m\u001b[0m\n\u001b[1;32m    589\u001b[0m         \u001b[0;31m# arguments in memory\u001b[0m\u001b[0;34m\u001b[0m\u001b[0;34m\u001b[0m\u001b[0;34m\u001b[0m\u001b[0m\n\u001b[0;32m--> 590\u001b[0;31m         \u001b[0mself\u001b[0m\u001b[0;34m.\u001b[0m\u001b[0mresults\u001b[0m \u001b[0;34m=\u001b[0m \u001b[0mbatch\u001b[0m\u001b[0;34m(\u001b[0m\u001b[0;34m)\u001b[0m\u001b[0;34m\u001b[0m\u001b[0;34m\u001b[0m\u001b[0m\n\u001b[0m\u001b[1;32m    591\u001b[0m \u001b[0;34m\u001b[0m\u001b[0m\n\u001b[1;32m    592\u001b[0m     \u001b[0;32mdef\u001b[0m \u001b[0mget\u001b[0m\u001b[0;34m(\u001b[0m\u001b[0mself\u001b[0m\u001b[0;34m)\u001b[0m\u001b[0;34m:\u001b[0m\u001b[0;34m\u001b[0m\u001b[0;34m\u001b[0m\u001b[0m\n",
      "\u001b[0;32m~/miniconda3/envs/schnet2/lib/python3.7/site-packages/joblib-0.14.1.dev0-py3.7.egg/joblib/parallel.py\u001b[0m in \u001b[0;36m__call__\u001b[0;34m(self)\u001b[0m\n\u001b[1;32m    254\u001b[0m         \u001b[0;32mwith\u001b[0m \u001b[0mparallel_backend\u001b[0m\u001b[0;34m(\u001b[0m\u001b[0mself\u001b[0m\u001b[0;34m.\u001b[0m\u001b[0m_backend\u001b[0m\u001b[0;34m,\u001b[0m \u001b[0mn_jobs\u001b[0m\u001b[0;34m=\u001b[0m\u001b[0mself\u001b[0m\u001b[0;34m.\u001b[0m\u001b[0m_n_jobs\u001b[0m\u001b[0;34m)\u001b[0m\u001b[0;34m:\u001b[0m\u001b[0;34m\u001b[0m\u001b[0;34m\u001b[0m\u001b[0m\n\u001b[1;32m    255\u001b[0m             return [func(*args, **kwargs)\n\u001b[0;32m--> 256\u001b[0;31m                     for func, args, kwargs in self.items]\n\u001b[0m\u001b[1;32m    257\u001b[0m \u001b[0;34m\u001b[0m\u001b[0m\n\u001b[1;32m    258\u001b[0m     \u001b[0;32mdef\u001b[0m \u001b[0m__len__\u001b[0m\u001b[0;34m(\u001b[0m\u001b[0mself\u001b[0m\u001b[0;34m)\u001b[0m\u001b[0;34m:\u001b[0m\u001b[0;34m\u001b[0m\u001b[0;34m\u001b[0m\u001b[0m\n",
      "\u001b[0;32m~/miniconda3/envs/schnet2/lib/python3.7/site-packages/joblib-0.14.1.dev0-py3.7.egg/joblib/parallel.py\u001b[0m in \u001b[0;36m<listcomp>\u001b[0;34m(.0)\u001b[0m\n\u001b[1;32m    254\u001b[0m         \u001b[0;32mwith\u001b[0m \u001b[0mparallel_backend\u001b[0m\u001b[0;34m(\u001b[0m\u001b[0mself\u001b[0m\u001b[0;34m.\u001b[0m\u001b[0m_backend\u001b[0m\u001b[0;34m,\u001b[0m \u001b[0mn_jobs\u001b[0m\u001b[0;34m=\u001b[0m\u001b[0mself\u001b[0m\u001b[0;34m.\u001b[0m\u001b[0m_n_jobs\u001b[0m\u001b[0;34m)\u001b[0m\u001b[0;34m:\u001b[0m\u001b[0;34m\u001b[0m\u001b[0;34m\u001b[0m\u001b[0m\n\u001b[1;32m    255\u001b[0m             return [func(*args, **kwargs)\n\u001b[0;32m--> 256\u001b[0;31m                     for func, args, kwargs in self.items]\n\u001b[0m\u001b[1;32m    257\u001b[0m \u001b[0;34m\u001b[0m\u001b[0m\n\u001b[1;32m    258\u001b[0m     \u001b[0;32mdef\u001b[0m \u001b[0m__len__\u001b[0m\u001b[0;34m(\u001b[0m\u001b[0mself\u001b[0m\u001b[0;34m)\u001b[0m\u001b[0;34m:\u001b[0m\u001b[0;34m\u001b[0m\u001b[0;34m\u001b[0m\u001b[0m\n",
      "\u001b[0;32m~/miniconda3/envs/schnet2/lib/python3.7/site-packages/sklearn/model_selection/_validation.py\u001b[0m in \u001b[0;36m_fit_and_score\u001b[0;34m(estimator, X, y, scorer, train, test, verbose, parameters, fit_params, return_train_score, return_parameters, return_n_test_samples, return_times, return_estimator, error_score)\u001b[0m\n\u001b[1;32m    568\u001b[0m         \u001b[0mfit_time\u001b[0m \u001b[0;34m=\u001b[0m \u001b[0mtime\u001b[0m\u001b[0;34m.\u001b[0m\u001b[0mtime\u001b[0m\u001b[0;34m(\u001b[0m\u001b[0;34m)\u001b[0m \u001b[0;34m-\u001b[0m \u001b[0mstart_time\u001b[0m\u001b[0;34m\u001b[0m\u001b[0;34m\u001b[0m\u001b[0m\n\u001b[1;32m    569\u001b[0m         \u001b[0;31m# _score will return dict if is_multimetric is True\u001b[0m\u001b[0;34m\u001b[0m\u001b[0;34m\u001b[0m\u001b[0;34m\u001b[0m\u001b[0m\n\u001b[0;32m--> 570\u001b[0;31m         \u001b[0mtest_scores\u001b[0m \u001b[0;34m=\u001b[0m \u001b[0m_score\u001b[0m\u001b[0;34m(\u001b[0m\u001b[0mestimator\u001b[0m\u001b[0;34m,\u001b[0m \u001b[0mX_test\u001b[0m\u001b[0;34m,\u001b[0m \u001b[0my_test\u001b[0m\u001b[0;34m,\u001b[0m \u001b[0mscorer\u001b[0m\u001b[0;34m,\u001b[0m \u001b[0mis_multimetric\u001b[0m\u001b[0;34m)\u001b[0m\u001b[0;34m\u001b[0m\u001b[0;34m\u001b[0m\u001b[0m\n\u001b[0m\u001b[1;32m    571\u001b[0m         \u001b[0mscore_time\u001b[0m \u001b[0;34m=\u001b[0m \u001b[0mtime\u001b[0m\u001b[0;34m.\u001b[0m\u001b[0mtime\u001b[0m\u001b[0;34m(\u001b[0m\u001b[0;34m)\u001b[0m \u001b[0;34m-\u001b[0m \u001b[0mstart_time\u001b[0m \u001b[0;34m-\u001b[0m \u001b[0mfit_time\u001b[0m\u001b[0;34m\u001b[0m\u001b[0;34m\u001b[0m\u001b[0m\n\u001b[1;32m    572\u001b[0m         \u001b[0;32mif\u001b[0m \u001b[0mreturn_train_score\u001b[0m\u001b[0;34m:\u001b[0m\u001b[0;34m\u001b[0m\u001b[0;34m\u001b[0m\u001b[0m\n",
      "\u001b[0;32m~/miniconda3/envs/schnet2/lib/python3.7/site-packages/sklearn/model_selection/_validation.py\u001b[0m in \u001b[0;36m_score\u001b[0;34m(estimator, X_test, y_test, scorer, is_multimetric)\u001b[0m\n\u001b[1;32m    610\u001b[0m             \u001b[0mscore\u001b[0m \u001b[0;34m=\u001b[0m \u001b[0mscorer\u001b[0m\u001b[0;34m(\u001b[0m\u001b[0mestimator\u001b[0m\u001b[0;34m,\u001b[0m \u001b[0mX_test\u001b[0m\u001b[0;34m)\u001b[0m\u001b[0;34m\u001b[0m\u001b[0;34m\u001b[0m\u001b[0m\n\u001b[1;32m    611\u001b[0m         \u001b[0;32melse\u001b[0m\u001b[0;34m:\u001b[0m\u001b[0;34m\u001b[0m\u001b[0;34m\u001b[0m\u001b[0m\n\u001b[0;32m--> 612\u001b[0;31m             \u001b[0mscore\u001b[0m \u001b[0;34m=\u001b[0m \u001b[0mscorer\u001b[0m\u001b[0;34m(\u001b[0m\u001b[0mestimator\u001b[0m\u001b[0;34m,\u001b[0m \u001b[0mX_test\u001b[0m\u001b[0;34m,\u001b[0m \u001b[0my_test\u001b[0m\u001b[0;34m)\u001b[0m\u001b[0;34m\u001b[0m\u001b[0;34m\u001b[0m\u001b[0m\n\u001b[0m\u001b[1;32m    613\u001b[0m \u001b[0;34m\u001b[0m\u001b[0m\n\u001b[1;32m    614\u001b[0m         \u001b[0;32mif\u001b[0m \u001b[0mhasattr\u001b[0m\u001b[0;34m(\u001b[0m\u001b[0mscore\u001b[0m\u001b[0;34m,\u001b[0m \u001b[0;34m'item'\u001b[0m\u001b[0;34m)\u001b[0m\u001b[0;34m:\u001b[0m\u001b[0;34m\u001b[0m\u001b[0;34m\u001b[0m\u001b[0m\n",
      "\u001b[0;32m~/miniconda3/envs/schnet2/lib/python3.7/site-packages/sklearn/metrics/scorer.py\u001b[0m in \u001b[0;36m__call__\u001b[0;34m(self, estimator, X, y_true, sample_weight)\u001b[0m\n\u001b[1;32m     89\u001b[0m         \"\"\"\n\u001b[1;32m     90\u001b[0m \u001b[0;34m\u001b[0m\u001b[0m\n\u001b[0;32m---> 91\u001b[0;31m         \u001b[0my_pred\u001b[0m \u001b[0;34m=\u001b[0m \u001b[0mestimator\u001b[0m\u001b[0;34m.\u001b[0m\u001b[0mpredict\u001b[0m\u001b[0;34m(\u001b[0m\u001b[0mX\u001b[0m\u001b[0;34m)\u001b[0m\u001b[0;34m\u001b[0m\u001b[0;34m\u001b[0m\u001b[0m\n\u001b[0m\u001b[1;32m     92\u001b[0m         \u001b[0;32mif\u001b[0m \u001b[0msample_weight\u001b[0m \u001b[0;32mis\u001b[0m \u001b[0;32mnot\u001b[0m \u001b[0;32mNone\u001b[0m\u001b[0;34m:\u001b[0m\u001b[0;34m\u001b[0m\u001b[0;34m\u001b[0m\u001b[0m\n\u001b[1;32m     93\u001b[0m             return self._sign * self._score_func(y_true, y_pred,\n",
      "\u001b[0;32m~/miniconda3/envs/schnet2/lib/python3.7/site-packages/skorch/net.py\u001b[0m in \u001b[0;36mpredict\u001b[0;34m(self, X)\u001b[0m\n\u001b[1;32m   1047\u001b[0m \u001b[0;34m\u001b[0m\u001b[0m\n\u001b[1;32m   1048\u001b[0m         \"\"\"\n\u001b[0;32m-> 1049\u001b[0;31m         \u001b[0;32mreturn\u001b[0m \u001b[0mself\u001b[0m\u001b[0;34m.\u001b[0m\u001b[0mpredict_proba\u001b[0m\u001b[0;34m(\u001b[0m\u001b[0mX\u001b[0m\u001b[0;34m)\u001b[0m\u001b[0;34m\u001b[0m\u001b[0;34m\u001b[0m\u001b[0m\n\u001b[0m\u001b[1;32m   1050\u001b[0m \u001b[0;34m\u001b[0m\u001b[0m\n\u001b[1;32m   1051\u001b[0m     \u001b[0;31m# pylint: disable=unused-argument\u001b[0m\u001b[0;34m\u001b[0m\u001b[0;34m\u001b[0m\u001b[0;34m\u001b[0m\u001b[0m\n",
      "\u001b[0;32m~/miniconda3/envs/schnet2/lib/python3.7/site-packages/skorch/net.py\u001b[0m in \u001b[0;36mpredict_proba\u001b[0;34m(self, X)\u001b[0m\n\u001b[1;32m   1011\u001b[0m         \"\"\"\n\u001b[1;32m   1012\u001b[0m         \u001b[0my_probas\u001b[0m \u001b[0;34m=\u001b[0m \u001b[0;34m[\u001b[0m\u001b[0;34m]\u001b[0m\u001b[0;34m\u001b[0m\u001b[0;34m\u001b[0m\u001b[0m\n\u001b[0;32m-> 1013\u001b[0;31m         \u001b[0;32mfor\u001b[0m \u001b[0myp\u001b[0m \u001b[0;32min\u001b[0m \u001b[0mself\u001b[0m\u001b[0;34m.\u001b[0m\u001b[0mforward_iter\u001b[0m\u001b[0;34m(\u001b[0m\u001b[0mX\u001b[0m\u001b[0;34m,\u001b[0m \u001b[0mtraining\u001b[0m\u001b[0;34m=\u001b[0m\u001b[0;32mFalse\u001b[0m\u001b[0;34m)\u001b[0m\u001b[0;34m:\u001b[0m\u001b[0;34m\u001b[0m\u001b[0;34m\u001b[0m\u001b[0m\n\u001b[0m\u001b[1;32m   1014\u001b[0m             \u001b[0myp\u001b[0m \u001b[0;34m=\u001b[0m \u001b[0myp\u001b[0m\u001b[0;34m[\u001b[0m\u001b[0;36m0\u001b[0m\u001b[0;34m]\u001b[0m \u001b[0;32mif\u001b[0m \u001b[0misinstance\u001b[0m\u001b[0;34m(\u001b[0m\u001b[0myp\u001b[0m\u001b[0;34m,\u001b[0m \u001b[0mtuple\u001b[0m\u001b[0;34m)\u001b[0m \u001b[0;32melse\u001b[0m \u001b[0myp\u001b[0m\u001b[0;34m\u001b[0m\u001b[0;34m\u001b[0m\u001b[0m\n\u001b[1;32m   1015\u001b[0m             \u001b[0my_probas\u001b[0m\u001b[0;34m.\u001b[0m\u001b[0mappend\u001b[0m\u001b[0;34m(\u001b[0m\u001b[0mto_numpy\u001b[0m\u001b[0;34m(\u001b[0m\u001b[0myp\u001b[0m\u001b[0;34m)\u001b[0m\u001b[0;34m)\u001b[0m\u001b[0;34m\u001b[0m\u001b[0;34m\u001b[0m\u001b[0m\n",
      "\u001b[0;32m~/miniconda3/envs/schnet2/lib/python3.7/site-packages/skorch/net.py\u001b[0m in \u001b[0;36mforward_iter\u001b[0;34m(self, X, training, device)\u001b[0m\n\u001b[1;32m    886\u001b[0m         \u001b[0miterator\u001b[0m \u001b[0;34m=\u001b[0m \u001b[0mself\u001b[0m\u001b[0;34m.\u001b[0m\u001b[0mget_iterator\u001b[0m\u001b[0;34m(\u001b[0m\u001b[0mdataset\u001b[0m\u001b[0;34m,\u001b[0m \u001b[0mtraining\u001b[0m\u001b[0;34m=\u001b[0m\u001b[0mtraining\u001b[0m\u001b[0;34m)\u001b[0m\u001b[0;34m\u001b[0m\u001b[0;34m\u001b[0m\u001b[0m\n\u001b[1;32m    887\u001b[0m         \u001b[0;32mfor\u001b[0m \u001b[0mXi\u001b[0m\u001b[0;34m,\u001b[0m \u001b[0m_\u001b[0m \u001b[0;32min\u001b[0m \u001b[0miterator\u001b[0m\u001b[0;34m:\u001b[0m\u001b[0;34m\u001b[0m\u001b[0;34m\u001b[0m\u001b[0m\n\u001b[0;32m--> 888\u001b[0;31m             \u001b[0myp\u001b[0m \u001b[0;34m=\u001b[0m \u001b[0mself\u001b[0m\u001b[0;34m.\u001b[0m\u001b[0mevaluation_step\u001b[0m\u001b[0;34m(\u001b[0m\u001b[0mXi\u001b[0m\u001b[0;34m,\u001b[0m \u001b[0mtraining\u001b[0m\u001b[0;34m=\u001b[0m\u001b[0mtraining\u001b[0m\u001b[0;34m)\u001b[0m\u001b[0;34m\u001b[0m\u001b[0;34m\u001b[0m\u001b[0m\n\u001b[0m\u001b[1;32m    889\u001b[0m             \u001b[0;32mif\u001b[0m \u001b[0misinstance\u001b[0m\u001b[0;34m(\u001b[0m\u001b[0myp\u001b[0m\u001b[0;34m,\u001b[0m \u001b[0mtuple\u001b[0m\u001b[0;34m)\u001b[0m\u001b[0;34m:\u001b[0m\u001b[0;34m\u001b[0m\u001b[0;34m\u001b[0m\u001b[0m\n\u001b[1;32m    890\u001b[0m \u001b[0;31m#                print('n',yp[0])\u001b[0m\u001b[0;34m\u001b[0m\u001b[0;34m\u001b[0m\u001b[0;34m\u001b[0m\u001b[0m\n",
      "\u001b[0;32m~/miniconda3/envs/schnet2/lib/python3.7/site-packages/skorch/net.py\u001b[0m in \u001b[0;36mevaluation_step\u001b[0;34m(self, Xi, training)\u001b[0m\n\u001b[1;32m    683\u001b[0m         \u001b[0;31m#with torch.set_grad_enabled(training):\u001b[0m\u001b[0;34m\u001b[0m\u001b[0;34m\u001b[0m\u001b[0;34m\u001b[0m\u001b[0m\n\u001b[1;32m    684\u001b[0m         \u001b[0mself\u001b[0m\u001b[0;34m.\u001b[0m\u001b[0mmodule_\u001b[0m\u001b[0;34m.\u001b[0m\u001b[0mtrain\u001b[0m\u001b[0;34m(\u001b[0m\u001b[0mtraining\u001b[0m\u001b[0;34m)\u001b[0m\u001b[0;34m\u001b[0m\u001b[0;34m\u001b[0m\u001b[0m\n\u001b[0;32m--> 685\u001b[0;31m         \u001b[0;32mreturn\u001b[0m \u001b[0mself\u001b[0m\u001b[0;34m.\u001b[0m\u001b[0minfer\u001b[0m\u001b[0;34m(\u001b[0m\u001b[0mXi\u001b[0m\u001b[0;34m)\u001b[0m\u001b[0;34m\u001b[0m\u001b[0;34m\u001b[0m\u001b[0m\n\u001b[0m\u001b[1;32m    686\u001b[0m \u001b[0;34m\u001b[0m\u001b[0m\n\u001b[1;32m    687\u001b[0m     \u001b[0;32mdef\u001b[0m \u001b[0mfit_loop\u001b[0m\u001b[0;34m(\u001b[0m\u001b[0mself\u001b[0m\u001b[0;34m,\u001b[0m \u001b[0mX\u001b[0m\u001b[0;34m,\u001b[0m \u001b[0my\u001b[0m\u001b[0;34m=\u001b[0m\u001b[0;32mNone\u001b[0m\u001b[0;34m,\u001b[0m \u001b[0mepochs\u001b[0m\u001b[0;34m=\u001b[0m\u001b[0;32mNone\u001b[0m\u001b[0;34m,\u001b[0m \u001b[0;34m**\u001b[0m\u001b[0mfit_params\u001b[0m\u001b[0;34m)\u001b[0m\u001b[0;34m:\u001b[0m\u001b[0;34m\u001b[0m\u001b[0;34m\u001b[0m\u001b[0m\n",
      "\u001b[0;32m~/miniconda3/envs/schnet2/lib/python3.7/site-packages/skorch/net.py\u001b[0m in \u001b[0;36minfer\u001b[0;34m(self, x, **fit_params)\u001b[0m\n\u001b[1;32m    976\u001b[0m         \u001b[0;32mif\u001b[0m \u001b[0misinstance\u001b[0m\u001b[0;34m(\u001b[0m\u001b[0mx\u001b[0m\u001b[0;34m,\u001b[0m \u001b[0mdict\u001b[0m\u001b[0;34m)\u001b[0m\u001b[0;34m:\u001b[0m\u001b[0;34m\u001b[0m\u001b[0;34m\u001b[0m\u001b[0m\n\u001b[1;32m    977\u001b[0m             \u001b[0mx_dict\u001b[0m \u001b[0;34m=\u001b[0m \u001b[0mself\u001b[0m\u001b[0;34m.\u001b[0m\u001b[0m_merge_x_and_fit_params\u001b[0m\u001b[0;34m(\u001b[0m\u001b[0mx\u001b[0m\u001b[0;34m,\u001b[0m \u001b[0mfit_params\u001b[0m\u001b[0;34m)\u001b[0m\u001b[0;34m\u001b[0m\u001b[0;34m\u001b[0m\u001b[0m\n\u001b[0;32m--> 978\u001b[0;31m             \u001b[0;32mreturn\u001b[0m \u001b[0mself\u001b[0m\u001b[0;34m.\u001b[0m\u001b[0mmodule_\u001b[0m\u001b[0;34m(\u001b[0m\u001b[0;34m**\u001b[0m\u001b[0mx_dict\u001b[0m\u001b[0;34m)\u001b[0m\u001b[0;34m\u001b[0m\u001b[0;34m\u001b[0m\u001b[0m\n\u001b[0m\u001b[1;32m    979\u001b[0m         \u001b[0;32mreturn\u001b[0m \u001b[0mself\u001b[0m\u001b[0;34m.\u001b[0m\u001b[0mmodule_\u001b[0m\u001b[0;34m(\u001b[0m\u001b[0mx\u001b[0m\u001b[0;34m,\u001b[0m \u001b[0;34m**\u001b[0m\u001b[0mfit_params\u001b[0m\u001b[0;34m)\u001b[0m\u001b[0;34m\u001b[0m\u001b[0;34m\u001b[0m\u001b[0m\n\u001b[1;32m    980\u001b[0m \u001b[0;34m\u001b[0m\u001b[0m\n",
      "\u001b[0;32m~/miniconda3/envs/schnet2/lib/python3.7/site-packages/torch/nn/modules/module.py\u001b[0m in \u001b[0;36m__call__\u001b[0;34m(self, *input, **kwargs)\u001b[0m\n\u001b[1;32m    545\u001b[0m             \u001b[0mresult\u001b[0m \u001b[0;34m=\u001b[0m \u001b[0mself\u001b[0m\u001b[0;34m.\u001b[0m\u001b[0m_slow_forward\u001b[0m\u001b[0;34m(\u001b[0m\u001b[0;34m*\u001b[0m\u001b[0minput\u001b[0m\u001b[0;34m,\u001b[0m \u001b[0;34m**\u001b[0m\u001b[0mkwargs\u001b[0m\u001b[0;34m)\u001b[0m\u001b[0;34m\u001b[0m\u001b[0;34m\u001b[0m\u001b[0m\n\u001b[1;32m    546\u001b[0m         \u001b[0;32melse\u001b[0m\u001b[0;34m:\u001b[0m\u001b[0;34m\u001b[0m\u001b[0;34m\u001b[0m\u001b[0m\n\u001b[0;32m--> 547\u001b[0;31m             \u001b[0mresult\u001b[0m \u001b[0;34m=\u001b[0m \u001b[0mself\u001b[0m\u001b[0;34m.\u001b[0m\u001b[0mforward\u001b[0m\u001b[0;34m(\u001b[0m\u001b[0;34m*\u001b[0m\u001b[0minput\u001b[0m\u001b[0;34m,\u001b[0m \u001b[0;34m**\u001b[0m\u001b[0mkwargs\u001b[0m\u001b[0;34m)\u001b[0m\u001b[0;34m\u001b[0m\u001b[0;34m\u001b[0m\u001b[0m\n\u001b[0m\u001b[1;32m    548\u001b[0m         \u001b[0;32mfor\u001b[0m \u001b[0mhook\u001b[0m \u001b[0;32min\u001b[0m \u001b[0mself\u001b[0m\u001b[0;34m.\u001b[0m\u001b[0m_forward_hooks\u001b[0m\u001b[0;34m.\u001b[0m\u001b[0mvalues\u001b[0m\u001b[0;34m(\u001b[0m\u001b[0;34m)\u001b[0m\u001b[0;34m:\u001b[0m\u001b[0;34m\u001b[0m\u001b[0;34m\u001b[0m\u001b[0m\n\u001b[1;32m    549\u001b[0m             \u001b[0mhook_result\u001b[0m \u001b[0;34m=\u001b[0m \u001b[0mhook\u001b[0m\u001b[0;34m(\u001b[0m\u001b[0mself\u001b[0m\u001b[0;34m,\u001b[0m \u001b[0minput\u001b[0m\u001b[0;34m,\u001b[0m \u001b[0mresult\u001b[0m\u001b[0;34m)\u001b[0m\u001b[0;34m\u001b[0m\u001b[0;34m\u001b[0m\u001b[0m\n",
      "\u001b[0;32m~/Desktop/Differentiable_Optimization_GCN/Differentiable_Optimization_GCN/cgcnn/model_sigopt.py\u001b[0m in \u001b[0;36mforward\u001b[0;34m(self, atom_fea, nbr_fea, nbr_fea_idx, nbr_fea_offset, crystal_atom_idx, atom_pos, nbr_pos, atom_pos_idx, cells, fixed_atom_mask, atom_pos_final)\u001b[0m\n\u001b[1;32m    300\u001b[0m                 \u001b[0mprint\u001b[0m\u001b[0;34m(\u001b[0m\u001b[0;34m'grad_E becomes inf'\u001b[0m\u001b[0;34m)\u001b[0m\u001b[0;34m\u001b[0m\u001b[0;34m\u001b[0m\u001b[0m\n\u001b[1;32m    301\u001b[0m             \u001b[0;31m#detect if step is going off the rails\u001b[0m\u001b[0;34m\u001b[0m\u001b[0;34m\u001b[0m\u001b[0;34m\u001b[0m\u001b[0m\n\u001b[0;32m--> 302\u001b[0;31m             \u001b[0;32mif\u001b[0m \u001b[0mtorch\u001b[0m\u001b[0;34m.\u001b[0m\u001b[0mmax\u001b[0m\u001b[0;34m(\u001b[0m\u001b[0mtorch\u001b[0m\u001b[0;34m.\u001b[0m\u001b[0misnan\u001b[0m\u001b[0;34m(\u001b[0m\u001b[0mgrad\u001b[0m\u001b[0;34m)\u001b[0m\u001b[0;34m)\u001b[0m \u001b[0;34m==\u001b[0m \u001b[0;36m1\u001b[0m\u001b[0;34m:\u001b[0m\u001b[0;34m\u001b[0m\u001b[0;34m\u001b[0m\u001b[0m\n\u001b[0m\u001b[1;32m    303\u001b[0m                 \u001b[0mprint\u001b[0m\u001b[0;34m(\u001b[0m\u001b[0;34m'nan'\u001b[0m\u001b[0;34m)\u001b[0m\u001b[0;34m\u001b[0m\u001b[0;34m\u001b[0m\u001b[0m\n\u001b[1;32m    304\u001b[0m                 \u001b[0;32mreturn\u001b[0m \u001b[0matom_pos\u001b[0m\u001b[0;34m[\u001b[0m\u001b[0mfree_atom_idx\u001b[0m\u001b[0;34m]\u001b[0m\u001b[0;34m\u001b[0m\u001b[0;34m\u001b[0m\u001b[0m\n",
      "\u001b[0;31mKeyboardInterrupt\u001b[0m: "
     ]
    }
   ],
   "source": [
    "client_token = \"TSRIPFKLRAIMUDDVQEBJHVBQRVBCDJOSKJMKEQTXWCYZDNED\"\n",
    "net_parameters = {\n",
    "                'batch_size':(20,120),\n",
    "                'lr':(np.exp(-15),np.exp(-3)),\n",
    "                'max_epochs':(50,300),\n",
    "                'module__atom_fea_len':(3,256), #46,\n",
    "                'module__h_fea_len':(3,256),\n",
    "                'module__h_fea_len_dist':(3,256),\n",
    "                'module__h_fea_len_const':(3,256),\n",
    "                'module__h_fea_len_D':(3,256),\n",
    "                'module__n_conv':(1,12), #8\n",
    "                'module__n_h_dist':(1,12),\n",
    "                'module__n_h_const':(1,12),\n",
    "                'module__n_h_D':(1,12),\n",
    "                'module__opt_step_size':(0.1,0.7),\n",
    "                'optimizer__weight_decay':(np.exp(-10),np.exp(-2))\n",
    "                }\n",
    "\n",
    "cv=ShuffleSplit(n_splits=1, test_size=0.1)\n",
    "\n",
    "clf = SigOptSearchCV(net, net_parameters, cv=train_test_splitter, client_token=client_token,\n",
    "                    n_jobs=1, n_iter=50, scoring=get_scorer('neg_mean_absolute_error'))\n",
    "\n",
    "clf.fit(SDT_training, target_training)"
   ]
  },
  {
   "cell_type": "code",
   "execution_count": null,
   "metadata": {},
   "outputs": [],
   "source": []
  },
  {
   "cell_type": "code",
   "execution_count": 11,
   "metadata": {},
   "outputs": [],
   "source": [
    "SDT_train, SDT_valid, target_train, target_valid = train_test_split(SDT_training, target_training, \n",
    "                                                                    test_size=0.1, random_state=42)\n",
    "def get_targets(dummy_SDT, dummy_targets):\n",
    "    targets = []\n",
    "    for i, target in enumerate(dummy_targets):\n",
    "        free_atom_idx = dummy_SDT[i][-2]\n",
    "        \n",
    "        targets.append(target[0].reshape(-1,3))\n",
    "    return np.concatenate(targets)\n",
    "\n",
    "def get_distance(pred, true):\n",
    "    diff = np.sum((pred - true)**2, axis=1)\n",
    "    return np.sqrt(diff)"
   ]
  },
  {
   "cell_type": "code",
   "execution_count": 12,
   "metadata": {},
   "outputs": [],
   "source": [
    "pred_train = net.predict(SDT_train)\n",
    "true_train = get_targets(SDT_train, target_train)\n",
    "distance_train = get_distance(pred_train, true_train)\n",
    "MAE_train = np.mean(distance_train)\n",
    "\n",
    "# pred_val = net.predict(SDT_valid)\n",
    "# true_val = get_targets(SDT_valid, target_valid)\n",
    "# distance_val = get_distance(pred_val, true_val)\n",
    "# MAE_val = np.mean(distance_val)\n",
    "\n",
    "pred_test = net.predict(SDT_test)\n",
    "true_test = get_targets(SDT_test, target_test)\n",
    "distance_test = get_distance(pred_test, true_test)\n",
    "MAE_test = np.mean(distance_test)"
   ]
  },
  {
   "cell_type": "code",
   "execution_count": 13,
   "metadata": {},
   "outputs": [
    {
     "data": {
      "text/plain": [
       "0.0338591"
      ]
     },
     "execution_count": 13,
     "metadata": {},
     "output_type": "execute_result"
    }
   ],
   "source": [
    "np.mean(np.abs(pred_test - true_test))"
   ]
  },
  {
   "cell_type": "code",
   "execution_count": 14,
   "metadata": {},
   "outputs": [
    {
     "ename": "IndexError",
     "evalue": "index 8 is out of bounds for axis 0 with size 3",
     "output_type": "error",
     "traceback": [
      "\u001b[0;31m---------------------------------------------------------------------------\u001b[0m",
      "\u001b[0;31mIndexError\u001b[0m                                Traceback (most recent call last)",
      "\u001b[0;32m<ipython-input-14-e6d9f1bb7e2b>\u001b[0m in \u001b[0;36m<module>\u001b[0;34m\u001b[0m\n\u001b[1;32m      1\u001b[0m \u001b[0mdifferences\u001b[0m \u001b[0;34m=\u001b[0m \u001b[0;34m[\u001b[0m\u001b[0;34m]\u001b[0m\u001b[0;34m\u001b[0m\u001b[0;34m\u001b[0m\u001b[0m\n\u001b[1;32m      2\u001b[0m \u001b[0;32mfor\u001b[0m \u001b[0msdt\u001b[0m\u001b[0;34m,\u001b[0m \u001b[0mtarget\u001b[0m \u001b[0;32min\u001b[0m \u001b[0mzip\u001b[0m\u001b[0;34m(\u001b[0m\u001b[0mpred_test\u001b[0m\u001b[0;34m,\u001b[0m \u001b[0mtrue_test\u001b[0m\u001b[0;34m)\u001b[0m\u001b[0;34m:\u001b[0m\u001b[0;34m\u001b[0m\u001b[0;34m\u001b[0m\u001b[0m\n\u001b[0;32m----> 3\u001b[0;31m     \u001b[0mdifferences\u001b[0m\u001b[0;34m.\u001b[0m\u001b[0mappend\u001b[0m\u001b[0;34m(\u001b[0m\u001b[0mdiff_position\u001b[0m\u001b[0;34m(\u001b[0m\u001b[0msdt\u001b[0m\u001b[0;34m,\u001b[0m \u001b[0mtarget\u001b[0m\u001b[0;34m)\u001b[0m\u001b[0;34m)\u001b[0m\u001b[0;34m\u001b[0m\u001b[0;34m\u001b[0m\u001b[0m\n\u001b[0m\u001b[1;32m      4\u001b[0m \u001b[0mdifferences\u001b[0m \u001b[0;34m=\u001b[0m \u001b[0mnp\u001b[0m\u001b[0;34m.\u001b[0m\u001b[0mconcatenate\u001b[0m\u001b[0;34m(\u001b[0m\u001b[0mdifferences\u001b[0m\u001b[0;34m)\u001b[0m\u001b[0;34m\u001b[0m\u001b[0;34m\u001b[0m\u001b[0m\n\u001b[1;32m      5\u001b[0m \u001b[0mnp\u001b[0m\u001b[0;34m.\u001b[0m\u001b[0mmean\u001b[0m\u001b[0;34m(\u001b[0m\u001b[0mnp\u001b[0m\u001b[0;34m.\u001b[0m\u001b[0mabs\u001b[0m\u001b[0;34m(\u001b[0m\u001b[0mdifferences\u001b[0m\u001b[0;34m)\u001b[0m\u001b[0;34m)\u001b[0m\u001b[0;34m\u001b[0m\u001b[0;34m\u001b[0m\u001b[0m\n",
      "\u001b[0;32m<ipython-input-7-88ec556f998c>\u001b[0m in \u001b[0;36mdiff_position\u001b[0;34m(sdt, target)\u001b[0m\n\u001b[1;32m      1\u001b[0m \u001b[0;32mdef\u001b[0m \u001b[0mdiff_position\u001b[0m\u001b[0;34m(\u001b[0m\u001b[0msdt\u001b[0m\u001b[0;34m,\u001b[0m \u001b[0mtarget\u001b[0m\u001b[0;34m)\u001b[0m\u001b[0;34m:\u001b[0m\u001b[0;34m\u001b[0m\u001b[0;34m\u001b[0m\u001b[0m\n\u001b[0;32m----> 2\u001b[0;31m     \u001b[0mfixed_base\u001b[0m \u001b[0;34m=\u001b[0m \u001b[0msdt\u001b[0m\u001b[0;34m[\u001b[0m\u001b[0;36m8\u001b[0m\u001b[0;34m]\u001b[0m\u001b[0;34m\u001b[0m\u001b[0;34m\u001b[0m\u001b[0m\n\u001b[0m\u001b[1;32m      3\u001b[0m     \u001b[0mfree_atom_idx\u001b[0m \u001b[0;34m=\u001b[0m \u001b[0mnp\u001b[0m\u001b[0;34m.\u001b[0m\u001b[0mwhere\u001b[0m\u001b[0;34m(\u001b[0m\u001b[0mfixed_base\u001b[0m \u001b[0;34m==\u001b[0m \u001b[0;36m0\u001b[0m\u001b[0;34m)\u001b[0m\u001b[0;34m[\u001b[0m\u001b[0;36m0\u001b[0m\u001b[0;34m]\u001b[0m\u001b[0;34m\u001b[0m\u001b[0;34m\u001b[0m\u001b[0m\n\u001b[1;32m      4\u001b[0m     \u001b[0mfree_atom_idx\u001b[0m \u001b[0;34m=\u001b[0m \u001b[0mtorch\u001b[0m\u001b[0;34m.\u001b[0m\u001b[0mLongTensor\u001b[0m\u001b[0;34m(\u001b[0m\u001b[0mfree_atom_idx\u001b[0m\u001b[0;34m)\u001b[0m\u001b[0;34m\u001b[0m\u001b[0;34m\u001b[0m\u001b[0m\n\u001b[1;32m      5\u001b[0m     \u001b[0mdiff\u001b[0m \u001b[0;34m=\u001b[0m \u001b[0;34m(\u001b[0m\u001b[0mtarget\u001b[0m\u001b[0;34m[\u001b[0m\u001b[0;36m0\u001b[0m\u001b[0;34m]\u001b[0m \u001b[0;34m-\u001b[0m \u001b[0msdt\u001b[0m\u001b[0;34m[\u001b[0m\u001b[0;36m4\u001b[0m\u001b[0;34m]\u001b[0m\u001b[0;34m.\u001b[0m\u001b[0mnumpy\u001b[0m\u001b[0;34m(\u001b[0m\u001b[0;34m)\u001b[0m\u001b[0;34m[\u001b[0m\u001b[0mfree_atom_idx\u001b[0m\u001b[0;34m]\u001b[0m\u001b[0;34m)\u001b[0m\u001b[0;34m\u001b[0m\u001b[0;34m\u001b[0m\u001b[0m\n",
      "\u001b[0;31mIndexError\u001b[0m: index 8 is out of bounds for axis 0 with size 3"
     ]
    }
   ],
   "source": [
    "differences = []\n",
    "for sdt, target in zip(pred_test, true_test):\n",
    "    differences.append(diff_position(sdt, target))\n",
    "differences = np.concatenate(differences)\n",
    "np.mean(np.abs(differences))"
   ]
  },
  {
   "cell_type": "code",
   "execution_count": 16,
   "metadata": {},
   "outputs": [
    {
     "name": "stdout",
     "output_type": "stream",
     "text": [
      "0.074342854 0.074342854\n"
     ]
    }
   ],
   "source": [
    "print(MAE_test, MAE_test)"
   ]
  },
  {
   "cell_type": "code",
   "execution_count": 17,
   "metadata": {},
   "outputs": [
    {
     "name": "stdout",
     "output_type": "stream",
     "text": [
      "3709 413 459\n"
     ]
    }
   ],
   "source": [
    "print(len(SDT_train), len(SDT_valid), len(SDT_test))"
   ]
  },
  {
   "cell_type": "code",
   "execution_count": 14,
   "metadata": {},
   "outputs": [
    {
     "data": {
      "text/plain": [
       "Text(0.5, 1.0, 'test result')"
      ]
     },
     "execution_count": 14,
     "metadata": {},
     "output_type": "execute_result"
    },
    {
     "data": {
      "image/png": "[encoded data removed]",
      "text/plain": [
       "<Figure size 432x288 with 1 Axes>"
      ]
     },
     "metadata": {
      "needs_background": "light"
     },
     "output_type": "display_data"
    }
   ],
   "source": [
    "plt.hist(distance_test, bins=20)\n",
    "plt.title('test result')"
   ]
  },
  {
   "cell_type": "code",
   "execution_count": 18,
   "metadata": {},
   "outputs": [],
   "source": [
    "docs_train, docs_val = train_test_split(docs_training, test_size=0.1, random_state=42)"
   ]
  },
  {
   "cell_type": "code",
   "execution_count": 19,
   "metadata": {},
   "outputs": [],
   "source": [
    "def analysis(SDT, docs, distance):\n",
    "    dist_per_surface = []\n",
    "    total_atoms = 0\n",
    "    for sdt in SDT:\n",
    "        num_atoms = sdt[-2].shape[0]\n",
    "        dist_per_surface.append(np.mean(distance[total_atoms: total_atoms+num_atoms]))\n",
    "        total_atoms += num_atoms\n",
    "    results =[]\n",
    "    reduced = []\n",
    "    best = []\n",
    "    bad_docs = []\n",
    "    bad_result =[]\n",
    "    good_docs=[]\n",
    "    good_result=[]\n",
    "    f = 0\n",
    "    for dist, doc in zip(dist_per_surface, docs):\n",
    "        total_steps = len(doc['distances_per_step'])\n",
    "        reduced_steps = len(np.where(doc['distances_per_step'] >= dist)[0])\n",
    "        results.append([total_steps, reduced_steps, reduced_steps/total_steps])\n",
    "        reduced.append(reduced_steps/total_steps)\n",
    "        if reduced_steps/total_steps < 0.1:\n",
    "            bad_docs.append(doc)\n",
    "            bad_result.append([total_steps, reduced_steps, reduced_steps/total_steps, dist])\n",
    "        else:\n",
    "            good_docs.append(doc)\n",
    "            good_result.append([total_steps, reduced_steps, reduced_steps/total_steps,dist])\n",
    "    \n",
    "    return results, reduced, bad_docs, bad_result,good_docs, good_result"
   ]
  },
  {
   "cell_type": "code",
   "execution_count": 20,
   "metadata": {},
   "outputs": [],
   "source": [
    "results, reduced, bad_docs, bad_result,good_docs,good_result = analysis(SDT_test, docs_test, distance_test)"
   ]
  },
  {
   "cell_type": "code",
   "execution_count": 21,
   "metadata": {
    "scrolled": true
   },
   "outputs": [
    {
     "data": {
      "text/plain": [
       "[[26, 5, 0.19230769230769232, 0.1175502],\n",
       " [26, 6, 0.23076923076923078, 0.15778206],\n",
       " [19, 6, 0.3157894736842105, 0.027491713],\n",
       " [15, 4, 0.26666666666666666, 0.04570685],\n",
       " [32, 9, 0.28125, 0.10456716],\n",
       " [19, 3, 0.15789473684210525, 0.06258627],\n",
       " [18, 4, 0.2222222222222222, 0.07884418],\n",
       " [34, 9, 0.2647058823529412, 0.17137583],\n",
       " [17, 5, 0.29411764705882354, 0.031291526],\n",
       " [21, 11, 0.5238095238095238, 0.055237968],\n",
       " [18, 4, 0.2222222222222222, 0.039373104],\n",
       " [25, 10, 0.4, 0.10506768],\n",
       " [12, 4, 0.3333333333333333, 0.04470617],\n",
       " [22, 4, 0.18181818181818182, 0.07571136],\n",
       " [26, 12, 0.46153846153846156, 0.09256738],\n",
       " [28, 5, 0.17857142857142858, 0.055534203],\n",
       " [11, 4, 0.36363636363636365, 0.0897941],\n",
       " [20, 4, 0.2, 0.058384757],\n",
       " [9, 1, 0.1111111111111111, 0.05287528],\n",
       " [14, 4, 0.2857142857142857, 0.084015235],\n",
       " [14, 3, 0.21428571428571427, 0.0542026],\n",
       " [18, 9, 0.5, 0.055651605],\n",
       " [21, 4, 0.19047619047619047, 0.046196893],\n",
       " [12, 2, 0.16666666666666666, 0.04654707],\n",
       " [16, 7, 0.4375, 0.012803385],\n",
       " [13, 4, 0.3076923076923077, 0.04300588],\n",
       " [17, 5, 0.29411764705882354, 0.048455175],\n",
       " [16, 9, 0.5625, 0.04820825],\n",
       " [13, 2, 0.15384615384615385, 0.09489951],\n",
       " [20, 7, 0.35, 0.068869136],\n",
       " [19, 5, 0.2631578947368421, 0.065287404],\n",
       " [21, 3, 0.14285714285714285, 0.055641666],\n",
       " [16, 2, 0.125, 0.043725263],\n",
       " [25, 3, 0.12, 0.085807145],\n",
       " [31, 12, 0.3870967741935484, 0.0933302],\n",
       " [13, 4, 0.3076923076923077, 0.15437767],\n",
       " [13, 7, 0.5384615384615384, 0.049105603],\n",
       " [21, 4, 0.19047619047619047, 0.08942874],\n",
       " [13, 4, 0.3076923076923077, 0.035454363],\n",
       " [18, 6, 0.3333333333333333, 0.08185808],\n",
       " [13, 3, 0.23076923076923078, 0.053989675],\n",
       " [16, 6, 0.375, 0.04190819],\n",
       " [12, 2, 0.16666666666666666, 0.08933683],\n",
       " [24, 6, 0.25, 0.06953669],\n",
       " [12, 7, 0.5833333333333334, 0.020201266],\n",
       " [19, 2, 0.10526315789473684, 0.096504785],\n",
       " [13, 6, 0.46153846153846156, 0.09371514],\n",
       " [24, 10, 0.4166666666666667, 0.07377656],\n",
       " [37, 7, 0.1891891891891892, 0.16267692],\n",
       " [7, 2, 0.2857142857142857, 0.034888476],\n",
       " [16, 2, 0.125, 0.08579684],\n",
       " [11, 3, 0.2727272727272727, 0.05394612],\n",
       " [11, 2, 0.18181818181818182, 0.033852477],\n",
       " [26, 5, 0.19230769230769232, 0.055370133],\n",
       " [13, 2, 0.15384615384615385, 0.03232052],\n",
       " [12, 5, 0.4166666666666667, 0.018032562],\n",
       " [24, 6, 0.25, 0.06463171],\n",
       " [18, 14, 0.7777777777777778, 0.018139534],\n",
       " [21, 7, 0.3333333333333333, 0.019914376],\n",
       " [5, 1, 0.2, 0.03319385],\n",
       " [17, 2, 0.11764705882352941, 0.042204265],\n",
       " [27, 7, 0.25925925925925924, 0.08556518],\n",
       " [22, 5, 0.22727272727272727, 0.044168226],\n",
       " [14, 5, 0.35714285714285715, 0.034229867],\n",
       " [19, 2, 0.10526315789473684, 0.106571786],\n",
       " [14, 3, 0.21428571428571427, 0.050115664],\n",
       " [17, 3, 0.17647058823529413, 0.060335923],\n",
       " [12, 4, 0.3333333333333333, 0.058511667],\n",
       " [15, 3, 0.2, 0.053137418],\n",
       " [25, 4, 0.16, 0.12982492],\n",
       " [13, 4, 0.3076923076923077, 0.057614945],\n",
       " [13, 4, 0.3076923076923077, 0.07043577],\n",
       " [23, 4, 0.17391304347826086, 0.100635745],\n",
       " [23, 4, 0.17391304347826086, 0.10515034],\n",
       " [31, 4, 0.12903225806451613, 0.16440363],\n",
       " [20, 5, 0.25, 0.09782046],\n",
       " [28, 3, 0.10714285714285714, 0.10090029],\n",
       " [20, 7, 0.35, 0.054444853],\n",
       " [28, 9, 0.32142857142857145, 0.08932468],\n",
       " [11, 2, 0.18181818181818182, 0.05606486],\n",
       " [17, 4, 0.23529411764705882, 0.05867237],\n",
       " [19, 6, 0.3157894736842105, 0.031048493],\n",
       " [17, 2, 0.11764705882352941, 0.14332798],\n",
       " [15, 3, 0.2, 0.051539402],\n",
       " [15, 2, 0.13333333333333333, 0.014057791],\n",
       " [17, 2, 0.11764705882352941, 0.058251012],\n",
       " [5, 1, 0.2, 0.036675286],\n",
       " [22, 11, 0.5, 0.041907094],\n",
       " [14, 3, 0.21428571428571427, 0.046492986],\n",
       " [20, 5, 0.25, 0.07353595],\n",
       " [26, 5, 0.19230769230769232, 0.055336934],\n",
       " [11, 2, 0.18181818181818182, 0.03938392],\n",
       " [16, 4, 0.25, 0.0632218],\n",
       " [16, 3, 0.1875, 0.10509849],\n",
       " [15, 4, 0.26666666666666666, 0.03381626],\n",
       " [15, 2, 0.13333333333333333, 0.05754051],\n",
       " [10, 2, 0.2, 0.04054502],\n",
       " [28, 7, 0.25, 0.062439647],\n",
       " [29, 13, 0.4482758620689655, 0.12307203],\n",
       " [26, 5, 0.19230769230769232, 0.15842797],\n",
       " [35, 8, 0.22857142857142856, 0.13842574],\n",
       " [30, 5, 0.16666666666666666, 0.061807584],\n",
       " [19, 9, 0.47368421052631576, 0.04031808],\n",
       " [17, 7, 0.4117647058823529, 0.0471012],\n",
       " [16, 2, 0.125, 0.08255981],\n",
       " [11, 2, 0.18181818181818182, 0.05116613],\n",
       " [20, 4, 0.2, 0.07904879],\n",
       " [13, 3, 0.23076923076923078, 0.051541127],\n",
       " [7, 5, 0.7142857142857143, 0.014712341],\n",
       " [17, 8, 0.47058823529411764, 0.033546418],\n",
       " [19, 4, 0.21052631578947367, 0.080736876],\n",
       " [13, 2, 0.15384615384615385, 0.06326729],\n",
       " [14, 5, 0.35714285714285715, 0.043651488],\n",
       " [21, 3, 0.14285714285714285, 0.07797196],\n",
       " [22, 4, 0.18181818181818182, 0.20742446],\n",
       " [11, 2, 0.18181818181818182, 0.088960245],\n",
       " [15, 4, 0.26666666666666666, 0.040394045],\n",
       " [16, 6, 0.375, 0.040866647],\n",
       " [21, 8, 0.38095238095238093, 0.11855636],\n",
       " [36, 8, 0.2222222222222222, 0.12754437],\n",
       " [12, 5, 0.4166666666666667, 0.03638817],\n",
       " [13, 4, 0.3076923076923077, 0.056018032],\n",
       " [17, 2, 0.11764705882352941, 0.037837267],\n",
       " [28, 11, 0.39285714285714285, 0.030346543],\n",
       " [10, 1, 0.1, 0.040089954],\n",
       " [10, 4, 0.4, 0.028722465],\n",
       " [21, 3, 0.14285714285714285, 0.05120994],\n",
       " [14, 2, 0.14285714285714285, 0.049133524],\n",
       " [32, 9, 0.28125, 0.12087138],\n",
       " [18, 4, 0.2222222222222222, 0.03502474],\n",
       " [19, 9, 0.47368421052631576, 0.060803864],\n",
       " [23, 3, 0.13043478260869565, 0.08667297],\n",
       " [11, 6, 0.5454545454545454, 0.012125151],\n",
       " [13, 2, 0.15384615384615385, 0.12234199],\n",
       " [17, 2, 0.11764705882352941, 0.16158925],\n",
       " [22, 4, 0.18181818181818182, 0.12977493],\n",
       " [30, 6, 0.2, 0.07319846],\n",
       " [23, 3, 0.13043478260869565, 0.06467216],\n",
       " [28, 3, 0.10714285714285714, 0.09684515],\n",
       " [22, 5, 0.22727272727272727, 0.06390911],\n",
       " [15, 4, 0.26666666666666666, 0.047680154],\n",
       " [12, 4, 0.3333333333333333, 0.06296874],\n",
       " [18, 3, 0.16666666666666666, 0.041178524],\n",
       " [12, 6, 0.5, 0.024142211],\n",
       " [13, 6, 0.46153846153846156, 0.023551598],\n",
       " [18, 2, 0.1111111111111111, 0.07320491],\n",
       " [12, 2, 0.16666666666666666, 0.031890508],\n",
       " [10, 1, 0.1, 0.04190429],\n",
       " [11, 2, 0.18181818181818182, 0.06110678],\n",
       " [7, 3, 0.42857142857142855, 0.03516112],\n",
       " [12, 3, 0.25, 0.044880338],\n",
       " [11, 2, 0.18181818181818182, 0.08992187],\n",
       " [15, 2, 0.13333333333333333, 0.07512745],\n",
       " [15, 2, 0.13333333333333333, 0.086702295],\n",
       " [30, 4, 0.13333333333333333, 0.043100968],\n",
       " [18, 3, 0.16666666666666666, 0.053312674],\n",
       " [29, 11, 0.3793103448275862, 0.10659294],\n",
       " [22, 3, 0.13636363636363635, 0.14074005],\n",
       " [16, 5, 0.3125, 0.028484188],\n",
       " [15, 8, 0.5333333333333333, 0.028201735],\n",
       " [6, 5, 0.8333333333333334, 0.016229577],\n",
       " [21, 4, 0.19047619047619047, 0.124342635],\n",
       " [16, 2, 0.125, 0.07343537],\n",
       " [17, 3, 0.17647058823529413, 0.036613267],\n",
       " [18, 4, 0.2222222222222222, 0.056291196],\n",
       " [21, 12, 0.5714285714285714, 0.042667408],\n",
       " [17, 8, 0.47058823529411764, 0.023014752],\n",
       " [37, 18, 0.4864864864864865, 0.10018177],\n",
       " [22, 16, 0.7272727272727273, 0.024922455],\n",
       " [21, 4, 0.19047619047619047, 0.05794631],\n",
       " [17, 11, 0.6470588235294118, 0.034692343],\n",
       " [29, 5, 0.1724137931034483, 0.11180302],\n",
       " [18, 9, 0.5, 0.027860025],\n",
       " [24, 7, 0.2916666666666667, 0.08404938],\n",
       " [19, 6, 0.3157894736842105, 0.027877472],\n",
       " [13, 2, 0.15384615384615385, 0.057358474],\n",
       " [10, 4, 0.4, 0.03409291],\n",
       " [23, 5, 0.21739130434782608, 0.091311105],\n",
       " [23, 4, 0.17391304347826086, 0.051713552],\n",
       " [20, 2, 0.1, 0.1675251],\n",
       " [16, 3, 0.1875, 0.08065844],\n",
       " [10, 5, 0.5, 0.021308318],\n",
       " [7, 1, 0.14285714285714285, 0.047478955],\n",
       " [17, 4, 0.23529411764705882, 0.04876547],\n",
       " [26, 13, 0.5, 0.031773],\n",
       " [11, 2, 0.18181818181818182, 0.05043797],\n",
       " [28, 14, 0.5, 0.120660834],\n",
       " [9, 4, 0.4444444444444444, 0.056328993],\n",
       " [13, 6, 0.46153846153846156, 0.021736868],\n",
       " [21, 7, 0.3333333333333333, 0.064752884],\n",
       " [10, 4, 0.4, 0.019712636],\n",
       " [16, 4, 0.25, 0.053417522],\n",
       " [8, 2, 0.25, 0.060692392],\n",
       " [20, 7, 0.35, 0.040211268],\n",
       " [13, 6, 0.46153846153846156, 0.039755408],\n",
       " [13, 3, 0.23076923076923078, 0.03997905],\n",
       " [28, 3, 0.10714285714285714, 0.19778866],\n",
       " [31, 5, 0.16129032258064516, 0.09796424],\n",
       " [9, 1, 0.1111111111111111, 0.057330847],\n",
       " [28, 4, 0.14285714285714285, 0.1679723],\n",
       " [8, 2, 0.25, 0.04638957],\n",
       " [12, 5, 0.4166666666666667, 0.04104831],\n",
       " [11, 6, 0.5454545454545454, 0.031563874],\n",
       " [16, 2, 0.125, 0.093603685],\n",
       " [14, 4, 0.2857142857142857, 0.05546373],\n",
       " [30, 10, 0.3333333333333333, 0.07063229],\n",
       " [13, 4, 0.3076923076923077, 0.041859224],\n",
       " [15, 5, 0.3333333333333333, 0.06824579],\n",
       " [19, 5, 0.2631578947368421, 0.07276793],\n",
       " [24, 5, 0.20833333333333334, 0.16326283],\n",
       " [12, 9, 0.75, 0.037168518],\n",
       " [11, 2, 0.18181818181818182, 0.058170073],\n",
       " [12, 6, 0.5, 0.036075827],\n",
       " [24, 6, 0.25, 0.0636565],\n",
       " [12, 3, 0.25, 0.04530174],\n",
       " [21, 6, 0.2857142857142857, 0.096656695],\n",
       " [22, 4, 0.18181818181818182, 0.034190785],\n",
       " [17, 3, 0.17647058823529413, 0.048745364],\n",
       " [17, 5, 0.29411764705882354, 0.034691162],\n",
       " [13, 2, 0.15384615384615385, 0.07202729],\n",
       " [14, 3, 0.21428571428571427, 0.043795295],\n",
       " [17, 5, 0.29411764705882354, 0.047709078],\n",
       " [16, 2, 0.125, 0.078586206],\n",
       " [29, 6, 0.20689655172413793, 0.10929839],\n",
       " [23, 3, 0.13043478260869565, 0.15665051],\n",
       " [8, 2, 0.25, 0.029112624],\n",
       " [19, 6, 0.3157894736842105, 0.043330126],\n",
       " [25, 12, 0.48, 0.043029115],\n",
       " [10, 1, 0.1, 0.055145502],\n",
       " [7, 4, 0.5714285714285714, 0.030834451],\n",
       " [22, 7, 0.3181818181818182, 0.029519245],\n",
       " [19, 2, 0.10526315789473684, 0.037706178],\n",
       " [16, 4, 0.25, 0.053949576],\n",
       " [18, 4, 0.2222222222222222, 0.04665152],\n",
       " [12, 3, 0.25, 0.03915396],\n",
       " [13, 2, 0.15384615384615385, 0.11042948],\n",
       " [11, 2, 0.18181818181818182, 0.029858898],\n",
       " [20, 5, 0.25, 0.062902644],\n",
       " [21, 10, 0.47619047619047616, 0.027044293],\n",
       " [18, 2, 0.1111111111111111, 0.18379463],\n",
       " [18, 7, 0.3888888888888889, 0.07906426],\n",
       " [19, 4, 0.21052631578947367, 0.056678016],\n",
       " [30, 5, 0.16666666666666666, 0.11935483],\n",
       " [10, 4, 0.4, 0.029962214],\n",
       " [28, 4, 0.14285714285714285, 0.08867528],\n",
       " [15, 2, 0.13333333333333333, 0.08788375],\n",
       " [18, 7, 0.3888888888888889, 0.039368305],\n",
       " [21, 3, 0.14285714285714285, 0.054519564],\n",
       " [14, 2, 0.14285714285714285, 0.054367177],\n",
       " [20, 4, 0.2, 0.029992508],\n",
       " [13, 3, 0.23076923076923078, 0.054006286],\n",
       " [12, 3, 0.25, 0.06445576],\n",
       " [9, 1, 0.1111111111111111, 0.040233046],\n",
       " [15, 6, 0.4, 0.05108502],\n",
       " [22, 3, 0.13636363636363635, 0.04510475],\n",
       " [28, 6, 0.21428571428571427, 0.13247238],\n",
       " [30, 6, 0.2, 0.026025333],\n",
       " [28, 3, 0.10714285714285714, 0.08618416],\n",
       " [20, 7, 0.35, 0.09249371],\n",
       " [28, 5, 0.17857142857142858, 0.13520241],\n",
       " [14, 2, 0.14285714285714285, 0.026398659],\n",
       " [12, 4, 0.3333333333333333, 0.039006926],\n",
       " [15, 2, 0.13333333333333333, 0.116758496],\n",
       " [12, 2, 0.16666666666666666, 0.06022475],\n",
       " [10, 2, 0.2, 0.03678969],\n",
       " [12, 6, 0.5, 0.031073669],\n",
       " [25, 7, 0.28, 0.11981537],\n",
       " [15, 4, 0.26666666666666666, 0.042766266],\n",
       " [16, 5, 0.3125, 0.031208826],\n",
       " [14, 2, 0.14285714285714285, 0.031629387],\n",
       " [13, 4, 0.3076923076923077, 0.05068242],\n",
       " [23, 14, 0.6086956521739131, 0.04176261],\n",
       " [6, 2, 0.3333333333333333, 0.021435693],\n",
       " [14, 4, 0.2857142857142857, 0.07211774],\n",
       " [18, 6, 0.3333333333333333, 0.023488037],\n",
       " [12, 5, 0.4166666666666667, 0.0237215],\n",
       " [27, 8, 0.2962962962962963, 0.12680116],\n",
       " [11, 3, 0.2727272727272727, 0.0571131],\n",
       " [18, 5, 0.2777777777777778, 0.034839828],\n",
       " [20, 5, 0.25, 0.1610678],\n",
       " [23, 3, 0.13043478260869565, 0.05445832],\n",
       " [30, 3, 0.1, 0.10871468],\n",
       " [20, 2, 0.1, 0.08819962],\n",
       " [12, 2, 0.16666666666666666, 0.0597789],\n",
       " [18, 5, 0.2777777777777778, 0.06712898],\n",
       " [14, 4, 0.2857142857142857, 0.029451406],\n",
       " [12, 4, 0.3333333333333333, 0.024222076],\n",
       " [18, 4, 0.2222222222222222, 0.11823789],\n",
       " [22, 5, 0.22727272727272727, 0.09165008],\n",
       " [13, 4, 0.3076923076923077, 0.05080585],\n",
       " [19, 4, 0.21052631578947367, 0.10855588],\n",
       " [12, 2, 0.16666666666666666, 0.037669104],\n",
       " [9, 7, 0.7777777777777778, 0.010424292],\n",
       " [14, 7, 0.5, 0.018239193],\n",
       " [37, 9, 0.24324324324324326, 0.16377865],\n",
       " [39, 9, 0.23076923076923078, 0.21095712],\n",
       " [17, 2, 0.11764705882352941, 0.03957658],\n",
       " [30, 3, 0.1, 0.099534094],\n",
       " [14, 3, 0.21428571428571427, 0.06739681],\n",
       " [15, 3, 0.2, 0.031505894],\n",
       " [26, 4, 0.15384615384615385, 0.13305391],\n",
       " [13, 2, 0.15384615384615385, 0.07047596],\n",
       " [23, 5, 0.21739130434782608, 0.064497195],\n",
       " [26, 5, 0.19230769230769232, 0.06946342],\n",
       " [17, 4, 0.23529411764705882, 0.05113423],\n",
       " [17, 9, 0.5294117647058824, 0.031893328],\n",
       " [16, 4, 0.25, 0.095810175],\n",
       " [16, 3, 0.1875, 0.06821135],\n",
       " [19, 4, 0.21052631578947367, 0.122454524],\n",
       " [23, 4, 0.17391304347826086, 0.04963891],\n",
       " [17, 6, 0.35294117647058826, 0.054979797],\n",
       " [9, 3, 0.3333333333333333, 0.037720222],\n",
       " [20, 8, 0.4, 0.08474234],\n",
       " [13, 6, 0.46153846153846156, 0.03280173],\n",
       " [15, 2, 0.13333333333333333, 0.079895325],\n",
       " [37, 14, 0.3783783783783784, 0.07225181],\n",
       " [20, 2, 0.1, 0.09262926],\n",
       " [13, 5, 0.38461538461538464, 0.05476376],\n",
       " [19, 4, 0.21052631578947367, 0.056951206],\n",
       " [20, 13, 0.65, 0.05038769],\n",
       " [21, 5, 0.23809523809523808, 0.09122369],\n",
       " [16, 5, 0.3125, 0.05522251],\n",
       " [31, 6, 0.1935483870967742, 0.093962245],\n",
       " [19, 4, 0.21052631578947367, 0.0963152],\n",
       " [22, 4, 0.18181818181818182, 0.06232163],\n",
       " [13, 5, 0.38461538461538464, 0.04130368],\n",
       " [23, 7, 0.30434782608695654, 0.09136312],\n",
       " [13, 8, 0.6153846153846154, 0.02576261],\n",
       " [36, 7, 0.19444444444444445, 0.09527315],\n",
       " [21, 5, 0.23809523809523808, 0.044137917],\n",
       " [18, 3, 0.16666666666666666, 0.0733241],\n",
       " [22, 4, 0.18181818181818182, 0.07488662],\n",
       " [22, 5, 0.22727272727272727, 0.05075661],\n",
       " [16, 5, 0.3125, 0.04130226],\n",
       " [16, 5, 0.3125, 0.07145742],\n",
       " [22, 4, 0.18181818181818182, 0.11300353],\n",
       " [23, 3, 0.13043478260869565, 0.09098654],\n",
       " [20, 3, 0.15, 0.14653502],\n",
       " [22, 7, 0.3181818181818182, 0.055820383],\n",
       " [11, 2, 0.18181818181818182, 0.048335467],\n",
       " [25, 6, 0.24, 0.08620256],\n",
       " [16, 2, 0.125, 0.070688486],\n",
       " [15, 6, 0.4, 0.025233809],\n",
       " [10, 5, 0.5, 0.010760397],\n",
       " [18, 4, 0.2222222222222222, 0.044057418],\n",
       " [14, 4, 0.2857142857142857, 0.033392992],\n",
       " [15, 4, 0.26666666666666666, 0.08161182],\n",
       " [11, 3, 0.2727272727272727, 0.03871792],\n",
       " [8, 1, 0.125, 0.06636937],\n",
       " [24, 5, 0.20833333333333334, 0.05330441],\n",
       " [8, 1, 0.125, 0.039183438],\n",
       " [21, 4, 0.19047619047619047, 0.05111884],\n",
       " [11, 6, 0.5454545454545454, 0.016534641],\n",
       " [20, 7, 0.35, 0.06144538],\n",
       " [14, 3, 0.21428571428571427, 0.033711],\n",
       " [26, 7, 0.2692307692307692, 0.14835432],\n",
       " [20, 5, 0.25, 0.04511258],\n",
       " [11, 8, 0.7272727272727273, 0.014141483],\n",
       " [28, 3, 0.10714285714285714, 0.11620183],\n",
       " [28, 7, 0.25, 0.22251678],\n",
       " [22, 4, 0.18181818181818182, 0.18941694],\n",
       " [22, 7, 0.3181818181818182, 0.057896767],\n",
       " [20, 3, 0.15, 0.055632688],\n",
       " [28, 6, 0.21428571428571427, 0.08695105],\n",
       " [20, 5, 0.25, 0.06290323],\n",
       " [26, 4, 0.15384615384615385, 0.06931349],\n",
       " [23, 8, 0.34782608695652173, 0.07172046],\n",
       " [10, 6, 0.6, 0.022434004],\n",
       " [12, 6, 0.5, 0.018175183],\n",
       " [12, 6, 0.5, 0.024823753],\n",
       " [27, 14, 0.5185185185185185, 0.05846082],\n",
       " [18, 4, 0.2222222222222222, 0.055036575],\n",
       " [18, 2, 0.1111111111111111, 0.10111412],\n",
       " [21, 3, 0.14285714285714285, 0.09062365],\n",
       " [33, 7, 0.21212121212121213, 0.10046143],\n",
       " [13, 5, 0.38461538461538464, 0.045394517],\n",
       " [13, 5, 0.38461538461538464, 0.10139558],\n",
       " [23, 6, 0.2608695652173913, 0.056313816],\n",
       " [22, 8, 0.36363636363636365, 0.12175186],\n",
       " [26, 5, 0.19230769230769232, 0.06261373],\n",
       " [23, 3, 0.13043478260869565, 0.12316726],\n",
       " [26, 11, 0.4230769230769231, 0.09037086],\n",
       " [12, 7, 0.5833333333333334, 0.015318009],\n",
       " [30, 5, 0.16666666666666666, 0.14774916],\n",
       " [29, 3, 0.10344827586206896, 0.056821406],\n",
       " [21, 4, 0.19047619047619047, 0.09521351]]"
      ]
     },
     "execution_count": 21,
     "metadata": {},
     "output_type": "execute_result"
    }
   ],
   "source": [
    "good_result"
   ]
  },
  {
   "cell_type": "code",
   "execution_count": 20,
   "metadata": {},
   "outputs": [
    {
     "data": {
      "image/png": "[encoded data removed]",
      "text/plain": [
       "<Figure size 432x288 with 1 Axes>"
      ]
     },
     "metadata": {
      "needs_background": "light"
     },
     "output_type": "display_data"
    },
    {
     "data": {
      "image/png": "[encoded data removed]",
      "text/plain": [
       "<Figure size 432x288 with 1 Axes>"
      ]
     },
     "metadata": {
      "needs_background": "light"
     },
     "output_type": "display_data"
    }
   ],
   "source": [
    "plt.plot(good_docs[3]['energies_per_step'])\n",
    "plt.show()\n",
    "plt.plot(good_docs[3]['distances_per_step'])\n",
    "plt.show()\n"
   ]
  },
  {
   "cell_type": "code",
   "execution_count": null,
   "metadata": {},
   "outputs": [],
   "source": [
    "results, reduced, bad_docs, bad_result,good_docs,good_result = analysis(SDT_valid, docs_val, distance_val)"
   ]
  },
  {
   "cell_type": "code",
   "execution_count": 21,
   "metadata": {},
   "outputs": [
    {
     "data": {
      "text/plain": [
       "Text(0.5, 0, '% Reduced')"
      ]
     },
     "execution_count": 21,
     "metadata": {},
     "output_type": "execute_result"
    },
    {
     "data": {
      "image/png": "[encoded data removed]",
      "text/plain": [
       "<Figure size 432x288 with 1 Axes>"
      ]
     },
     "metadata": {
      "needs_background": "light"
     },
     "output_type": "display_data"
    }
   ],
   "source": [
    "import matplotlib.pyplot as plt\n",
    "plt.hist(reduced, bins=40)\n",
    "plt.title(\"Train\")\n",
    "plt.xlabel(\"% Reduced\")"
   ]
  },
  {
   "cell_type": "code",
   "execution_count": 22,
   "metadata": {},
   "outputs": [
    {
     "data": {
      "text/plain": [
       "'slab'"
      ]
     },
     "execution_count": 22,
     "metadata": {},
     "output_type": "execute_result"
    }
   ],
   "source": [
    "docs_train[0]['data']"
   ]
  },
  {
   "cell_type": "code",
   "execution_count": 23,
   "metadata": {},
   "outputs": [],
   "source": [
    "f = []\n",
    "for doc in good_docs:\n",
    "    f.append(doc['data'])"
   ]
  },
  {
   "cell_type": "code",
   "execution_count": 24,
   "metadata": {},
   "outputs": [
    {
     "data": {
      "text/plain": [
       "Counter({'surface': 228, 'slab': 367})"
      ]
     },
     "execution_count": 24,
     "metadata": {},
     "output_type": "execute_result"
    }
   ],
   "source": [
    "import collections\n",
    "collections.Counter(f)"
   ]
  },
  {
   "cell_type": "code",
   "execution_count": 22,
   "metadata": {},
   "outputs": [
    {
     "data": {
      "text/plain": [
       "0.23540377362260173"
      ]
     },
     "execution_count": 22,
     "metadata": {},
     "output_type": "execute_result"
    }
   ],
   "source": [
    "np.mean(reduced)"
   ]
  },
  {
   "cell_type": "code",
   "execution_count": null,
   "metadata": {},
   "outputs": [],
   "source": []
  },
  {
   "cell_type": "code",
   "execution_count": 26,
   "metadata": {},
   "outputs": [],
   "source": [
    "natoms =[]\n",
    "types = []\n",
    "steps = []\n",
    "distances = []\n",
    "filtered_idx = []\n",
    "\n",
    "for doc in bad_docs:\n",
    "    natoms.append(doc['atoms']['natoms'])\n",
    "    types.extend(doc['atoms']['chemical_symbols'])\n",
    "    atoms = mongo.make_atoms_from_doc(doc, is_initial=True)\n",
    "    atoms_final = mongo.make_atoms_from_doc(doc, is_initial=False)\n",
    "    if atoms.constraints:\n",
    "        fixed_atom_idx = atoms.constraints[0].index\n",
    "        base = np.ones(len(atoms.positions))\n",
    "        base[fixed_atom_idx] = 0\n",
    "        free_atom_idx = np.where(base==1)[0]\n",
    "        \n",
    "    else:\n",
    "        free_atom_idx = np.arange(len(atoms))\n",
    "    difference = atoms.positions[free_atom_idx] - atoms_final.positions[free_atom_idx]\n",
    "    dist = np.sqrt(np.sum(difference**2, axis=1))\n",
    "    distances.append(dist)    \n",
    "    if np.mean(dist) > 0.05:\n",
    "        filtered_idx.append(doc['idx'])"
   ]
  },
  {
   "cell_type": "code",
   "execution_count": 27,
   "metadata": {},
   "outputs": [],
   "source": [
    "d_mean=[]\n",
    "for dist in distances:\n",
    "    d_mean.append(np.mean(dist))"
   ]
  },
  {
   "cell_type": "code",
   "execution_count": 28,
   "metadata": {},
   "outputs": [
    {
     "data": {
      "text/plain": [
       "(array([9., 5., 9., 3., 2., 2., 7., 8., 2., 4., 7., 4., 3., 2., 1., 1., 3.,\n",
       "        2., 1., 5., 3., 1., 1., 3., 1., 1., 1., 2., 0., 2., 0., 0., 1., 0.,\n",
       "        1., 1., 1., 1., 2., 3., 1., 0., 0., 1., 0., 0., 0., 1., 0., 1.]),\n",
       " array([0.04009705, 0.04491276, 0.04972846, 0.05454417, 0.05935988,\n",
       "        0.06417559, 0.06899129, 0.073807  , 0.07862271, 0.08343841,\n",
       "        0.08825412, 0.09306983, 0.09788553, 0.10270124, 0.10751695,\n",
       "        0.11233266, 0.11714836, 0.12196407, 0.12677978, 0.13159548,\n",
       "        0.13641119, 0.1412269 , 0.14604261, 0.15085831, 0.15567402,\n",
       "        0.16048973, 0.16530543, 0.17012114, 0.17493685, 0.17975255,\n",
       "        0.18456826, 0.18938397, 0.19419968, 0.19901538, 0.20383109,\n",
       "        0.2086468 , 0.2134625 , 0.21827821, 0.22309392, 0.22790962,\n",
       "        0.23272533, 0.23754104, 0.24235675, 0.24717245, 0.25198816,\n",
       "        0.25680387, 0.26161957, 0.26643528, 0.27125099, 0.2760667 ,\n",
       "        0.2808824 ]),\n",
       " <a list of 50 Patch objects>)"
      ]
     },
     "execution_count": 28,
     "metadata": {},
     "output_type": "execute_result"
    },
    {
     "data": {
      "image/png": "[encoded data removed]",
      "text/plain": [
       "<Figure size 432x288 with 1 Axes>"
      ]
     },
     "metadata": {
      "needs_background": "light"
     },
     "output_type": "display_data"
    }
   ],
   "source": [
    "plt.hist(d_mean, bins=50)"
   ]
  },
  {
   "cell_type": "code",
   "execution_count": 29,
   "metadata": {},
   "outputs": [
    {
     "data": {
      "text/plain": [
       "(array([9., 5., 9., 3., 2., 2., 7., 8., 2., 4., 7., 4., 3., 2., 1., 1., 3.,\n",
       "        2., 1., 5., 3., 1., 1., 3., 1., 1., 1., 2., 0., 2., 0., 0., 1., 0.,\n",
       "        1., 1., 1., 1., 2., 3., 1., 0., 0., 1., 0., 0., 0., 1., 0., 1.]),\n",
       " array([0.04009705, 0.04491276, 0.04972846, 0.05454417, 0.05935988,\n",
       "        0.06417559, 0.06899129, 0.073807  , 0.07862271, 0.08343841,\n",
       "        0.08825412, 0.09306983, 0.09788553, 0.10270124, 0.10751695,\n",
       "        0.11233266, 0.11714836, 0.12196407, 0.12677978, 0.13159548,\n",
       "        0.13641119, 0.1412269 , 0.14604261, 0.15085831, 0.15567402,\n",
       "        0.16048973, 0.16530543, 0.17012114, 0.17493685, 0.17975255,\n",
       "        0.18456826, 0.18938397, 0.19419968, 0.19901538, 0.20383109,\n",
       "        0.2086468 , 0.2134625 , 0.21827821, 0.22309392, 0.22790962,\n",
       "        0.23272533, 0.23754104, 0.24235675, 0.24717245, 0.25198816,\n",
       "        0.25680387, 0.26161957, 0.26643528, 0.27125099, 0.2760667 ,\n",
       "        0.2808824 ]),\n",
       " <a list of 50 Patch objects>)"
      ]
     },
     "execution_count": 29,
     "metadata": {},
     "output_type": "execute_result"
    },
    {
     "data": {
      "image/png": "[encoded data removed]",
      "text/plain": [
       "<Figure size 432x288 with 1 Axes>"
      ]
     },
     "metadata": {
      "needs_background": "light"
     },
     "output_type": "display_data"
    }
   ],
   "source": [
    "plt.hist(d_mean, bins=50)"
   ]
  },
  {
   "cell_type": "code",
   "execution_count": 48,
   "metadata": {},
   "outputs": [
    {
     "data": {
      "text/plain": [
       "158"
      ]
     },
     "execution_count": 48,
     "metadata": {},
     "output_type": "execute_result"
    }
   ],
   "source": [
    "len(distances)"
   ]
  },
  {
   "cell_type": "code",
   "execution_count": null,
   "metadata": {},
   "outputs": [],
   "source": []
  }
 ],
 "metadata": {
  "kernelspec": {
   "display_name": "Python 3",
   "language": "python",
   "name": "python3"
  },
  "language_info": {
   "codemirror_mode": {
    "name": "ipython",
    "version": 3
   },
   "file_extension": ".py",
   "mimetype": "text/x-python",
   "name": "python",
   "nbconvert_exporter": "python",
   "pygments_lexer": "ipython3",
   "version": "3.7.3"
  }
 },
 "nbformat": 4,
 "nbformat_minor": 2
}
