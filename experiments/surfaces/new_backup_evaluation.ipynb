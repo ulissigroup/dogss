{
 "cells": [
  {
   "cell_type": "code",
   "execution_count": 1,
   "metadata": {
    "scrolled": true
   },
   "outputs": [
    {
     "name": "stdout",
     "output_type": "stream",
     "text": [
      "env: CUDA_DEVICE_ORDER=PCI_BUS_ID\n",
      "env: CUDA_VISIBLE_DEVICES=1\n",
      "env: CUDA_LAUNCH_BLOCKING=1\n"
     ]
    }
   ],
   "source": [
    "import os\n",
    "import sys\n",
    "sys.path.insert(0,'/home/junwoony/Desktop/Differentiable_Optimization_GCN/Differentiable_Optimization_GCN/')\n",
    "\n",
    "import numpy as np\n",
    "%env CUDA_DEVICE_ORDER=PCI_BUS_ID\n",
    "%env CUDA_VISIBLE_DEVICES=1\n",
    "%env CUDA_LAUNCH_BLOCKING=1\n",
    "\n",
    "import mongo\n",
    "import time\n",
    "import pickle\n",
    "import random\n",
    "import numpy as np\n",
    "import tqdm\n",
    "import copy\n",
    "import matplotlib.pyplot as plt\n",
    "import multiprocess as mp\n",
    "\n",
    "from pymatgen.io.ase import AseAtomsAdaptor\n",
    "\n",
    "import torch\n",
    "from torch.nn.utils import clip_grad_norm_\n",
    "from torch.utils.data import Dataset, DataLoader\n",
    "from torch.optim import Adam, SGD\n",
    "from torch.optim.lbfgs import LBFGS\n",
    "from cgcnn.data_orbital import StructureData, ListDataset, StructureDataTransformer, collate_pool, MergeDataset\n",
    "from cgcnn.model import CrystalGraphConvNet\n",
    "\n",
    "from sklearn.preprocessing import StandardScaler\n",
    "from sklearn.model_selection import ShuffleSplit, train_test_split\n",
    "from sklearn.metrics import get_scorer\n",
    "from skorch import NeuralNetRegressor\n",
    "from skorch.callbacks import Checkpoint, LoadInitState #needs skorch 0.4.0, conda-forge version at 0.3.0 doesn't cut it\n",
    "import skorch.callbacks.base\n",
    "from skorch.dataset import CVSplit\n",
    "from skorch.callbacks.lr_scheduler import WarmRestartLR, LRScheduler\n",
    "\n",
    "from utils.adamwr.adamw import AdamW\n",
    "from utils.adamwr.cosine_scheduler import CosineLRWithRestarts\n",
    "\n",
    "\n",
    "from sigopt_sklearn.search import SigOptSearchCV\n"
   ]
  },
  {
   "cell_type": "code",
   "execution_count": 2,
   "metadata": {
    "scrolled": false
   },
   "outputs": [],
   "source": [
    "# SDT_list = pickle.load(open('../../../cgcnn/bond_regression3/new2/SDT_list.pkl', 'rb'))\n",
    "docs = pickle.load(open('../../../cgcnn/bond_regression3/new2/final_docs.pkl', 'rb'))\n",
    "docs_test_surface = pickle.load(open('./new_backup/docs_test_surface.pkl', 'rb'))\n",
    "\n",
    "# structures = SDT_list[0]\n",
    "# orig_atom_fea_len = structures[0].shape[-1]\n",
    "# nbr_fea_len = structures[1].shape[-1]\n",
    "\n",
    "# docs_test = pickle.load(open('./new_backup/docs_test.pkl','rb'))\n",
    "\n",
    "# target_list = np.array([sdt[-1][sdt[9]].numpy() for sdt in SDT_list]).reshape(-1,1) #get final_pos of free atoms ONLY"
   ]
  },
  {
   "cell_type": "code",
   "execution_count": 3,
   "metadata": {},
   "outputs": [],
   "source": [
    "# SDT_training, SDT_test, target_training, target_test, docs_training, docs_test \\\n",
    "# = train_test_split(SDT_list, target_list, docs, test_size=0.1, random_state=42)"
   ]
  },
  {
   "cell_type": "code",
   "execution_count": 4,
   "metadata": {},
   "outputs": [],
   "source": [
    "# natoms =[]\n",
    "# types = []\n",
    "# steps = []\n",
    "# distances = []\n",
    "# filtered_idx = []\n",
    "# docs_test_new = []\n",
    "# docs_test_surface, docs_test_slab = [], []\n",
    "# for doc in docs_test:\n",
    "#     natoms.append(doc['atoms']['natoms'])\n",
    "#     types.extend(doc['atoms']['chemical_symbols'])\n",
    "#     atoms = mongo.make_atoms_from_doc(doc, is_initial=True)\n",
    "#     atoms_final = mongo.make_atoms_from_doc(doc, is_initial=False)\n",
    "#     if atoms.constraints:\n",
    "#         fixed_atom_idx = atoms.constraints[0].index\n",
    "#         base = np.ones(len(atoms.positions))\n",
    "#         base[fixed_atom_idx] = 0\n",
    "#         free_atom_idx = np.where(base==1)[0]\n",
    "        \n",
    "#     else:\n",
    "#         free_atom_idx = np.arange(len(atoms))\n",
    "#     difference = atoms.positions[free_atom_idx] - atoms_final.positions[free_atom_idx]\n",
    "#     dist = np.sqrt(np.sum(difference**2, axis=1))\n",
    "#     if np.mean(dist) > 0.06:\n",
    "# #         distances.append(dist)\n",
    "# #         filtered_idx.append(doc['idx'])\n",
    "#         if doc['data'] == 'surface':\n",
    "#             docs_test_surface.append(doc['idx'])\n",
    "#         elif doc['data'] == 'slab':\n",
    "#             docs_test_slab.append(doc['idx'])\n"
   ]
  },
  {
   "cell_type": "code",
   "execution_count": 3,
   "metadata": {
    "scrolled": true
   },
   "outputs": [],
   "source": [
    "import ase\n",
    "from ase.io import read, write\n",
    "import glob\n",
    "\n",
    "\n",
    "steps_initial, steps_test = [], []\n",
    "E_initial, E_test = [], []\n",
    "dist_changes = []\n",
    "F_initial, F_test = [], []\n",
    "test_final, initial_final =[], []\n",
    "test_initial, initial_initial= [], []\n",
    "dist_init, dist_test = [], []\n",
    "i=0\n",
    "total_atoms = 0\n",
    "for idx in tqdm.tqdm(docs_test_surface):\n",
    "    geom_initial = read('./new_backup/traj_surface/results_initial/%d_initial_vasprun.xml' %idx, index=':', format='vasp-xml')\n",
    "    geom_test = read('./new_backup/traj_surface/results_test/%d_test_vasprun.xml' %idx, index=':', format='vasp-xml')\n",
    "\n",
    "    c_initial, c_test = 0, 0\n",
    "    force_initial, force_test = 10, 10\n",
    "    \n",
    "    ### Set max_force < 0.05 as a convergence rule ###\n",
    "    while force_initial > 0.05:\n",
    "        atom = geom_initial[c_initial]\n",
    "        force_initial = np.max(np.abs(atom.get_forces()))\n",
    "        c_initial += 1\n",
    "\n",
    "    while force_test > 0.05:\n",
    "        atom = geom_test[c_test]\n",
    "        force_test = np.max(np.abs(atom.get_forces()))\n",
    "        c_test += 1\n",
    "    \n",
    "    ### TO ensure the convergence to the same local minima ###\n",
    "    if np.abs(geom_initial[c_initial-1].get_potential_energy() - geom_test[c_test-1].get_potential_energy()) < 0.2:\n",
    "        steps_initial.append(c_initial)\n",
    "        steps_test.append(c_test)\n",
    "        \n",
    "\n",
    "        atoms_initial = geom_initial[0]\n",
    "        atoms_test = geom_test[0]\n",
    "\n",
    "        if atoms_initial.constraints:\n",
    "            fixed_atom_idx = atoms_initial.constraints[0].index\n",
    "            base = np.ones(len(atoms_initial.positions))\n",
    "            base[fixed_atom_idx] = 0\n",
    "            free_atom_idx = np.where(base==1)[0]\n",
    "\n",
    "        else:\n",
    "            free_atom_idx = np.arange(len(atoms_initial))\n",
    "\n",
    "        difference_test = geom_test[0].positions[free_atom_idx] - geom_test[-1].positions[free_atom_idx]\n",
    "        \n",
    "\n",
    "        test_final.append(geom_test[-1].get_scaled_positions()[free_atom_idx])\n",
    "        initial_final.append(geom_initial[-1].get_scaled_positions()[free_atom_idx])\n",
    "        test_initial.append(geom_test[0].get_scaled_positions()[free_atom_idx])\n",
    "        initial_initial.append(geom_test[0].get_scaled_positions()[free_atom_idx])\n",
    "\n",
    "        difference = atoms_initial.positions[free_atom_idx] - atoms_test.positions[free_atom_idx]\n",
    "        dist = np.sqrt(np.sum(difference**2, axis=1))\n",
    "        dist_changes.append(np.max(dist))\n",
    "\n",
    "        difference_init = geom_initial[0].positions[free_atom_idx] - geom_initial[-1].positions[free_atom_idx]\n",
    "        dist_init.append(np.mean(np.sqrt(np.sum(difference_init**2, axis=1))))\n",
    "\n",
    "        difference_test = geom_test[0].positions[free_atom_idx] - geom_test[-1].positions[free_atom_idx]\n",
    "        dist_test.append(np.mean(np.sqrt(np.sum(difference_test**2, axis=1))))\n",
    "\n",
    "\n",
    "#         if c_initial - c_test == -58:\n",
    "#             energies_initial, forces_initial = [],[]\n",
    "#             energies_test, forces_test = [], []\n",
    "\n",
    "#             for gm in geom_initial:\n",
    "#                 energy = gm.get_potential_energy()\n",
    "#                 force = np.max(gm.get_forces())\n",
    "#                 energies_initial.append(energy)\n",
    "#                 forces_initial.append(force)\n",
    "#             for gm in geom_test:\n",
    "#                 energy = gm.get_potential_energy()\n",
    "#                 force = np.max(gm.get_forces())\n",
    "#                 energies_test.append(energy)\n",
    "#                 forces_test.append(force)\n",
    "\n",
    "#             print(np.max(np.abs(geom_initial[c_initial-1].get_forces())), np.max(np.abs(geom_test[c_test-1].get_forces())))\n",
    "#             print(geom_initial[-1].get_potential_energy() - geom_test[-1].get_potential_energy())\n",
    "#             print(geom_initial[c_initial-1].get_potential_energy() - geom_test[c_test-1].get_potential_energy())\n",
    "\n",
    "\n",
    "\n",
    "        E_initial.append(geom_initial[c_initial-1].get_potential_energy())\n",
    "        E_test.append(geom_test[c_test-1].get_potential_energy())\n",
    "\n",
    "        F_initial.append(np.max(np.abs(geom_initial[0].get_forces())))\n",
    "        F_test.append(np.max(np.abs(geom_test[0].get_forces())))\n",
    "        i +=1\n",
    "# ##### IF we use F < 0.03,\n",
    "#         steps_initial.append(len(geom_initial))\n",
    "#         steps_test.append(len(geom_test))\n",
    "        \n",
    "            \n",
    "steps_initial, steps_test = np.array(steps_initial), np.array(steps_test)\n",
    "E_initial, E_test = np.array(E_initial), np.array(E_test)\n",
    "dist_init, dist_test = np.array(dist_init), np.array(dist_test)\n",
    "\n",
    "test_final = np.concatenate(test_final)\n",
    "initial_final = np.concatenate(initial_final)\n",
    "test_initial = np.concatenate(test_initial)\n",
    "initial_initial = np.concatenate(initial_initial)\n",
    "\n",
    "# write('trajectory.traj', geom, format='traj')"
   ]
  },
  {
   "cell_type": "code",
   "execution_count": 6,
   "metadata": {},
   "outputs": [
    {
     "data": {
      "text/plain": [
       "0.028522501413123364"
      ]
     },
     "execution_count": 6,
     "metadata": {},
     "output_type": "execute_result"
    }
   ],
   "source": [
    "np.mean(np.abs(test_final - test_initial))"
   ]
  },
  {
   "cell_type": "code",
   "execution_count": 7,
   "metadata": {},
   "outputs": [
    {
     "data": {
      "text/plain": [
       "0.03617101279790026"
      ]
     },
     "execution_count": 7,
     "metadata": {},
     "output_type": "execute_result"
    }
   ],
   "source": [
    "np.mean(np.abs(initial_final - initial_initial))"
   ]
  },
  {
   "cell_type": "code",
   "execution_count": 12,
   "metadata": {},
   "outputs": [
    {
     "name": "stdout",
     "output_type": "stream",
     "text": [
      "0.14203136727137997 0.33743438443191587\n"
     ]
    }
   ],
   "source": [
    "print(np.mean(dist_init), np.mean(dist_test))"
   ]
  },
  {
   "cell_type": "code",
   "execution_count": 4,
   "metadata": {},
   "outputs": [
    {
     "name": "stdout",
     "output_type": "stream",
     "text": [
      "0.13836219750047846 0.3785617799217051\n"
     ]
    }
   ],
   "source": [
    "print(np.mean(dist_init), np.mean(dist_test))"
   ]
  },
  {
   "cell_type": "code",
   "execution_count": 6,
   "metadata": {},
   "outputs": [
    {
     "data": {
      "text/plain": [
       "(array([128.,  29.,  17.,  15.,   8.,   4.,   4.,   1.,   0.,   1.]),\n",
       " array([0.00504877, 0.29384299, 0.5826372 , 0.87143141, 1.16022563,\n",
       "        1.44901984, 1.73781405, 2.02660826, 2.31540248, 2.60419669,\n",
       "        2.8929909 ]),\n",
       " <a list of 10 Patch objects>)"
      ]
     },
     "execution_count": 6,
     "metadata": {},
     "output_type": "execute_result"
    },
    {
     "data": {
      "image/png": "[encoded data removed]",
      "text/plain": [
       "<Figure size 432x288 with 1 Axes>"
      ]
     },
     "metadata": {
      "needs_background": "light"
     },
     "output_type": "display_data"
    }
   ],
   "source": [
    "plt.hist(dist_test)"
   ]
  },
  {
   "cell_type": "code",
   "execution_count": 7,
   "metadata": {},
   "outputs": [
    {
     "data": {
      "text/plain": [
       "0.10450655906177614"
      ]
     },
     "execution_count": 7,
     "metadata": {},
     "output_type": "execute_result"
    }
   ],
   "source": [
    "bad_idx = np.where(dist_test > 0.5)[0]\n",
    "idx = np.where(dist_test < 0.5)[0]\n",
    "dist_test_new = dist_test[idx]\n",
    "np.mean(dist_test_new)"
   ]
  },
  {
   "cell_type": "code",
   "execution_count": 13,
   "metadata": {},
   "outputs": [
    {
     "data": {
      "text/plain": [
       "array([8.54760000e-04, 2.32680000e-04, 1.73165000e-03, 2.00379000e-03,\n",
       "       1.16172000e-03, 4.78630000e-04, 1.53030000e-04, 3.53963000e-03,\n",
       "       2.85922000e-03, 4.59750000e-04, 1.08151000e-03, 1.37787000e-03,\n",
       "       1.95213000e-03, 1.78197000e-03, 5.12390000e-04, 3.74850000e-04,\n",
       "       1.36524000e-03, 1.14117000e-03, 1.18663000e-03, 2.51151000e-03,\n",
       "       6.35460000e-04, 1.10319500e-02, 1.79923000e-03, 3.26900000e-04,\n",
       "       4.02083000e-03, 5.85500000e-05, 1.94814000e-03, 1.98394000e-03,\n",
       "       3.08004000e-03, 6.02817000e-03, 4.43400000e-05, 4.20343000e-03,\n",
       "       7.65150000e-04, 8.57690000e-04, 2.38224000e-03, 7.48200000e-04,\n",
       "       4.35180000e-04, 1.09640000e-04, 9.73460000e-04, 3.26182000e-03,\n",
       "       1.57964000e-03, 1.51244000e-03, 5.36120000e-04, 1.95600000e-04,\n",
       "       5.54116000e-03, 3.00233000e-03, 1.90491000e-03, 5.14700000e-04,\n",
       "       2.34040000e-04, 1.73479000e-03, 1.99550000e-04, 6.28440000e-04,\n",
       "       5.81090000e-04, 3.53430000e-04, 6.50630000e-04, 1.06799000e-03,\n",
       "       1.42690000e-04, 1.85501000e-03, 3.30066000e-03, 3.39138000e-03,\n",
       "       1.96310000e-04, 1.29942000e-03, 1.09211000e-03, 6.91663000e-03,\n",
       "       4.24223000e-03, 1.44222700e-02, 3.11567000e-03, 2.02490000e-04,\n",
       "       3.48009000e-03, 4.39880000e-04, 3.14540000e-04, 1.57000001e-06,\n",
       "       4.17945000e-03, 5.00070000e-04, 3.83870000e-04, 2.45597000e-03,\n",
       "       1.54430000e-04, 2.46453000e-03, 2.88076000e-03, 4.86240000e-04,\n",
       "       4.06600000e-04, 1.65960000e-04, 8.34770000e-04, 1.65885000e-03,\n",
       "       1.34552000e-03, 4.99270000e-04, 3.60270000e-04, 1.22710000e-03,\n",
       "       1.75879000e-03, 2.69790000e-04, 5.13710000e-04, 6.34070000e-04,\n",
       "       8.11780000e-04, 3.97620000e-04, 1.64140000e-04, 6.89810000e-04,\n",
       "       2.25805000e-03, 1.23320000e-03, 9.73000000e-04, 1.95500000e-05,\n",
       "       5.83320000e-04, 7.02530000e-04, 1.50227000e-03, 1.01638000e-03,\n",
       "       9.62090000e-04, 1.26990000e-04, 1.37261000e-03, 2.84479000e-03,\n",
       "       3.45630000e-04, 2.63701000e-03, 4.82086000e-03, 5.22620000e-04,\n",
       "       1.30249000e-03, 3.81560000e-04, 1.02063000e-03, 2.79950000e-04,\n",
       "       1.44242000e-03, 7.50100000e-05, 1.28223000e-03, 1.29000000e-06,\n",
       "       1.97133000e-03, 4.43140000e-04, 5.81500000e-04, 9.61530000e-04,\n",
       "       2.56633000e-03, 6.09270000e-04, 2.88699000e-03, 2.05495000e-03,\n",
       "       9.19270000e-04, 2.70990000e-04, 5.43490000e-04, 1.24849000e-03,\n",
       "       9.77780000e-04, 4.70630000e-04, 2.52700000e-04, 8.77520000e-04,\n",
       "       1.90179000e-03, 7.71350000e-04, 8.49290000e-04, 1.17100000e-05,\n",
       "       7.48780000e-04, 1.18365000e-03, 3.07773000e-03, 5.83000000e-04,\n",
       "       2.14100000e-04])"
      ]
     },
     "execution_count": 13,
     "metadata": {},
     "output_type": "execute_result"
    }
   ],
   "source": [
    "np.abs(E_test[idx] - E_initial[idx])"
   ]
  },
  {
   "cell_type": "code",
   "execution_count": 10,
   "metadata": {},
   "outputs": [
    {
     "data": {
      "text/plain": [
       "array([-174.04253307,  -42.31153125, -136.44866892, -217.32028276,\n",
       "       -237.52144646, -118.44099906, -198.93262444, -297.33995696,\n",
       "       -240.76274875,  -80.63446389, -140.41334829,  -73.24412945,\n",
       "       -141.99027984, -101.05409075, -154.07021783, -153.78347351,\n",
       "       -324.2683823 , -135.03807423, -239.17289759, -103.62267626,\n",
       "       -128.75723072,  -44.81750728, -200.81817046,  -60.91001977,\n",
       "       -234.84886603, -148.15190564,  -86.75757006, -165.91516564,\n",
       "       -120.75766268, -140.12384463, -141.98828897, -133.10121274,\n",
       "        -60.084577  , -138.18815778, -176.93378913, -124.7101932 ,\n",
       "       -145.58466986,  -45.39517045, -234.89041908, -223.70367655,\n",
       "       -131.5750942 ,  -44.58512884,  -69.04278825,  -93.17764686,\n",
       "        -69.0819214 , -220.83143669,  -77.85129525,  -65.98255038,\n",
       "        -96.84899555, -265.10987865,  -75.83032043, -112.64789547,\n",
       "       -162.72705847,  -71.25569267, -131.66462722, -152.85757161,\n",
       "       -168.33166465, -141.6142573 , -169.2445251 , -131.12574711,\n",
       "       -112.74155307, -240.01397679,  -90.14683928,  -97.02292114,\n",
       "       -235.34262391,  -55.83552567, -113.63186465, -185.0027275 ,\n",
       "        -82.47774128,  -71.45505666, -146.7661327 , -105.18229736,\n",
       "       -141.09004119,  -74.67371163, -104.10914906, -109.76901569,\n",
       "       -265.77283798,  -45.57683757, -131.426922  , -220.85697125,\n",
       "        -89.17950611,  -47.62214753, -121.33340082,  -41.08289332,\n",
       "       -216.84734245, -218.79818765, -213.88177334, -176.62166564,\n",
       "         -7.62610512,  -93.94175012, -114.87021847, -298.82492693,\n",
       "        -98.89186976,  -40.50741549, -158.34138564, -257.00365544,\n",
       "       -123.72482248, -107.90927277, -118.76998387,  -55.2665418 ,\n",
       "       -182.40079344, -109.25751943, -332.67600184, -169.24659824,\n",
       "        -56.5383702 ,  -93.67042812,  -56.31600927, -398.75829864,\n",
       "       -257.09837784, -120.1200347 , -237.71337304, -144.50803894,\n",
       "        -20.95730457,  -84.61806889, -162.74027854,  -40.79289612,\n",
       "       -204.63125754, -243.2502134 , -111.39583806,  -38.1867617 ,\n",
       "       -121.4531081 ,  -87.10986747, -187.70064887, -211.38611241,\n",
       "       -125.8389243 , -127.82547435,  -90.4597417 , -266.71714112,\n",
       "       -102.6101353 , -185.97053342, -108.29468796, -105.67882526,\n",
       "        -80.41730152, -178.34910984, -153.2109587 , -187.67486114,\n",
       "       -181.34525836, -124.91696201,  -57.60956365, -126.19490035,\n",
       "       -110.39912603, -204.86311674, -155.12916426, -250.34026533,\n",
       "        -67.43630025])"
      ]
     },
     "execution_count": 10,
     "metadata": {},
     "output_type": "execute_result"
    }
   ],
   "source": []
  },
  {
   "cell_type": "code",
   "execution_count": null,
   "metadata": {},
   "outputs": [],
   "source": []
  },
  {
   "cell_type": "code",
   "execution_count": 17,
   "metadata": {},
   "outputs": [
    {
     "name": "stdout",
     "output_type": "stream",
     "text": [
      "Avg reduction 0.302158273381295\n",
      "15.444444444444445 10.777777777777779 4.666666666666666\n",
      "% of worse cases: 0.11594202898550725\n",
      "[  0   2  20  30  33  37  43  45  46  76  80  86  90  93 113 115 136 157\n",
      " 161 168 181 184 190 198]\n",
      "[ -2  -5 -11  -5  -3  -6  -1  -4  -2  -2  -4  -2  -1  -8  -5  -5  -1  -8\n",
      "  -1  -6  -1  -1  -2  -5]\n",
      "bad_results: -3.7916666666666665\n",
      "relaxed energy difference: 0.001498135990337703\n",
      "Forces: 1.3595757395652173 0.487764762173913 0.3587624786022563\n"
     ]
    }
   ],
   "source": [
    "print('Avg reduction',1 - np.sum(steps_test)/np.sum(steps_initial))\n",
    "print(np.mean(steps_initial), np.mean(steps_test), np.mean(steps_initial)- np.mean(steps_test))\n",
    "diff = steps_initial - steps_test\n",
    "print('% of worse cases:', len(np.where(diff < 0)[0])/len(steps_initial))\n",
    "bad_idx = np.where(diff < 0)[0]\n",
    "print(bad_idx)\n",
    "print(diff[bad_idx])\n",
    "print('bad_results:', np.mean(diff[bad_idx]))\n",
    "diff_E = np.abs(E_initial - E_test)\n",
    "print('relaxed energy difference:', np.mean(diff_E))\n",
    "print('Forces:', np.mean(F_initial), np.mean(F_test), np.mean(F_test)/np.mean(F_initial))"
   ]
  },
  {
   "cell_type": "code",
   "execution_count": 9,
   "metadata": {
    "scrolled": true
   },
   "outputs": [
    {
     "name": "stdout",
     "output_type": "stream",
     "text": [
      "893\n",
      "['Cu', 'Sn', 'Ca']\n",
      "793\n",
      "['Al', 'Na', 'Si']\n",
      "2031\n",
      "['Pd', 'In']\n",
      "2070\n",
      "['Au', 'Sn']\n",
      "1971\n",
      "['Al', 'Ni']\n",
      "1623\n",
      "['Co', 'As']\n",
      "108\n",
      "['Fe', 'Ni']\n",
      "661\n",
      "['Pt', 'Sb']\n",
      "1712\n",
      "['Pd', 'Si']\n",
      "1283\n",
      "['Fe', 'Ni', 'Pt']\n",
      "1774\n",
      "['W', 'Co']\n",
      "2220\n",
      "['Pt', 'Sb']\n",
      "721\n",
      "['Rh', 'Si']\n",
      "50\n",
      "['Al', 'Au']\n",
      "2797\n",
      "['Pd', 'In']\n",
      "1808\n",
      "['Sb', 'Ni']\n",
      "71\n",
      "['Cu', 'Sb', 'Ni']\n",
      "125\n",
      "['As', 'Fe', 'Sb']\n",
      "1731\n",
      "['Pt', 'Zn']\n",
      "1548\n",
      "['Al', 'Ti']\n",
      "2558\n",
      "['Ni', 'Ga']\n",
      "1007\n",
      "['Co', 'V', 'Ga']\n",
      "913\n",
      "['Al', 'Ti']\n",
      "1755\n",
      "['Pd', 'Ag']\n"
     ]
    }
   ],
   "source": [
    "for idx in bad_idx:\n",
    "    doc_idx = docs_test_surface[idx]\n",
    "    print(doc_idx)\n",
    "#     atoms = mongo.make_atoms_from_doc(docs[doc_idx])\n",
    "    print(docs[doc_idx]['atoms']['chemical_symbols'])"
   ]
  },
  {
   "cell_type": "code",
   "execution_count": null,
   "metadata": {},
   "outputs": [],
   "source": []
  }
 ],
 "metadata": {
  "kernelspec": {
   "display_name": "Python 3",
   "language": "python",
   "name": "python3"
  },
  "language_info": {
   "codemirror_mode": {
    "name": "ipython",
    "version": 3
   },
   "file_extension": ".py",
   "mimetype": "text/x-python",
   "name": "python",
   "nbconvert_exporter": "python",
   "pygments_lexer": "ipython3",
   "version": "3.7.3"
  }
 },
 "nbformat": 4,
 "nbformat_minor": 2
}
