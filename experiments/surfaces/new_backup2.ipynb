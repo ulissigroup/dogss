{
 "cells": [
  {
   "cell_type": "code",
   "execution_count": 1,
   "metadata": {
    "scrolled": true
   },
   "outputs": [
    {
     "name": "stdout",
     "output_type": "stream",
     "text": [
      "env: CUDA_DEVICE_ORDER=PCI_BUS_ID\n",
      "env: CUDA_VISIBLE_DEVICES=0\n",
      "env: CUDA_LAUNCH_BLOCKING=1\n"
     ]
    }
   ],
   "source": [
    "import os\n",
    "import sys\n",
    "sys.path.insert(0,'/home/junwoony/Desktop/Differentiable_Optimization_GCN/Differentiable_Optimization_GCN/')\n",
    "\n",
    "import numpy as np\n",
    "%env CUDA_DEVICE_ORDER=PCI_BUS_ID\n",
    "%env CUDA_VISIBLE_DEVICES=0\n",
    "%env CUDA_LAUNCH_BLOCKING=1\n",
    "\n",
    "import mongo\n",
    "import time\n",
    "import pickle\n",
    "import random\n",
    "import numpy as np\n",
    "import tqdm\n",
    "import copy\n",
    "import matplotlib.pyplot as plt\n",
    "import multiprocess as mp\n",
    "import seaborn as sns\n",
    "import pandas as pd\n",
    "from pymatgen.io.ase import AseAtomsAdaptor\n",
    "\n",
    "import torch\n",
    "from torch.nn.utils import clip_grad_norm_\n",
    "from torch.utils.data import Dataset, DataLoader\n",
    "from torch.optim import Adam, SGD\n",
    "from torch.optim.lbfgs import LBFGS\n",
    "from cgcnn.data_orbital import StructureData, ListDataset, StructureDataTransformer, collate_pool, MergeDataset\n",
    "from cgcnn.model import CrystalGraphConvNet\n",
    "\n",
    "from sklearn.preprocessing import StandardScaler\n",
    "from sklearn.model_selection import ShuffleSplit, train_test_split\n",
    "from sklearn.metrics import get_scorer\n",
    "from skorch import NeuralNetRegressor\n",
    "from skorch.callbacks import Checkpoint, LoadInitState #needs skorch 0.4.0, conda-forge version at 0.3.0 doesn't cut it\n",
    "import skorch.callbacks.base\n",
    "from skorch.dataset import CVSplit\n",
    "from skorch.callbacks.lr_scheduler import WarmRestartLR, LRScheduler\n",
    "\n",
    "from utils.adamwr.adamw import AdamW\n",
    "from utils.adamwr.cosine_scheduler import CosineLRWithRestarts\n",
    "\n",
    "\n",
    "from sigopt_sklearn.search import SigOptSearchCV\n"
   ]
  },
  {
   "cell_type": "code",
   "execution_count": 2,
   "metadata": {
    "scrolled": false
   },
   "outputs": [],
   "source": [
    "SDT_list = pickle.load(open('../../../cgcnn/bond_regression3/new2/SDT_list.pkl', 'rb'))\n",
    "docs = pickle.load(open('../../../cgcnn/bond_regression3/new2/final_docs.pkl', 'rb'))\n",
    "\n",
    "# SDT_list = pickle.load(open('../../../cgcnn/bond_regression3/new3/SDT_list.pkl', 'rb'))\n",
    "# docs = pickle.load(open('../../../cgcnn/bond_regression3/new3/final_docs.pkl', 'rb'))\n",
    "\n",
    "# target_list = pickle.load(open('../../../cgcnn/bond_regression3/new2/target_list.pkl', 'rb'))\n",
    "# target_list = pickle.load(open('../../../cgcnn/bond_regression3/new2/target_list_mse.pkl', 'rb'))\n",
    "\n",
    "structures = SDT_list[0]\n",
    "orig_atom_fea_len = structures[0].shape[-1]\n",
    "nbr_fea_len = structures[1].shape[-1]\n",
    "\n"
   ]
  },
  {
   "cell_type": "code",
   "execution_count": 3,
   "metadata": {},
   "outputs": [],
   "source": [
    "# target_list = []\n",
    "# for i, sdt in enumerate(SDT_list):\n",
    "#     atom_pos_final = sdt[-1]\n",
    "#     nbr_fea_idx = sdt[2]\n",
    "#     nbr_fea_offset = sdt[3]\n",
    "#     cells = sdt[7]\n",
    "    \n",
    "#     nbr_pos = atom_pos_final[nbr_fea_idx]\n",
    "#     differ = nbr_pos - atom_pos_final.unsqueeze(1) + torch.bmm(nbr_fea_offset, cells)\n",
    "#     differ_sum = torch.sum(differ**2, dim=2)\n",
    "#     distance = torch.sqrt(differ_sum).unsqueeze(-1)\n",
    "    \n",
    "#     if np.min(distance.numpy()) == 0:\n",
    "#         print(i)\n",
    "#     else:\n",
    "#         target_list.append(distance.numpy())\n",
    "# target_list = np.array(target_list).reshape(-1,1)"
   ]
  },
  {
   "cell_type": "code",
   "execution_count": 4,
   "metadata": {},
   "outputs": [],
   "source": [
    "# np.concatenate(target_list.reshape(-1)).shape"
   ]
  },
  {
   "cell_type": "code",
   "execution_count": 5,
   "metadata": {},
   "outputs": [],
   "source": [
    "# (atom_fea, nbr_fea, nbr_fea_idx, nbr_fea_offset, atom_pos, nbr_pos, atom_pos_idx, cells, fixed_atom_idx, atom_pos_final)\n",
    "atom_fea = SDT_list[0][0]\n",
    "nbr_fea = SDT_list[0][1]\n",
    "nbr_fea_idx = SDT_list[0][2]\n",
    "nbr_fea_offset = SDT_list[0][3]\n",
    "atom_pos =SDT_list[0][4]\n",
    "nbr_pos = SDT_list[0][5] \n",
    "atom_pos_idx = SDT_list[0][6]\n",
    "cells = SDT_list[0][7]\n",
    "fixed_base = SDT_list[0][8]\n",
    "free_atom_idx = SDT_list[0][9]\n",
    "atom_pos_final = SDT_list[0][10]\n",
    "# atom_pos_final_free = SDT_list[0][11]\n",
    "target_list = np.array([sdt[-1][sdt[9]].numpy() for sdt in SDT_list]).reshape(-1,1) #get final_pos of free atoms ONLY"
   ]
  },
  {
   "cell_type": "code",
   "execution_count": 6,
   "metadata": {},
   "outputs": [],
   "source": [
    "SDT_training, SDT_test, target_training, target_test, docs_training, docs_test \\\n",
    "= train_test_split(SDT_list, target_list, docs, test_size=0.1, random_state=42)"
   ]
  },
  {
   "cell_type": "code",
   "execution_count": 7,
   "metadata": {},
   "outputs": [
    {
     "name": "stdout",
     "output_type": "stream",
     "text": [
      "device: cuda\n"
     ]
    }
   ],
   "source": [
    "cuda = torch.cuda.is_available()\n",
    "if cuda:\n",
    "    device = torch.device(\"cuda\")\n",
    "else:\n",
    "    device='cpu'\n",
    "\n",
    "#Make a checkpoint to save parameters every time there is a new best for validation lost\n",
    "cp = Checkpoint(monitor='valid_loss_best',fn_prefix='./new_backup2/valid_best_')\n",
    "\n",
    "#Callback to load the checkpoint with the best validation loss at the end of training\n",
    "\n",
    "class train_end_load_best_valid_loss(skorch.callbacks.base.Callback):\n",
    "    def on_train_end(self, net, X, y):\n",
    "        net.load_params('./new_backup2/valid_best_params.pt')\n",
    "        \n",
    "load_best_valid_loss = train_end_load_best_valid_loss()\n",
    "print('device:', device)"
   ]
  },
  {
   "cell_type": "code",
   "execution_count": 8,
   "metadata": {},
   "outputs": [
    {
     "data": {
      "text/plain": [
       "tensor(0.0059)"
      ]
     },
     "execution_count": 8,
     "metadata": {},
     "output_type": "execute_result"
    }
   ],
   "source": [
    "def get_distance(atom_pos, nbr_fea_idx, nbr_fea_offset, cells):\n",
    "    nbr_pos = atom_pos[nbr_fea_idx]\n",
    "    differ = nbr_pos - atom_pos.unsqueeze(1) + torch.bmm(nbr_fea_offset, cells)\n",
    "    differ_sum = torch.sum(differ**2, dim=2)\n",
    "    distance = torch.sqrt(differ_sum).unsqueeze(-1)            \n",
    "    return distance\n",
    "differences = []\n",
    "c = 0\n",
    "max_num_nbr = 12\n",
    "\n",
    "for sdt in SDT_list:\n",
    "    nbr_fea_idx = sdt[2]\n",
    "    nbr_fea_offset = sdt[3]\n",
    "    atom_pos =sdt[4]\n",
    "    cells = sdt[7]\n",
    "    atom_pos_final = sdt[-1]\n",
    "    free_atom_idx = sdt[-2]\n",
    "#     bond_distance = get_distance(atom_pos, nbr_fea_idx, nbr_fea_offset, cells)[free_atom_idx]\n",
    "#     final_distance = get_distance(atom_pos_final, nbr_fea_idx, nbr_fea_offset, cells)[free_atom_idx]\n",
    "#     c += len(atom_pos[free_atom_idx])*12\n",
    "    bond_distance = get_distance(atom_pos, nbr_fea_idx, nbr_fea_offset, cells)\n",
    "    final_distance = get_distance(atom_pos_final, nbr_fea_idx, nbr_fea_offset, cells)\n",
    "    N, M, C = bond_distance.shape\n",
    "    bond_distance = bond_distance #* fake_nbr.float().expand(N, M, C)    \n",
    "    final_distance = final_distance #* fake_nbr.float().expand(N, M, C) \n",
    "    \n",
    "    c += len(atom_pos) * max_num_nbr\n",
    "    differences.append((final_distance - bond_distance).view(-1))\n",
    "differences = torch.cat(differences)**2\n",
    "# differences = torch.clamp(differences, min=1e-8)\n",
    "assert c == len(differences)\n",
    "# dist_err = torch.mean(torch.abs(differences))\n",
    "# torch.log(dist_err)\n",
    "# dist_err = torch.mean(torch.sqrt(differences))\n",
    "dist_err = torch.mean(torch.abs(differences))\n",
    "dist_err\n"
   ]
  },
  {
   "cell_type": "code",
   "execution_count": 9,
   "metadata": {},
   "outputs": [
    {
     "data": {
      "text/plain": [
       "0.13144483"
      ]
     },
     "execution_count": 9,
     "metadata": {},
     "output_type": "execute_result"
    }
   ],
   "source": [
    "def diff(sdt, target):\n",
    "    fixed_base = sdt[8]\n",
    "    free_atom_idx = np.where(fixed_base == 0)[0]\n",
    "    free_atom_idx = torch.LongTensor(free_atom_idx)   \n",
    "    diff = np.sum(((target[0] - sdt[4].numpy()[free_atom_idx]))**2.,axis=1)**0.5 \n",
    "    return diff\n",
    "\n",
    "np.mean(np.abs(np.concatenate([diff(sdt, target) for sdt,target in zip(SDT_test, target_test)])))"
   ]
  },
  {
   "cell_type": "code",
   "execution_count": 10,
   "metadata": {},
   "outputs": [
    {
     "data": {
      "text/plain": [
       "0.059913088"
      ]
     },
     "execution_count": 10,
     "metadata": {},
     "output_type": "execute_result"
    }
   ],
   "source": [
    "def diff_position(sdt, target):\n",
    "    fixed_base = sdt[8]\n",
    "    free_atom_idx = np.where(fixed_base == 0)[0]\n",
    "    free_atom_idx = torch.LongTensor(free_atom_idx)   \n",
    "    diff = (target[0] - sdt[4].numpy()[free_atom_idx])\n",
    "    return diff\n",
    "\n",
    "differences = []\n",
    "for sdt, target in zip(SDT_test, target_test):\n",
    "    differences.append(diff_position(sdt, target))\n",
    "differences = np.concatenate(differences)\n",
    "np.mean(np.abs(differences))"
   ]
  },
  {
   "cell_type": "code",
   "execution_count": null,
   "metadata": {},
   "outputs": [],
   "source": []
  },
  {
   "cell_type": "code",
   "execution_count": 11,
   "metadata": {
    "scrolled": false
   },
   "outputs": [],
   "source": [
    "from torch.optim import lr_scheduler\n",
    "import torch.optim as optim\n",
    "\n",
    "\n",
    "# train_test_splitter = ShuffleSplit(n_splits=1, test_size=0.1, random_state=42)\n",
    "train_test_splitter = ShuffleSplit(n_splits=1, test_size=0.1, random_state=22)\n",
    "\n",
    "\n",
    "batchsize = 17\n",
    "# warm restart scheduling from https://arxiv.org/pdf/1711.05101.pdf\n",
    "# LR_schedule = LRScheduler(CosineLRWithRestarts, batch_size=batchsize, epoch_size=len(SDT_training), restart_period=10, t_mult=1.2)\n",
    "\n",
    "#### For Sigopt\n",
    "LR_schedule = LRScheduler(\"MultiStepLR\", milestones=[100], gamma=0.1)\n",
    "\n",
    "#############\n",
    "# To extract intermediate features, set the forward takes only the first return value to calculate loss\n",
    "class MyNet(NeuralNetRegressor):\n",
    "    def get_loss(self, y_pred, y_true, **kwargs):\n",
    "        y_pred = y_pred[0] if isinstance(y_pred, tuple) else y_pred  # discard the 2nd output\n",
    "        differ=torch.sum((y_pred-y_true.cuda())**2.0,dim=1)\n",
    "        if torch.nonzero(differ).shape[0] != differ.shape[0]:\n",
    "            print('zero sqrt for Loss')\n",
    "#             zero_idx = (differ == 0).nonzero()\n",
    "#             differ[zero_idx] = 1e-6\n",
    "        differ = torch.clamp(differ, min=1e-8)\n",
    "\n",
    "        return torch.mean(torch.sqrt(differ))\n",
    "\n",
    "\n",
    "net = MyNet(\n",
    "    CrystalGraphConvNet,\n",
    "    module__orig_atom_fea_len = orig_atom_fea_len,\n",
    "    module__nbr_fea_len = nbr_fea_len,\n",
    "    batch_size=batchsize, #214\n",
    "    module__classification=False,\n",
    "    lr=0.0393415,\n",
    "    max_epochs= 200,\n",
    "    module__energy_mode=\"Harmonic\", #[\"Harmonic\", \"Morse\", \"LJ\"], Default = \"Harmonic\"\n",
    "    module__atom_fea_len=236, #46,\n",
    "    module__h_fea_len=6,\n",
    "    module__h_fea_len_dist=4,\n",
    "    module__h_fea_len_const=4,\n",
    "#     module__h_fea_len_D=(3,256),\n",
    "    module__n_conv=12, #8\n",
    "    module__n_h_dist=0,\n",
    "    optimizer__weight_decay=0.0000454,\n",
    "    module__n_h_const=0,\n",
    "#     module__n_h_D=(1,12),\n",
    "#     module__max_num_nbr=12, #9\n",
    "#     module__opt_step_size=(0.1,0.7), #0.3\n",
    "    module__min_opt_steps=30,\n",
    "    module__max_opt_steps=150,\n",
    "    module__momentum=0.8,\n",
    "    optimizer=AdamW,\n",
    "    iterator_train__pin_memory=True,\n",
    "    iterator_train__num_workers=0,\n",
    "    iterator_train__shuffle=True,\n",
    "    iterator_train__collate_fn = collate_pool,\n",
    "    iterator_valid__pin_memory=True,\n",
    "    iterator_valid__num_workers=0,\n",
    "    iterator_valid__collate_fn = collate_pool,\n",
    "    device=device,\n",
    "#     criterion=torch.nn.MSELoss,\n",
    "    criterion=torch.nn.L1Loss,\n",
    "    dataset=MergeDataset,\n",
    "    train_split = CVSplit(cv=train_test_splitter),\n",
    "    callbacks=[cp,LR_schedule , load_best_valid_loss],\n",
    "\n",
    ")\n",
    "\n",
    "\n",
    "net.initialize()\n",
    "net.load_params(f_history = './new_backup2/valid_best_history.json',\n",
    "               f_optimizer = './new_backup2/valid_best_optimizer.pt',\n",
    "               f_params = './new_backup2/valid_best_params.pt')"
   ]
  },
  {
   "cell_type": "code",
   "execution_count": null,
   "metadata": {},
   "outputs": [
    {
     "name": "stdout",
     "output_type": "stream",
     "text": [
      "Re-initializing module because the following parameters were re-set: atom_fea_len, classification, energy_mode, h_fea_len, h_fea_len_const, h_fea_len_dist, max_opt_steps, min_opt_steps, momentum, n_conv, n_h_const, n_h_dist, nbr_fea_len, orig_atom_fea_len.\n",
      "Re-initializing optimizer because the following parameters were re-set: weight_decay.\n",
      "  epoch    train_loss    valid_loss    cp       dur\n",
      "-------  ------------  ------------  ----  --------\n",
      "      1        \u001b[36m0.1267\u001b[0m        \u001b[32m0.1187\u001b[0m     +  273.2883\n",
      "      2        \u001b[36m0.1105\u001b[0m        \u001b[32m0.1093\u001b[0m     +  272.9614\n",
      "      3        \u001b[36m0.1028\u001b[0m        \u001b[32m0.1030\u001b[0m     +  266.0697\n",
      "      4        0.1042        \u001b[32m0.1014\u001b[0m     +  261.5299\n",
      "      5        \u001b[36m0.1017\u001b[0m        \u001b[32m0.1010\u001b[0m     +  257.5591\n",
      "      6        \u001b[36m0.1011\u001b[0m        \u001b[32m0.1008\u001b[0m     +  259.1927\n",
      "      7        \u001b[36m0.0942\u001b[0m        \u001b[32m0.0985\u001b[0m     +  265.6314\n",
      "      8        0.0957        0.1007        260.3340\n",
      "      9        \u001b[36m0.0922\u001b[0m        \u001b[32m0.0930\u001b[0m     +  261.1712\n",
      "     10        \u001b[36m0.0894\u001b[0m        \u001b[32m0.0918\u001b[0m     +  265.9494\n",
      "     11        \u001b[36m0.0882\u001b[0m        \u001b[32m0.0900\u001b[0m     +  263.2040\n",
      "     12        \u001b[36m0.0853\u001b[0m        \u001b[32m0.0886\u001b[0m     +  260.9503\n",
      "     13        \u001b[36m0.0844\u001b[0m        \u001b[32m0.0878\u001b[0m     +  261.2736\n",
      "blow up\n",
      "blow up\n",
      "blow up\n",
      "blow up\n",
      "blow up\n",
      "blow up\n",
      "blow up\n",
      "     14        \u001b[36m0.0821\u001b[0m        0.0895        256.3024\n",
      "     15        \u001b[36m0.0815\u001b[0m        \u001b[32m0.0851\u001b[0m     +  255.7731\n",
      "     16        \u001b[36m0.0801\u001b[0m        \u001b[32m0.0824\u001b[0m     +  259.1228\n",
      "     17        \u001b[36m0.0783\u001b[0m        0.0844        257.1936\n",
      "     18        \u001b[36m0.0775\u001b[0m        \u001b[32m0.0813\u001b[0m     +  256.7351\n",
      "blow up\n",
      "     19        \u001b[36m0.0759\u001b[0m        0.0894        256.7311\n",
      "     20        0.0763        0.0829        254.4827\n",
      "blow up\n",
      "     21        0.0760        \u001b[32m0.0807\u001b[0m     +  251.0440\n",
      "     22        \u001b[36m0.0724\u001b[0m        0.0835        251.9732\n",
      "     23        0.0739        \u001b[32m0.0806\u001b[0m     +  254.7296\n",
      "     24        0.0729        0.0829        253.1404\n",
      "blow up\n",
      "     25        \u001b[36m0.0716\u001b[0m        \u001b[32m0.0793\u001b[0m     +  252.5727\n",
      "blow up\n",
      "     26        \u001b[36m0.0713\u001b[0m        0.0807        249.9535\n",
      "blow up\n",
      "     27        \u001b[36m0.0692\u001b[0m        0.0857        251.3519\n",
      "     28        \u001b[36m0.0676\u001b[0m        0.0839        254.2756\n",
      "     29        0.0697        \u001b[32m0.0771\u001b[0m     +  247.8242\n",
      "     30        0.0681        0.0819        244.2322\n",
      "blow up\n",
      "blow up\n",
      "blow up\n",
      "blow up\n",
      "blow up\n",
      "blow up\n",
      "     31        \u001b[36m0.0668\u001b[0m        0.0832        237.1985\n",
      "blow up\n",
      "blow up\n",
      "     32        0.0685        0.0809        236.5145\n",
      "blow up\n",
      "     33        \u001b[36m0.0663\u001b[0m        0.0801        238.7026\n",
      "blow up\n",
      "blow up\n",
      "blow up\n",
      "blow up\n",
      "blow up\n",
      "blow up\n",
      "blow up\n",
      "blow up\n",
      "blow up\n",
      "blow up\n",
      "     34        \u001b[36m0.0663\u001b[0m        0.0870        237.6123\n",
      "     35        0.0665        0.0779        237.0961\n",
      "blow up\n",
      "blow up\n",
      "blow up\n",
      "     36        \u001b[36m0.0640\u001b[0m        0.0791        239.2174\n",
      "     37        \u001b[36m0.0629\u001b[0m        \u001b[32m0.0765\u001b[0m     +  237.5247\n",
      "     38        0.0645        0.0773        238.5147\n",
      "     39        0.0629        0.0830        237.7467\n",
      "blow up\n",
      "blow up\n",
      "     40        \u001b[36m0.0619\u001b[0m        \u001b[32m0.0765\u001b[0m     +  237.1114\n",
      "     41        0.0640        \u001b[32m0.0758\u001b[0m     +  242.2848\n",
      "     42        \u001b[36m0.0609\u001b[0m        \u001b[32m0.0748\u001b[0m     +  237.6914\n",
      "     43        \u001b[36m0.0592\u001b[0m        0.0797        235.9304\n",
      "     44        0.0627        0.0821        234.9624\n",
      "     45        \u001b[36m0.0586\u001b[0m        0.0829        238.1745\n",
      "blow up\n",
      "     46        0.0627        0.0810        235.6953\n",
      "     47        0.0616        \u001b[32m0.0726\u001b[0m     +  237.6594\n",
      "     48        0.0595        0.0741        240.1431\n",
      "     49        \u001b[36m0.0576\u001b[0m        0.0758        238.3369\n",
      "     50        0.0578        0.0760        232.7577\n",
      "     51        \u001b[36m0.0562\u001b[0m        0.0735        236.5774\n",
      "     52        0.0563        0.0739        237.7787\n",
      "     53        \u001b[36m0.0557\u001b[0m        0.0747        233.9608\n",
      "     54        0.0569        0.0746        233.1624\n",
      "     55        0.0558        0.0738        238.2276\n",
      "     56        0.0558        \u001b[32m0.0723\u001b[0m     +  238.8519\n",
      "     57        \u001b[36m0.0543\u001b[0m        0.0755        238.0878\n",
      "blow up\n",
      "     58        0.0563        0.0725        237.1495\n",
      "     59        0.0561        0.0726        236.0841\n",
      "     60        \u001b[36m0.0539\u001b[0m        0.0880        235.2023\n",
      "     61        0.0556        0.0762        238.7084\n",
      "     62        \u001b[36m0.0529\u001b[0m        0.0749        235.5856\n",
      "     63        \u001b[36m0.0514\u001b[0m        0.0733        236.2626\n",
      "     64        0.0526        \u001b[32m0.0699\u001b[0m     +  242.3113\n",
      "     65        0.0527        0.0700        241.8157\n",
      "     66        0.0523        0.0734        240.2563\n",
      "blow up\n",
      "     67        0.0517        0.0743        239.1644\n",
      "blow up\n",
      "blow up\n",
      "blow up\n",
      "blow up\n",
      "blow up\n",
      "     68        0.0525        0.0771        237.4263\n",
      "     69        0.0526        0.0711        242.0128\n",
      "     70        \u001b[36m0.0503\u001b[0m        0.0785        240.7249\n",
      "     71        0.0515        0.0712        237.3396\n",
      "     72        0.0516        0.0712        240.8759\n",
      "blow up\n",
      "blow up\n",
      "     73        0.0509        0.0730        236.8033\n",
      "     74        0.0518        0.0713        242.6274\n",
      "     75        \u001b[36m0.0500\u001b[0m        0.0741        240.3890\n",
      "     76        0.0514        0.0706        239.0780\n",
      "     77        \u001b[36m0.0491\u001b[0m        0.0699        240.2278\n",
      "blow up\n",
      "     78        \u001b[36m0.0490\u001b[0m        0.0720        240.9012\n",
      "     79        0.0493        0.0710        242.3372\n",
      "     80        0.0495        \u001b[32m0.0697\u001b[0m     +  239.9409\n",
      "     81        0.0495        0.0743        239.9917\n",
      "     82        0.0496        0.0708        242.5788\n",
      "     83        \u001b[36m0.0487\u001b[0m        0.0721        241.8138\n",
      "     84        0.0506        \u001b[32m0.0684\u001b[0m     +  239.3338\n",
      "     85        0.0493        0.0709        241.2179\n",
      "     86        \u001b[36m0.0478\u001b[0m        0.0693        241.9855\n",
      "     87        0.0487        0.0754        239.4802\n",
      "     88        \u001b[36m0.0477\u001b[0m        0.0712        240.6746\n",
      "     89        0.0479        0.0706        242.8077\n",
      "     90        \u001b[36m0.0468\u001b[0m        0.0698        241.5303\n",
      "     91        0.0476        0.0704        240.4829\n",
      "     92        0.0468        0.0686        240.0860\n",
      "     93        0.0482        0.0733        241.9890\n",
      "     94        \u001b[36m0.0460\u001b[0m        0.0723        244.0039\n",
      "     95        0.0474        0.0709        239.9897\n",
      "     96        0.0489        0.0745        239.8616\n",
      "     97        0.0468        0.0690        238.8303\n",
      "     98        0.0465        0.0692        243.4202\n",
      "     99        \u001b[36m0.0457\u001b[0m        0.0697        243.5047\n",
      "    100        0.0468        0.0741        244.0764\n",
      "    101        \u001b[36m0.0400\u001b[0m        \u001b[32m0.0652\u001b[0m     +  247.6179\n",
      "    102        \u001b[36m0.0371\u001b[0m        \u001b[32m0.0645\u001b[0m     +  248.8026\n",
      "    103        \u001b[36m0.0353\u001b[0m        \u001b[32m0.0641\u001b[0m     +  249.3481\n",
      "    104        \u001b[36m0.0343\u001b[0m        0.0645        251.2197\n",
      "    105        \u001b[36m0.0327\u001b[0m        \u001b[32m0.0635\u001b[0m     +  252.4353\n",
      "    106        \u001b[36m0.0325\u001b[0m        \u001b[32m0.0634\u001b[0m     +  251.9778\n",
      "    107        \u001b[36m0.0322\u001b[0m        \u001b[32m0.0632\u001b[0m     +  254.7589\n",
      "    108        \u001b[36m0.0320\u001b[0m        0.0633        267.6395\n",
      "    109        \u001b[36m0.0317\u001b[0m        \u001b[32m0.0631\u001b[0m     +  259.0388\n",
      "    110        \u001b[36m0.0310\u001b[0m        \u001b[32m0.0627\u001b[0m     +  257.4905\n",
      "    111        0.0317        0.0633        259.8068\n",
      "    112        \u001b[36m0.0301\u001b[0m        0.0630        261.8543\n",
      "    113        0.0303        \u001b[32m0.0627\u001b[0m     +  273.0700\n",
      "    114        0.0305        0.0642        718.1402\n",
      "    115        0.0303        0.0629        260.4024\n",
      "    116        \u001b[36m0.0296\u001b[0m        0.0631        261.8186\n",
      "    117        \u001b[36m0.0289\u001b[0m        0.0633        260.3530\n",
      "    118        0.0299        0.0632        260.8585\n",
      "    119        0.0291        0.0629        262.1701\n",
      "    120        0.0292        0.0629        261.5527\n",
      "    121        0.0295        0.0631        262.1709\n",
      "    122        \u001b[36m0.0288\u001b[0m        0.0632        262.1520\n",
      "    123        \u001b[36m0.0286\u001b[0m        0.0630        261.4612\n",
      "    124        \u001b[36m0.0283\u001b[0m        0.0628        262.4214\n",
      "    125        0.0288        0.0632        266.3074\n"
     ]
    },
    {
     "name": "stdout",
     "output_type": "stream",
     "text": [
      "    126        0.0288        0.0628        263.8816\n",
      "    127        \u001b[36m0.0283\u001b[0m        0.0627        265.7924\n",
      "    128        \u001b[36m0.0278\u001b[0m        0.0631        264.0317\n",
      "    129        0.0280        0.0638        265.9407\n",
      "    130        0.0281        0.0632        264.4652\n",
      "    131        0.0278        0.0631        264.4909\n",
      "    132        \u001b[36m0.0278\u001b[0m        \u001b[32m0.0626\u001b[0m     +  265.8386\n",
      "    133        \u001b[36m0.0277\u001b[0m        0.0627        266.8137\n",
      "    134        \u001b[36m0.0273\u001b[0m        0.0630        268.5444\n",
      "    135        \u001b[36m0.0271\u001b[0m        0.0628        267.7952\n",
      "    136        0.0271        0.0633        266.3804\n",
      "    137        0.0276        0.0631        267.2170\n"
     ]
    }
   ],
   "source": [
    "# net.initialize()\n",
    "# net.fit(SDT_training, target_training)"
   ]
  },
  {
   "cell_type": "code",
   "execution_count": 12,
   "metadata": {},
   "outputs": [
    {
     "name": "stdout",
     "output_type": "stream",
     "text": [
      "659 659 659\n",
      "601 601 601\n"
     ]
    }
   ],
   "source": [
    "natoms =[]\n",
    "types = []\n",
    "steps = []\n",
    "distances = []\n",
    "filtered_idx = []\n",
    "docs_test_new = []\n",
    "SDT_test_new, target_test_new= [], []\n",
    "print(len(docs_test), len(SDT_test), len(target_test))\n",
    "for i, doc in enumerate(docs_test):\n",
    "    sdt = SDT_test[i]\n",
    "    target = target_test[i]\n",
    "\n",
    "    atoms = mongo.make_atoms_from_doc(doc, is_initial=True)\n",
    "    atoms_final = mongo.make_atoms_from_doc(doc, is_initial=False)\n",
    "    if atoms.constraints:\n",
    "        fixed_atom_idx = atoms.constraints[0].index\n",
    "        base = np.ones(len(atoms.positions))\n",
    "        base[fixed_atom_idx] = 0\n",
    "        free_atom_idx = np.where(base==1)[0]\n",
    "        \n",
    "    else:\n",
    "        free_atom_idx = np.arange(len(atoms))\n",
    "    difference = atoms.positions[free_atom_idx] - atoms_final.positions[free_atom_idx]\n",
    "    dist = np.sqrt(np.sum(difference**2, axis=1))\n",
    "    \n",
    "    if np.mean(dist) > 0.06:\n",
    "        distances.append(dist)\n",
    "        filtered_idx.append(doc['idx'])\n",
    "        \n",
    "        SDT_test_new.append(sdt)\n",
    "        docs_test_new.append(doc)\n",
    "        target_test_new.append(target)\n",
    "\n",
    "docs_test = docs_test_new\n",
    "SDT_test = SDT_test_new\n",
    "target_test = target_test_new\n",
    "print(len(docs_test), len(SDT_test), len(target_test))\n"
   ]
  },
  {
   "cell_type": "code",
   "execution_count": 13,
   "metadata": {},
   "outputs": [],
   "source": [
    "# SDT_train, SDT_valid, target_train, target_valid = train_test_split(SDT_training, target_training, \n",
    "#                                                                     test_size=0.1, random_state=42)\n",
    "def get_targets(dummy_SDT, dummy_targets):\n",
    "    targets = []\n",
    "    for i, target in enumerate(dummy_targets):\n",
    "        free_atom_idx = dummy_SDT[i][-2]\n",
    "        targets.append(target[0].reshape(-1,3))\n",
    "    return np.concatenate(targets)\n",
    "\n",
    "def get_distance(pred, true):\n",
    "    diff = np.sum((pred - true)**2, axis=1)\n",
    "    return np.sqrt(diff)\n",
    "\n",
    "def get_initial(SDT_list):\n",
    "    init_test = []\n",
    "    for sdt in SDT_list:\n",
    "        free_atom_idx = sdt[-2]\n",
    "        atom_pos = sdt[4][free_atom_idx]\n",
    "        init_test.append(atom_pos)\n",
    "    return np.concatenate(init_test)\n",
    "        "
   ]
  },
  {
   "cell_type": "code",
   "execution_count": 16,
   "metadata": {},
   "outputs": [],
   "source": [
    "# init_test = get_initial(SDT_test)\n",
    "# pred_test = net.predict(SDT_test)\n",
    "# true_test = get_targets(SDT_test, target_test)\n",
    "\n",
    "init_test = pickle.load(open('./new_backup2/init_test.pkl', 'rb'))\n",
    "pred_test = pickle.load(open('./new_backup2/pred_test.pkl', 'rb'))\n",
    "true_test = pickle.load(open('./new_backup2/true_test.pkl', 'rb'))\n",
    "\n",
    "torch.cuda.empty_cache()\n",
    "\n",
    "distance_test = get_distance(pred_test, true_test)\n",
    "distance_pred_initial = get_distance(pred_test, init_test)\n",
    "distance_init = get_distance(init_test, true_test)\n",
    "\n",
    "###### Per ATOM MAE ##### (NOT per structure MAE)\n",
    "\n",
    "MAE_pred_final = np.mean(distance_test)\n",
    "MAE_pred_initial = np.mean(distance_pred_initial)\n",
    "MAE_initial_final = np.mean(distance_init)"
   ]
  },
  {
   "cell_type": "code",
   "execution_count": 17,
   "metadata": {},
   "outputs": [],
   "source": [
    "# pickle.dump(init_test, open('./new_backup2/init_test.pkl', 'wb'))\n",
    "# pickle.dump(pred_test, open('./new_backup2/pred_test.pkl', 'wb'))\n",
    "# pickle.dump(true_test, open('./new_backup2/true_test.pkl', 'wb'))"
   ]
  },
  {
   "cell_type": "code",
   "execution_count": 18,
   "metadata": {},
   "outputs": [
    {
     "name": "stdout",
     "output_type": "stream",
     "text": [
      "0.17722969 0.09127655 0.5150184\n"
     ]
    }
   ],
   "source": [
    "#### RMSD ####\n",
    "RMSD_init = np.sqrt(np.mean(np.sum((init_test - true_test)**2, axis=1)))\n",
    "RMSD_pred = np.sqrt(np.mean(np.sum((pred_test - true_test)**2, axis=1)))\n",
    "print(RMSD_init, RMSD_pred, RMSD_pred/RMSD_init)"
   ]
  },
  {
   "cell_type": "code",
   "execution_count": 19,
   "metadata": {},
   "outputs": [
    {
     "name": "stdout",
     "output_type": "stream",
     "text": [
      "0.06328186 0.120388664 0.1383077\n",
      "0.45754397 0.5424560308456421\n"
     ]
    }
   ],
   "source": [
    "print(MAE_pred_final, MAE_pred_initial, MAE_initial_final)\n",
    "print(MAE_pred_final/MAE_initial_final, 1 - MAE_pred_final/MAE_initial_final)"
   ]
  },
  {
   "cell_type": "code",
   "execution_count": 20,
   "metadata": {},
   "outputs": [
    {
     "data": {
      "image/png": "[encoded data removed]",
      "text/plain": [
       "<Figure size 489.6x388.8 with 1 Axes>"
      ]
     },
     "metadata": {},
     "output_type": "display_data"
    }
   ],
   "source": [
    "sns.set(color_codes=True)\n",
    "sns.set(rc={'figure.figsize':(6.8, 5.4)})\n",
    "sns.set(font_scale = 1.2)\n",
    "sns.set_style(\"whitegrid\")\n",
    "# sns.set_style(\"white\")\n",
    "\n",
    "ax = sns.distplot(distance_test, bins=20, kde=False, color='darkblue', label='pred, $x = \\hat{x}_{min}$')\n",
    "ax = sns.distplot(distance_init, bins=20, kde=False, color='darkorange', label='initial, $x = x_{0}$')\n",
    "_ = ax.set_xlim(-0.02, 0.7)\n",
    "_ = ax.set_xlabel('Distance per atom, $\\||x - x^{*}_{min}\\||_{2}$', fontsize=16)\n",
    "_ = ax.set_title('Surfaces without adsorbates', fontsize=20)\n",
    "_ = ax.legend(loc='upper right', fontsize=16)\n",
    "\n",
    "plt.savefig('./new_backup/plot.pdf')"
   ]
  },
  {
   "cell_type": "code",
   "execution_count": 21,
   "metadata": {},
   "outputs": [
    {
     "data": {
      "image/png": "[encoded data removed]",
      "text/plain": [
       "<Figure size 720x504 with 2 Axes>"
      ]
     },
     "metadata": {},
     "output_type": "display_data"
    }
   ],
   "source": [
    "sns.set(color_codes=True)\n",
    "sns.set(rc={'figure.figsize':(10,7)})\n",
    "sns.set(font_scale = 1.2)\n",
    "# sns.set_style(\"whitegrid\")\n",
    "sns.set_style(\"white\")\n",
    "\n",
    "ax = sns.distplot(distance_test, bins=20, kde=False, color='darkblue')\n",
    "_ = ax.set_xlim(-0.02, 0.7)\n",
    "_ = ax.set_xlabel('Distance per atom, $\\||\\hat{x}_{min} - x^{*}_{min}\\||_{2}$', fontsize=16)\n",
    "_ = ax.set_title('Surfaces without adsorbates', fontsize=20)\n",
    "\n",
    "plt.axes([0.4, .3, .45, .5])\n",
    "plt.hist(distance_init, 20, color='y')\n",
    "plt.title('Initial', fontsize=16)\n",
    "plt.xlim(-0.02,0.7)\n",
    "plt.xlabel('Distance per atom, $\\||x_{0} - x^{*}_{min}\\||_{2}$', fontsize=16)\n",
    "\n",
    "plt.savefig('./new_backup/plot2.pdf')"
   ]
  },
  {
   "cell_type": "code",
   "execution_count": null,
   "metadata": {},
   "outputs": [],
   "source": []
  },
  {
   "cell_type": "code",
   "execution_count": 18,
   "metadata": {},
   "outputs": [],
   "source": [
    "docs_train, docs_val = train_test_split(docs_training, test_size=0.1, random_state=42)"
   ]
  },
  {
   "cell_type": "code",
   "execution_count": 30,
   "metadata": {},
   "outputs": [],
   "source": [
    "def analysis(SDT, docs, distance):\n",
    "    dist_per_surface = []\n",
    "    init_dist_per_surface = []\n",
    "    total_atoms = 0\n",
    "    for i in range(len(SDT)):\n",
    "        doc = docs[i]\n",
    "        sdt = SDT[i]\n",
    "        \n",
    "        num_atoms = sdt[-2].shape[0]\n",
    "        dist_per_surface.append(np.mean(distance[total_atoms: total_atoms+num_atoms]))\n",
    "        total_atoms += num_atoms\n",
    "        init_dist = torch.sqrt(torch.sum(((sdt[4] - sdt[-1])[sdt[-2]]**2), dim=1))\n",
    "        init_dist_per_surface.append(torch.mean(init_dist))\n",
    "        \n",
    "    assert len(distance) == total_atoms\n",
    "    results =[]\n",
    "    reduced = []\n",
    "    best = []\n",
    "    bad_result =[]\n",
    "    good_result=[]\n",
    "    bad_docs = []\n",
    "    good_docs = []\n",
    "    test_idx = 0\n",
    "    MAE, MAE_pos = [], []\n",
    "    for dist, doc, init_dist in zip(dist_per_surface, docs, init_dist_per_surface):\n",
    "        if doc['idx'] in filtered_idx:\n",
    "\n",
    "            atoms = mongo.make_atoms_from_doc(doc, is_initial=True)\n",
    "            atoms_final = mongo.make_atoms_from_doc(doc, is_initial=False)\n",
    "            base = np.zeros_like(atoms.positions)\n",
    "            base[atoms.constraints[0].get_indices()] = 1\n",
    "            free_atom_idx = np.where(base == 0)[0]\n",
    "\n",
    "            total_steps = len(doc['distances_per_step'])\n",
    "            reduced_steps = len(np.where(doc['distances_per_step'] >= dist)[0])\n",
    "            results.append([total_steps, reduced_steps, reduced_steps/total_steps])\n",
    "            reduced.append(reduced_steps/total_steps)\n",
    "\n",
    "            MAE_ratio = dist/init_dist.item()\n",
    "            MAE.append(dist)\n",
    "            MAE_pos.append(np.mean(np.abs((atoms.positions - atoms_final.positions)[free_atom_idx])))\n",
    "            if reduced_steps/total_steps < 0.1:\n",
    "                bad_docs.append(doc)\n",
    "                bad_result.append([test_idx, total_steps, reduced_steps, np.round(reduced_steps/total_steps, 4), \n",
    "                                   np.round(init_dist.item(),4), np.round(dist,4), np.round(MAE_ratio,4)])\n",
    "            else:\n",
    "                good_docs.append(doc)\n",
    "                good_result.append([test_idx, total_steps, reduced_steps, np.round(reduced_steps/total_steps, 4), \n",
    "                                   np.round(init_dist.item(),4), np.round(dist,4), np.round(MAE_ratio,4)])\n",
    "            test_idx += 1\n",
    "\n",
    "    return reduced, np.mean(MAE), MAE_pos, bad_result, good_result, bad_docs, good_docs"
   ]
  },
  {
   "cell_type": "code",
   "execution_count": 31,
   "metadata": {},
   "outputs": [
    {
     "data": {
      "text/plain": [
       "0.1383077"
      ]
     },
     "execution_count": 31,
     "metadata": {},
     "output_type": "execute_result"
    }
   ],
   "source": [
    "def diff(sdt, target):\n",
    "    fixed_base = sdt[8]\n",
    "    free_atom_idx = np.where(fixed_base == 0)[0]\n",
    "    free_atom_idx = torch.LongTensor(free_atom_idx)   \n",
    "    diff = np.sum(((target[0] - sdt[4].numpy()[free_atom_idx]))**2.,axis=1)**0.5 \n",
    "    return diff\n",
    "\n",
    "dist = []\n",
    "for doc, sdt, target in zip(docs_test, SDT_test, target_test):\n",
    "    if doc['idx'] in filtered_idx:\n",
    "        dist.append(diff(sdt, target))\n",
    "MAE_init = np.mean(np.concatenate(dist))\n",
    "MAE_init"
   ]
  },
  {
   "cell_type": "code",
   "execution_count": 32,
   "metadata": {},
   "outputs": [],
   "source": [
    "reduced, MAE, MAE_pos, bad_result, good_result, bad_docs, good_docs = analysis(SDT_test, docs_test, distance_test)"
   ]
  },
  {
   "cell_type": "code",
   "execution_count": 33,
   "metadata": {},
   "outputs": [
    {
     "name": "stdout",
     "output_type": "stream",
     "text": [
      "0.06369467 0.5394712686538696\n"
     ]
    }
   ],
   "source": [
    "print(MAE, 1 - MAE/MAE_init)"
   ]
  },
  {
   "cell_type": "code",
   "execution_count": 34,
   "metadata": {},
   "outputs": [
    {
     "data": {
      "text/plain": [
       "0.3279645932789878"
      ]
     },
     "execution_count": 34,
     "metadata": {},
     "output_type": "execute_result"
    }
   ],
   "source": [
    "np.mean(reduced) #after filtering dist > 0.06 on test set"
   ]
  },
  {
   "cell_type": "code",
   "execution_count": 28,
   "metadata": {
    "scrolled": true
   },
   "outputs": [],
   "source": [
    "natoms =[]\n",
    "types = []\n",
    "steps = []\n",
    "distances = []\n",
    "filtered_idx = []\n",
    "docs_test_new = []\n",
    "for doc in docs_test:\n",
    "    natoms.append(doc['atoms']['natoms'])\n",
    "    types.extend(doc['atoms']['chemical_symbols'])\n",
    "    atoms = mongo.make_atoms_from_doc(doc, is_initial=True)\n",
    "    atoms_final = mongo.make_atoms_from_doc(doc, is_initial=False)\n",
    "    if atoms.constraints:\n",
    "        fixed_atom_idx = atoms.constraints[0].index\n",
    "        base = np.ones(len(atoms.positions))\n",
    "        base[fixed_atom_idx] = 0\n",
    "        free_atom_idx = np.where(base==1)[0]\n",
    "        \n",
    "    else:\n",
    "        free_atom_idx = np.arange(len(atoms))\n",
    "    difference = atoms.positions[free_atom_idx] - atoms_final.positions[free_atom_idx]\n",
    "    dist = np.sqrt(np.sum(difference**2, axis=1))\n",
    "    if np.mean(dist) > 0.06:\n",
    "        distances.append(dist)\n",
    "        filtered_idx.append(doc['idx'])"
   ]
  },
  {
   "cell_type": "code",
   "execution_count": 29,
   "metadata": {},
   "outputs": [
    {
     "data": {
      "text/plain": [
       "(array([15., 21., 16., 14., 23., 22., 19., 24., 27., 33., 36., 18., 16.,\n",
       "        23., 19., 19., 16., 13., 23., 16., 13., 16., 14.,  9., 14., 14.,\n",
       "         4.,  8., 11.,  9.,  5.,  8.,  3.,  8.,  1.,  9.,  3.,  3.,  3.,\n",
       "         7.,  0.,  7.,  6.,  3.,  4.,  2.,  1.,  2.,  0.,  1.]),\n",
       " array([0.06068707, 0.06546743, 0.07024778, 0.07502814, 0.07980849,\n",
       "        0.08458885, 0.0893692 , 0.09414956, 0.09892991, 0.10371027,\n",
       "        0.10849062, 0.11327098, 0.11805133, 0.12283169, 0.12761204,\n",
       "        0.1323924 , 0.13717275, 0.1419531 , 0.14673346, 0.15151381,\n",
       "        0.15629417, 0.16107452, 0.16585488, 0.17063523, 0.17541559,\n",
       "        0.18019594, 0.1849763 , 0.18975665, 0.19453701, 0.19931736,\n",
       "        0.20409772, 0.20887807, 0.21365843, 0.21843878, 0.22321914,\n",
       "        0.22799949, 0.23277985, 0.2375602 , 0.24234056, 0.24712091,\n",
       "        0.25190127, 0.25668162, 0.26146198, 0.26624233, 0.27102269,\n",
       "        0.27580304, 0.2805834 , 0.28536375, 0.29014411, 0.29492446,\n",
       "        0.29970482]),\n",
       " <a list of 50 Patch objects>)"
      ]
     },
     "execution_count": 29,
     "metadata": {},
     "output_type": "execute_result"
    },
    {
     "data": {
      "image/png": "[encoded data removed]",
      "text/plain": [
       "<Figure size 432x288 with 1 Axes>"
      ]
     },
     "metadata": {
      "needs_background": "light"
     },
     "output_type": "display_data"
    }
   ],
   "source": [
    "d_mean=[]\n",
    "for dist in distances:\n",
    "    d_mean.append(np.mean(dist))\n",
    "plt.hist(d_mean, bins=50)"
   ]
  },
  {
   "cell_type": "code",
   "execution_count": 89,
   "metadata": {},
   "outputs": [],
   "source": [
    "good_idx = np.array(good_result)[:,0].astype(int)\n",
    "bad_idx = np.array(bad_result)[:,0].astype(int)\n",
    "# np.random.shuffle(good_idx)\n",
    "\n",
    "total_atoms = 0\n",
    "for i in range(len(docs_test)):\n",
    "    idx = i\n",
    "    doc = docs_test[idx]\n",
    "    sdt = SDT_test[idx]\n",
    "    fixed_base = sdt[-3]\n",
    "    fixed_atom_idx = np.where(fixed_base == 1)[0]\n",
    "    free_atom_idx2 = np.where(fixed_base == 0)[0]\n",
    "    free_atom_idx = sdt[-2]\n",
    "    assert free_atom_idx2.all() == free_atom_idx.numpy().all()\n",
    "    num_atoms = len(free_atom_idx)\n",
    "\n",
    "    init = init_test[total_atoms:total_atoms+num_atoms]\n",
    "    pred = pred_test[total_atoms:total_atoms+num_atoms]\n",
    "    true = true_test[total_atoms:total_atoms+num_atoms]\n",
    "    loss = np.mean(distance_test[total_atoms: total_atoms+num_atoms])\n",
    "    total_atoms += num_atoms\n",
    "\n",
    "    if doc['idx'] in filtered_idx:\n",
    "        if doc['data'] == 'surface':\n",
    "            atoms = mongo.make_atoms_from_doc(doc, is_initial=True)\n",
    "            atoms.write('./new_backup/traj_surface/initial/%d_%.4f_initial.traj' %(doc['idx'], loss))\n",
    "\n",
    "            atoms_pred = copy.deepcopy(atoms)\n",
    "            atoms_pred.positions[free_atom_idx] = pred\n",
    "            atoms_pred.write('./new_backup/traj_surface/test/%d_%.4f_pred.traj' %(doc['idx'],loss))\n",
    "\n",
    "        elif doc['data'] == 'slab':\n",
    "            atoms = mongo.make_atoms_from_doc(doc, is_initial=True)\n",
    "            atoms.write('./new_backup/traj_slab/initial/%d_%.4f_initial.traj' %(doc['idx'], loss))\n",
    "\n",
    "            atoms_pred = copy.deepcopy(atoms)\n",
    "            atoms_pred.positions[free_atom_idx] = pred\n",
    "            atoms_pred.write('./new_backup/traj_slab/test/%d_%.4f_pred.traj' %(doc['idx'],loss))"
   ]
  },
  {
   "cell_type": "code",
   "execution_count": 263,
   "metadata": {},
   "outputs": [
    {
     "data": {
      "text/plain": [
       "2035"
      ]
     },
     "execution_count": 263,
     "metadata": {},
     "output_type": "execute_result"
    }
   ],
   "source": [
    "doc['idx']"
   ]
  },
  {
   "cell_type": "code",
   "execution_count": 24,
   "metadata": {},
   "outputs": [
    {
     "ename": "NameError",
     "evalue": "name 'distance_val' is not defined",
     "output_type": "error",
     "traceback": [
      "\u001b[0;31m---------------------------------------------------------------------------\u001b[0m",
      "\u001b[0;31mNameError\u001b[0m                                 Traceback (most recent call last)",
      "\u001b[0;32m<ipython-input-24-37ac59825bc8>\u001b[0m in \u001b[0;36m<module>\u001b[0;34m\u001b[0m\n\u001b[0;32m----> 1\u001b[0;31m \u001b[0mresults\u001b[0m\u001b[0;34m,\u001b[0m \u001b[0mreduced\u001b[0m\u001b[0;34m,\u001b[0m \u001b[0mbad_docs\u001b[0m\u001b[0;34m,\u001b[0m \u001b[0mbad_result\u001b[0m\u001b[0;34m,\u001b[0m\u001b[0mgood_docs\u001b[0m\u001b[0;34m,\u001b[0m\u001b[0mgood_result\u001b[0m \u001b[0;34m=\u001b[0m \u001b[0manalysis\u001b[0m\u001b[0;34m(\u001b[0m\u001b[0mSDT_valid\u001b[0m\u001b[0;34m,\u001b[0m \u001b[0mdocs_val\u001b[0m\u001b[0;34m,\u001b[0m \u001b[0mdistance_val\u001b[0m\u001b[0;34m)\u001b[0m\u001b[0;34m\u001b[0m\u001b[0;34m\u001b[0m\u001b[0m\n\u001b[0m",
      "\u001b[0;31mNameError\u001b[0m: name 'distance_val' is not defined"
     ]
    }
   ],
   "source": [
    "results, reduced, bad_docs, bad_result,good_docs,good_result = analysis(SDT_valid, docs_val, distance_val)"
   ]
  },
  {
   "cell_type": "code",
   "execution_count": 133,
   "metadata": {},
   "outputs": [
    {
     "data": {
      "text/plain": [
       "Text(0.5, 0, '% Reduced')"
      ]
     },
     "execution_count": 133,
     "metadata": {},
     "output_type": "execute_result"
    },
    {
     "data": {
      "image/png": "[encoded data removed]",
      "text/plain": [
       "<Figure size 432x288 with 1 Axes>"
      ]
     },
     "metadata": {
      "needs_background": "light"
     },
     "output_type": "display_data"
    }
   ],
   "source": [
    "import matplotlib.pyplot as plt\n",
    "plt.hist(reduced, bins=40)\n",
    "plt.title(\"Test\")\n",
    "plt.xlabel(\"% Reduced\")"
   ]
  },
  {
   "cell_type": "code",
   "execution_count": 22,
   "metadata": {},
   "outputs": [
    {
     "data": {
      "text/plain": [
       "'slab'"
      ]
     },
     "execution_count": 22,
     "metadata": {},
     "output_type": "execute_result"
    }
   ],
   "source": [
    "docs_train[0]['data']"
   ]
  },
  {
   "cell_type": "code",
   "execution_count": 23,
   "metadata": {},
   "outputs": [],
   "source": [
    "f = []\n",
    "for doc in good_docs:\n",
    "    f.append(doc['data'])"
   ]
  },
  {
   "cell_type": "code",
   "execution_count": 24,
   "metadata": {},
   "outputs": [
    {
     "data": {
      "text/plain": [
       "Counter({'surface': 228, 'slab': 367})"
      ]
     },
     "execution_count": 24,
     "metadata": {},
     "output_type": "execute_result"
    }
   ],
   "source": [
    "import collections\n",
    "collections.Counter(f)"
   ]
  },
  {
   "cell_type": "code",
   "execution_count": 25,
   "metadata": {},
   "outputs": [
    {
     "data": {
      "text/plain": [
       "0.27353239056302664"
      ]
     },
     "execution_count": 25,
     "metadata": {},
     "output_type": "execute_result"
    }
   ],
   "source": [
    "np.mean(reduced)"
   ]
  },
  {
   "cell_type": "code",
   "execution_count": null,
   "metadata": {},
   "outputs": [],
   "source": []
  },
  {
   "cell_type": "code",
   "execution_count": 152,
   "metadata": {},
   "outputs": [],
   "source": [
    "natoms =[]\n",
    "types = []\n",
    "steps = []\n",
    "distances = []\n",
    "filtered_idx = []\n",
    "docs_test_new = []\n",
    "for doc in bad_docs:\n",
    "    natoms.append(doc['atoms']['natoms'])\n",
    "    types.extend(doc['atoms']['chemical_symbols'])\n",
    "    atoms = mongo.make_atoms_from_doc(doc, is_initial=True)\n",
    "    atoms_final = mongo.make_atoms_from_doc(doc, is_initial=False)\n",
    "    if atoms.constraints:\n",
    "        fixed_atom_idx = atoms.constraints[0].index\n",
    "        base = np.ones(len(atoms.positions))\n",
    "        base[fixed_atom_idx] = 0\n",
    "        free_atom_idx = np.where(base==1)[0]\n",
    "        \n",
    "    else:\n",
    "        free_atom_idx = np.arange(len(atoms))\n",
    "    difference = atoms.positions[free_atom_idx] - atoms_final.positions[free_atom_idx]\n",
    "    dist = np.sqrt(np.sum(difference**2, axis=1))\n",
    "    if np.mean(dist) > 0.05:\n",
    "        distances.append(dist)\n",
    "        filtered_idx.append(doc['idx'])"
   ]
  },
  {
   "cell_type": "code",
   "execution_count": 153,
   "metadata": {},
   "outputs": [],
   "source": [
    "d_mean=[]\n",
    "for dist in distances:\n",
    "    d_mean.append(np.mean(dist))\n",
    "plt.hist(d_mean, bins=50)"
   ]
  },
  {
   "cell_type": "code",
   "execution_count": 154,
   "metadata": {},
   "outputs": [
    {
     "data": {
      "text/plain": [
       "(array([4., 2., 3., 2., 1., 4., 3., 3., 4., 1., 0., 4., 2., 2., 0., 0., 0.,\n",
       "        4., 2., 2., 3., 2., 1., 1., 3., 1., 4., 2., 2., 0., 1., 0., 1., 0.,\n",
       "        0., 0., 2., 1., 1., 0., 0., 1., 0., 1., 1., 0., 0., 1., 0., 3.]),\n",
       " array([0.0617567 , 0.06603698, 0.07031727, 0.07459755, 0.07887784,\n",
       "        0.08315813, 0.08743841, 0.0917187 , 0.09599898, 0.10027927,\n",
       "        0.10455956, 0.10883984, 0.11312013, 0.11740042, 0.1216807 ,\n",
       "        0.12596099, 0.13024127, 0.13452156, 0.13880185, 0.14308213,\n",
       "        0.14736242, 0.15164271, 0.15592299, 0.16020328, 0.16448356,\n",
       "        0.16876385, 0.17304414, 0.17732442, 0.18160471, 0.18588499,\n",
       "        0.19016528, 0.19444557, 0.19872585, 0.20300614, 0.20728643,\n",
       "        0.21156671, 0.215847  , 0.22012728, 0.22440757, 0.22868786,\n",
       "        0.23296814, 0.23724843, 0.24152872, 0.245809  , 0.25008929,\n",
       "        0.25436957, 0.25864986, 0.26293015, 0.26721043, 0.27149072,\n",
       "        0.275771  ]),\n",
       " <a list of 50 Patch objects>)"
      ]
     },
     "execution_count": 154,
     "metadata": {},
     "output_type": "execute_result"
    },
    {
     "data": {
      "image/png": "[encoded data removed]",
      "text/plain": [
       "<Figure size 432x288 with 1 Axes>"
      ]
     },
     "metadata": {
      "needs_background": "light"
     },
     "output_type": "display_data"
    }
   ],
   "source": [
    "plt.hist(d_mean, bins=50)"
   ]
  },
  {
   "cell_type": "code",
   "execution_count": 33,
   "metadata": {},
   "outputs": [
    {
     "data": {
      "text/plain": [
       "(array([7., 6., 8., 2., 7., 4., 2., 2., 2., 4., 6., 2., 5., 1., 4., 4., 2.,\n",
       "        1., 1., 0., 2., 2., 2., 1., 2., 3., 2., 2., 3., 1., 4., 0., 0., 1.,\n",
       "        0., 0., 0., 2., 1., 1., 0., 0., 1., 0., 3., 0., 0., 1., 0., 2.]),\n",
       " array([0.04034509, 0.04505361, 0.04976213, 0.05447065, 0.05917917,\n",
       "        0.06388768, 0.0685962 , 0.07330472, 0.07801324, 0.08272176,\n",
       "        0.08743028, 0.09213879, 0.09684731, 0.10155583, 0.10626435,\n",
       "        0.11097287, 0.11568138, 0.1203899 , 0.12509842, 0.12980694,\n",
       "        0.13451546, 0.13922398, 0.14393249, 0.14864101, 0.15334953,\n",
       "        0.15805805, 0.16276657, 0.16747509, 0.1721836 , 0.17689212,\n",
       "        0.18160064, 0.18630916, 0.19101768, 0.19572619, 0.20043471,\n",
       "        0.20514323, 0.20985175, 0.21456027, 0.21926879, 0.2239773 ,\n",
       "        0.22868582, 0.23339434, 0.23810286, 0.24281138, 0.2475199 ,\n",
       "        0.25222841, 0.25693693, 0.26164545, 0.26635397, 0.27106249,\n",
       "        0.275771  ]),\n",
       " <a list of 50 Patch objects>)"
      ]
     },
     "execution_count": 33,
     "metadata": {},
     "output_type": "execute_result"
    },
    {
     "data": {
      "image/png": "[encoded data removed]",
      "text/plain": [
       "<Figure size 432x288 with 1 Axes>"
      ]
     },
     "metadata": {
      "needs_background": "light"
     },
     "output_type": "display_data"
    }
   ],
   "source": [
    "plt.hist(d_mean, bins=50)"
   ]
  },
  {
   "cell_type": "code",
   "execution_count": 48,
   "metadata": {},
   "outputs": [
    {
     "data": {
      "text/plain": [
       "158"
      ]
     },
     "execution_count": 48,
     "metadata": {},
     "output_type": "execute_result"
    }
   ],
   "source": [
    "len(distances)"
   ]
  },
  {
   "cell_type": "code",
   "execution_count": null,
   "metadata": {},
   "outputs": [],
   "source": []
  }
 ],
 "metadata": {
  "kernelspec": {
   "display_name": "Python 3",
   "language": "python",
   "name": "python3"
  },
  "language_info": {
   "codemirror_mode": {
    "name": "ipython",
    "version": 3
   },
   "file_extension": ".py",
   "mimetype": "text/x-python",
   "name": "python",
   "nbconvert_exporter": "python",
   "pygments_lexer": "ipython3",
   "version": "3.7.3"
  }
 },
 "nbformat": 4,
 "nbformat_minor": 2
}
