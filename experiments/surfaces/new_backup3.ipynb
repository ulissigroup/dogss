{
 "cells": [
  {
   "cell_type": "code",
   "execution_count": 1,
   "metadata": {
    "scrolled": true
   },
   "outputs": [
    {
     "name": "stdout",
     "output_type": "stream",
     "text": [
      "env: CUDA_DEVICE_ORDER=PCI_BUS_ID\n",
      "env: CUDA_VISIBLE_DEVICES=0\n",
      "env: CUDA_LAUNCH_BLOCKING=1\n"
     ]
    }
   ],
   "source": [
    "import os\n",
    "import sys\n",
    "sys.path.insert(0,'/home/junwoony/Desktop/Differentiable_Optimization_GCN/Differentiable_Optimization_GCN/')\n",
    "\n",
    "import numpy as np\n",
    "%env CUDA_DEVICE_ORDER=PCI_BUS_ID\n",
    "%env CUDA_VISIBLE_DEVICES=0\n",
    "%env CUDA_LAUNCH_BLOCKING=1\n",
    "\n",
    "import mongo\n",
    "import time\n",
    "import pickle\n",
    "import random\n",
    "import numpy as np\n",
    "import tqdm\n",
    "import copy\n",
    "import matplotlib.pyplot as plt\n",
    "import multiprocess as mp\n",
    "import seaborn as sns\n",
    "import pandas as pd\n",
    "from pymatgen.io.ase import AseAtomsAdaptor\n",
    "\n",
    "import torch\n",
    "from torch.nn.utils import clip_grad_norm_\n",
    "from torch.utils.data import Dataset, DataLoader\n",
    "from torch.optim import Adam, SGD\n",
    "from torch.optim.lbfgs import LBFGS\n",
    "from cgcnn.data_orbital import StructureData, ListDataset, StructureDataTransformer, collate_pool, MergeDataset\n",
    "from cgcnn.model import CrystalGraphConvNet\n",
    "\n",
    "from sklearn.preprocessing import StandardScaler\n",
    "from sklearn.model_selection import ShuffleSplit, train_test_split\n",
    "from sklearn.metrics import get_scorer\n",
    "from skorch import NeuralNetRegressor\n",
    "from skorch.callbacks import Checkpoint, LoadInitState #needs skorch 0.4.0, conda-forge version at 0.3.0 doesn't cut it\n",
    "import skorch.callbacks.base\n",
    "from skorch.dataset import CVSplit\n",
    "from skorch.callbacks.lr_scheduler import WarmRestartLR, LRScheduler\n",
    "\n",
    "from utils.adamwr.adamw import AdamW\n",
    "from utils.adamwr.cosine_scheduler import CosineLRWithRestarts\n",
    "\n",
    "\n",
    "from sigopt_sklearn.search import SigOptSearchCV\n"
   ]
  },
  {
   "cell_type": "code",
   "execution_count": 2,
   "metadata": {
    "scrolled": false
   },
   "outputs": [],
   "source": [
    "SDT_list = pickle.load(open('../../../cgcnn/bond_regression3/new2/SDT_list.pkl', 'rb'))\n",
    "docs = pickle.load(open('../../../cgcnn/bond_regression3/new2/final_docs.pkl', 'rb'))\n",
    "\n",
    "# SDT_list = pickle.load(open('../../../cgcnn/bond_regression3/new3/SDT_list.pkl', 'rb'))\n",
    "# docs = pickle.load(open('../../../cgcnn/bond_regression3/new3/final_docs.pkl', 'rb'))\n",
    "\n",
    "# target_list = pickle.load(open('../../../cgcnn/bond_regression3/new2/target_list.pkl', 'rb'))\n",
    "# target_list = pickle.load(open('../../../cgcnn/bond_regression3/new2/target_list_mse.pkl', 'rb'))\n",
    "\n",
    "structures = SDT_list[0]\n",
    "orig_atom_fea_len = structures[0].shape[-1]\n",
    "nbr_fea_len = structures[1].shape[-1]\n",
    "\n"
   ]
  },
  {
   "cell_type": "code",
   "execution_count": 3,
   "metadata": {},
   "outputs": [],
   "source": [
    "# target_list = []\n",
    "# for i, sdt in enumerate(SDT_list):\n",
    "#     atom_pos_final = sdt[-1]\n",
    "#     nbr_fea_idx = sdt[2]\n",
    "#     nbr_fea_offset = sdt[3]\n",
    "#     cells = sdt[7]\n",
    "    \n",
    "#     nbr_pos = atom_pos_final[nbr_fea_idx]\n",
    "#     differ = nbr_pos - atom_pos_final.unsqueeze(1) + torch.bmm(nbr_fea_offset, cells)\n",
    "#     differ_sum = torch.sum(differ**2, dim=2)\n",
    "#     distance = torch.sqrt(differ_sum).unsqueeze(-1)\n",
    "    \n",
    "#     if np.min(distance.numpy()) == 0:\n",
    "#         print(i)\n",
    "#     else:\n",
    "#         target_list.append(distance.numpy())\n",
    "# target_list = np.array(target_list).reshape(-1,1)"
   ]
  },
  {
   "cell_type": "code",
   "execution_count": 4,
   "metadata": {},
   "outputs": [],
   "source": [
    "# np.concatenate(target_list.reshape(-1)).shape"
   ]
  },
  {
   "cell_type": "code",
   "execution_count": 5,
   "metadata": {},
   "outputs": [],
   "source": [
    "# (atom_fea, nbr_fea, nbr_fea_idx, nbr_fea_offset, atom_pos, nbr_pos, atom_pos_idx, cells, fixed_atom_idx, atom_pos_final)\n",
    "atom_fea = SDT_list[0][0]\n",
    "nbr_fea = SDT_list[0][1]\n",
    "nbr_fea_idx = SDT_list[0][2]\n",
    "nbr_fea_offset = SDT_list[0][3]\n",
    "atom_pos =SDT_list[0][4]\n",
    "nbr_pos = SDT_list[0][5] \n",
    "atom_pos_idx = SDT_list[0][6]\n",
    "cells = SDT_list[0][7]\n",
    "fixed_base = SDT_list[0][8]\n",
    "free_atom_idx = SDT_list[0][9]\n",
    "atom_pos_final = SDT_list[0][10]\n",
    "# atom_pos_final_free = SDT_list[0][11]\n",
    "target_list = np.array([sdt[-1][sdt[9]].numpy() for sdt in SDT_list]).reshape(-1,1) #get final_pos of free atoms ONLY"
   ]
  },
  {
   "cell_type": "code",
   "execution_count": 6,
   "metadata": {},
   "outputs": [],
   "source": [
    "SDT_training, SDT_test, target_training, target_test, docs_training, docs_test \\\n",
    "= train_test_split(SDT_list, target_list, docs, test_size=0.1, random_state=42)"
   ]
  },
  {
   "cell_type": "code",
   "execution_count": 7,
   "metadata": {},
   "outputs": [
    {
     "name": "stdout",
     "output_type": "stream",
     "text": [
      "device: cuda\n"
     ]
    }
   ],
   "source": [
    "cuda = torch.cuda.is_available()\n",
    "if cuda:\n",
    "    device = torch.device(\"cuda\")\n",
    "else:\n",
    "    device='cpu'\n",
    "\n",
    "#Make a checkpoint to save parameters every time there is a new best for validation lost\n",
    "cp = Checkpoint(monitor='valid_loss_best',fn_prefix='./new_backup3/valid_best_')\n",
    "\n",
    "#Callback to load the checkpoint with the best validation loss at the end of training\n",
    "\n",
    "class train_end_load_best_valid_loss(skorch.callbacks.base.Callback):\n",
    "    def on_train_end(self, net, X, y):\n",
    "        net.load_params('./new_backup3/valid_best_params.pt')\n",
    "        \n",
    "load_best_valid_loss = train_end_load_best_valid_loss()\n",
    "print('device:', device)"
   ]
  },
  {
   "cell_type": "code",
   "execution_count": 8,
   "metadata": {},
   "outputs": [
    {
     "data": {
      "text/plain": [
       "tensor(0.0059)"
      ]
     },
     "execution_count": 8,
     "metadata": {},
     "output_type": "execute_result"
    }
   ],
   "source": [
    "def get_distance(atom_pos, nbr_fea_idx, nbr_fea_offset, cells):\n",
    "    nbr_pos = atom_pos[nbr_fea_idx]\n",
    "    differ = nbr_pos - atom_pos.unsqueeze(1) + torch.bmm(nbr_fea_offset, cells)\n",
    "    differ_sum = torch.sum(differ**2, dim=2)\n",
    "    distance = torch.sqrt(differ_sum).unsqueeze(-1)            \n",
    "    return distance\n",
    "differences = []\n",
    "c = 0\n",
    "max_num_nbr = 12\n",
    "\n",
    "for sdt in SDT_list:\n",
    "    nbr_fea_idx = sdt[2]\n",
    "    nbr_fea_offset = sdt[3]\n",
    "    atom_pos =sdt[4]\n",
    "    cells = sdt[7]\n",
    "    atom_pos_final = sdt[-1]\n",
    "    free_atom_idx = sdt[-2]\n",
    "#     bond_distance = get_distance(atom_pos, nbr_fea_idx, nbr_fea_offset, cells)[free_atom_idx]\n",
    "#     final_distance = get_distance(atom_pos_final, nbr_fea_idx, nbr_fea_offset, cells)[free_atom_idx]\n",
    "#     c += len(atom_pos[free_atom_idx])*12\n",
    "    bond_distance = get_distance(atom_pos, nbr_fea_idx, nbr_fea_offset, cells)\n",
    "    final_distance = get_distance(atom_pos_final, nbr_fea_idx, nbr_fea_offset, cells)\n",
    "    N, M, C = bond_distance.shape\n",
    "    bond_distance = bond_distance #* fake_nbr.float().expand(N, M, C)    \n",
    "    final_distance = final_distance #* fake_nbr.float().expand(N, M, C) \n",
    "    \n",
    "    c += len(atom_pos) * max_num_nbr\n",
    "    differences.append((final_distance - bond_distance).view(-1))\n",
    "differences = torch.cat(differences)**2\n",
    "# differences = torch.clamp(differences, min=1e-8)\n",
    "assert c == len(differences)\n",
    "# dist_err = torch.mean(torch.abs(differences))\n",
    "# torch.log(dist_err)\n",
    "# dist_err = torch.mean(torch.sqrt(differences))\n",
    "dist_err = torch.mean(torch.abs(differences))\n",
    "dist_err\n"
   ]
  },
  {
   "cell_type": "code",
   "execution_count": 9,
   "metadata": {},
   "outputs": [
    {
     "data": {
      "text/plain": [
       "0.13144483"
      ]
     },
     "execution_count": 9,
     "metadata": {},
     "output_type": "execute_result"
    }
   ],
   "source": [
    "def diff(sdt, target):\n",
    "    fixed_base = sdt[8]\n",
    "    free_atom_idx = np.where(fixed_base == 0)[0]\n",
    "    free_atom_idx = torch.LongTensor(free_atom_idx)   \n",
    "    diff = np.sum(((target[0] - sdt[4].numpy()[free_atom_idx]))**2.,axis=1)**0.5 \n",
    "    return diff\n",
    "\n",
    "np.mean(np.abs(np.concatenate([diff(sdt, target) for sdt,target in zip(SDT_test, target_test)])))"
   ]
  },
  {
   "cell_type": "code",
   "execution_count": 10,
   "metadata": {},
   "outputs": [
    {
     "data": {
      "text/plain": [
       "0.059913088"
      ]
     },
     "execution_count": 10,
     "metadata": {},
     "output_type": "execute_result"
    }
   ],
   "source": [
    "def diff_position(sdt, target):\n",
    "    fixed_base = sdt[8]\n",
    "    free_atom_idx = np.where(fixed_base == 0)[0]\n",
    "    free_atom_idx = torch.LongTensor(free_atom_idx)   \n",
    "    diff = (target[0] - sdt[4].numpy()[free_atom_idx])\n",
    "    return diff\n",
    "\n",
    "differences = []\n",
    "for sdt, target in zip(SDT_test, target_test):\n",
    "    differences.append(diff_position(sdt, target))\n",
    "differences = np.concatenate(differences)\n",
    "np.mean(np.abs(differences))"
   ]
  },
  {
   "cell_type": "code",
   "execution_count": null,
   "metadata": {},
   "outputs": [],
   "source": []
  },
  {
   "cell_type": "code",
   "execution_count": 16,
   "metadata": {
    "scrolled": false
   },
   "outputs": [],
   "source": [
    "from torch.optim import lr_scheduler\n",
    "import torch.optim as optim\n",
    "\n",
    "\n",
    "# train_test_splitter = ShuffleSplit(n_splits=1, test_size=0.1, random_state=42)\n",
    "# train_test_splitter = ShuffleSplit(n_splits=1, test_size=0.1, random_state=22)\n",
    "train_test_splitter = ShuffleSplit(n_splits=1, test_size=0.1, random_state=32)\n",
    "\n",
    "\n",
    "\n",
    "batchsize = 17\n",
    "# warm restart scheduling from https://arxiv.org/pdf/1711.05101.pdf\n",
    "# LR_schedule = LRScheduler(CosineLRWithRestarts, batch_size=batchsize, epoch_size=len(SDT_training), restart_period=10, t_mult=1.2)\n",
    "\n",
    "#### For Sigopt\n",
    "LR_schedule = LRScheduler(\"MultiStepLR\", milestones=[100], gamma=0.1)\n",
    "\n",
    "#############\n",
    "# To extract intermediate features, set the forward takes only the first return value to calculate loss\n",
    "class MyNet(NeuralNetRegressor):\n",
    "    def get_loss(self, y_pred, y_true, **kwargs):\n",
    "        y_pred = y_pred[0] if isinstance(y_pred, tuple) else y_pred  # discard the 2nd output\n",
    "        differ=torch.sum((y_pred-y_true.cuda())**2.0,dim=1)\n",
    "        if torch.nonzero(differ).shape[0] != differ.shape[0]:\n",
    "            print('zero sqrt for Loss')\n",
    "#             zero_idx = (differ == 0).nonzero()\n",
    "#             differ[zero_idx] = 1e-6\n",
    "        differ = torch.clamp(differ, min=1e-8)\n",
    "\n",
    "        return torch.mean(torch.sqrt(differ))\n",
    "\n",
    "\n",
    "net = MyNet(\n",
    "    CrystalGraphConvNet,\n",
    "    module__orig_atom_fea_len = orig_atom_fea_len,\n",
    "    module__nbr_fea_len = nbr_fea_len,\n",
    "    batch_size=batchsize, #214\n",
    "    module__classification=False,\n",
    "    lr=0.0393415,\n",
    "    max_epochs= 200,\n",
    "    module__energy_mode=\"Harmonic\", #[\"Harmonic\", \"Morse\", \"LJ\"], Default = \"Harmonic\"\n",
    "    module__atom_fea_len=236, #46,\n",
    "    module__h_fea_len=6,\n",
    "    module__h_fea_len_dist=4,\n",
    "    module__h_fea_len_const=4,\n",
    "#     module__h_fea_len_D=(3,256),\n",
    "    module__n_conv=12, #8\n",
    "    module__n_h_dist=0,\n",
    "    optimizer__weight_decay=0.0000454,\n",
    "    module__n_h_const=0,\n",
    "#     module__n_h_D=(1,12),\n",
    "#     module__max_num_nbr=12, #9\n",
    "#     module__opt_step_size=(0.1,0.7), #0.3\n",
    "    module__min_opt_steps=30,\n",
    "    module__max_opt_steps=150,\n",
    "    module__momentum=0.8,\n",
    "    optimizer=AdamW,\n",
    "    iterator_train__pin_memory=True,\n",
    "    iterator_train__num_workers=0,\n",
    "    iterator_train__shuffle=True,\n",
    "    iterator_train__collate_fn = collate_pool,\n",
    "    iterator_valid__pin_memory=True,\n",
    "    iterator_valid__num_workers=0,\n",
    "    iterator_valid__collate_fn = collate_pool,\n",
    "    device=device,\n",
    "#     criterion=torch.nn.MSELoss,\n",
    "    criterion=torch.nn.L1Loss,\n",
    "    dataset=MergeDataset,\n",
    "    train_split = CVSplit(cv=train_test_splitter),\n",
    "    callbacks=[cp,LR_schedule , load_best_valid_loss],\n",
    "\n",
    ")\n",
    "\n",
    "\n",
    "net.initialize()\n",
    "net.load_params(f_history = './new_backup3/valid_best_history.json',\n",
    "               f_optimizer = './new_backup3/valid_best_optimizer.pt',\n",
    "               f_params = './new_backup3/valid_best_params.pt')"
   ]
  },
  {
   "cell_type": "code",
   "execution_count": 14,
   "metadata": {
    "scrolled": true
   },
   "outputs": [
    {
     "name": "stdout",
     "output_type": "stream",
     "text": [
      "Re-initializing module because the following parameters were re-set: atom_fea_len, classification, energy_mode, h_fea_len, h_fea_len_const, h_fea_len_dist, max_opt_steps, min_opt_steps, momentum, n_conv, n_h_const, n_h_dist, nbr_fea_len, orig_atom_fea_len.\n",
      "Re-initializing optimizer because the following parameters were re-set: weight_decay.\n"
     ]
    },
    {
     "name": "stderr",
     "output_type": "stream",
     "text": [
      "/home/junwoony/miniconda3/envs/schnet2/lib/python3.7/site-packages/torch/optim/lr_scheduler.py:82: UserWarning: Detected call of `lr_scheduler.step()` before `optimizer.step()`. In PyTorch 1.1.0 and later, you should call them in the opposite order: `optimizer.step()` before `lr_scheduler.step()`.  Failure to do this will result in PyTorch skipping the first value of the learning rate schedule.See more details at https://pytorch.org/docs/stable/optim.html#how-to-adjust-learning-rate\n",
      "  \"https://pytorch.org/docs/stable/optim.html#how-to-adjust-learning-rate\", UserWarning)\n"
     ]
    },
    {
     "name": "stdout",
     "output_type": "stream",
     "text": [
      "  epoch    train_loss    valid_loss    cp       dur\n",
      "-------  ------------  ------------  ----  --------\n",
      "      1        \u001b[36m0.1290\u001b[0m        \u001b[32m0.1129\u001b[0m     +  264.7279\n",
      "      2        \u001b[36m0.1123\u001b[0m        \u001b[32m0.1039\u001b[0m     +  270.8974\n",
      "      3        \u001b[36m0.1050\u001b[0m        \u001b[32m0.0974\u001b[0m     +  267.6029\n",
      "      4        \u001b[36m0.1033\u001b[0m        \u001b[32m0.0961\u001b[0m     +  260.2854\n",
      "blow up\n",
      "blow up\n",
      "blow up\n",
      "      5        \u001b[36m0.1000\u001b[0m        0.1239        252.3720\n",
      "      6        0.1006        0.1009        257.8019\n",
      "      7        \u001b[36m0.0967\u001b[0m        \u001b[32m0.0952\u001b[0m     +  254.6884\n",
      "      8        \u001b[36m0.0929\u001b[0m        0.0983        255.4818\n",
      "      9        \u001b[36m0.0905\u001b[0m        \u001b[32m0.0872\u001b[0m     +  247.9439\n",
      "     10        0.0907        \u001b[32m0.0835\u001b[0m     +  252.3809\n",
      "     11        \u001b[36m0.0880\u001b[0m        \u001b[32m0.0827\u001b[0m     +  252.9848\n",
      "     12        0.0881        0.0864        250.6565\n",
      "     13        \u001b[36m0.0879\u001b[0m        0.0873        247.4375\n",
      "blow up\n",
      "blow up\n",
      "blow up\n",
      "blow up\n",
      "blow up\n",
      "blow up\n",
      "blow up\n",
      "     14        \u001b[36m0.0879\u001b[0m        0.0963        246.2459\n",
      "     15        \u001b[36m0.0863\u001b[0m        0.0857        250.2369\n",
      "     16        \u001b[36m0.0812\u001b[0m        0.0983        251.2121\n",
      "     17        0.0819        \u001b[32m0.0782\u001b[0m     +  247.6906\n",
      "blow up\n",
      "     18        \u001b[36m0.0800\u001b[0m        0.2320        250.3523\n",
      "     19        \u001b[36m0.0780\u001b[0m        \u001b[32m0.0752\u001b[0m     +  246.4163\n",
      "     20        0.0789        0.0820        248.7722\n",
      "     21        \u001b[36m0.0777\u001b[0m        0.0811        242.0065\n",
      "     22        \u001b[36m0.0764\u001b[0m        0.0824        243.9713\n",
      "     23        \u001b[36m0.0753\u001b[0m        \u001b[32m0.0738\u001b[0m     +  242.8261\n",
      "     24        \u001b[36m0.0743\u001b[0m        \u001b[32m0.0729\u001b[0m     +  243.3923\n",
      "blow up\n",
      "     25        \u001b[36m0.0734\u001b[0m        0.0754        246.6560\n",
      "blow up\n",
      "blow up\n",
      "blow up\n",
      "blow up\n",
      "     26        0.0763        0.0993        238.4853\n",
      "     27        \u001b[36m0.0718\u001b[0m        0.0746        238.3400\n",
      "     28        \u001b[36m0.0687\u001b[0m        0.0921        238.2944\n",
      "blow up\n",
      "     29        0.0723        0.0748        240.0792\n",
      "blow up\n",
      "blow up\n",
      "blow up\n",
      "     30        0.0703        0.0764        242.8673\n",
      "blow up\n",
      "blow up\n",
      "blow up\n",
      "blow up\n",
      "blow up\n",
      "blow up\n",
      "blow up\n",
      "blow up\n",
      "blow up\n",
      "     31        0.0692        0.1004        239.6125\n",
      "     32        \u001b[36m0.0663\u001b[0m        0.0771        241.1621\n",
      "blow up\n",
      "     33        0.0673        0.0748        237.8541\n",
      "     34        0.0678        \u001b[32m0.0721\u001b[0m     +  242.0388\n",
      "     35        0.0687        0.0725        235.9333\n",
      "     36        \u001b[36m0.0651\u001b[0m        0.0747        240.6412\n",
      "     37        0.0656        \u001b[32m0.0691\u001b[0m     +  241.7630\n",
      "     38        \u001b[36m0.0630\u001b[0m        0.0746        242.3804\n",
      "     39        0.0634        0.0735        239.2398\n",
      "     40        0.0631        0.0724        233.5892\n",
      "blow up\n",
      "     41        \u001b[36m0.0623\u001b[0m        0.0738        236.8953\n",
      "     42        \u001b[36m0.0620\u001b[0m        0.0735        233.1554\n",
      "     43        0.0634        0.0692        237.3832\n",
      "     44        \u001b[36m0.0610\u001b[0m        0.0702        236.5742\n",
      "     45        \u001b[36m0.0606\u001b[0m        0.0741        236.3240\n",
      "     46        \u001b[36m0.0603\u001b[0m        \u001b[32m0.0676\u001b[0m     +  239.9350\n",
      "     47        \u001b[36m0.0593\u001b[0m        0.0705        240.1710\n",
      "     48        \u001b[36m0.0577\u001b[0m        0.0704        232.0705\n",
      "     49        0.0589        0.0698        239.5700\n",
      "     50        0.0588        0.0732        231.5799\n",
      "     51        0.0584        0.0705        236.7222\n",
      "     52        0.0588        0.0701        237.6262\n",
      "     53        0.0583        0.0693        237.1105\n",
      "     54        \u001b[36m0.0561\u001b[0m        0.0697        232.7344\n",
      "     55        0.0578        0.0681        233.8396\n",
      "     56        \u001b[36m0.0559\u001b[0m        0.0688        234.9376\n",
      "     57        0.0577        0.0682        233.3911\n",
      "     58        \u001b[36m0.0539\u001b[0m        \u001b[32m0.0672\u001b[0m     +  234.8319\n",
      "     59        0.0561        0.0682        234.4456\n",
      "     60        0.0557        \u001b[32m0.0670\u001b[0m     +  237.4747\n",
      "     61        0.0551        \u001b[32m0.0665\u001b[0m     +  235.0959\n",
      "     62        \u001b[36m0.0534\u001b[0m        0.0677        232.1767\n",
      "     63        0.0542        0.0671        233.6684\n",
      "     64        0.0551        0.0703        236.5894\n",
      "     65        0.0536        \u001b[32m0.0661\u001b[0m     +  232.3380\n",
      "     66        \u001b[36m0.0528\u001b[0m        0.0695        234.3636\n",
      "     67        0.0532        0.0721        235.7540\n",
      "     68        \u001b[36m0.0510\u001b[0m        \u001b[32m0.0659\u001b[0m     +  236.1468\n",
      "     69        0.0529        0.0699        233.6405\n",
      "     70        0.0528        0.0695        238.3902\n",
      "     71        0.0516        0.0754        237.8375\n",
      "     72        0.0527        0.0673        237.9063\n",
      "     73        0.0537        0.0683        234.5499\n",
      "     74        0.0514        0.0731        236.9061\n",
      "     75        0.0513        0.0668        232.4480\n",
      "     76        0.0516        0.0729        239.2118\n",
      "     77        \u001b[36m0.0494\u001b[0m        0.0751        229.9554\n",
      "     78        0.0502        0.0664        232.9379\n",
      "     79        0.0506        0.0692        234.8675\n",
      "     80        \u001b[36m0.0491\u001b[0m        0.0690        238.8807\n",
      "     81        0.0503        0.0709        237.6905\n",
      "     82        0.0496        0.0707        230.8956\n",
      "     83        \u001b[36m0.0488\u001b[0m        0.0675        234.4953\n",
      "     84        0.0491        0.0746        236.2125\n",
      "     85        0.0491        0.0698        237.4247\n",
      "     86        0.0489        0.0687        236.6555\n",
      "     87        \u001b[36m0.0485\u001b[0m        0.0716        235.7679\n",
      "     88        0.0497        0.0716        238.3152\n",
      "     89        \u001b[36m0.0484\u001b[0m        0.0694        234.5941\n",
      "     90        0.0484        0.0688        236.1812\n",
      "     91        \u001b[36m0.0477\u001b[0m        \u001b[32m0.0652\u001b[0m     +  238.9925\n",
      "     92        0.0489        0.0686        238.7544\n",
      "     93        \u001b[36m0.0475\u001b[0m        0.0705        239.8043\n",
      "blow up\n",
      "     94        \u001b[36m0.0474\u001b[0m        0.0704        237.1227\n",
      "     95        0.0485        0.0667        240.2101\n",
      "     96        \u001b[36m0.0469\u001b[0m        0.0714        237.4790\n",
      "     97        0.0486        0.0700        242.0609\n",
      "     98        0.0470        0.0720        239.5608\n",
      "     99        0.0476        0.0657        234.4562\n",
      "    100        \u001b[36m0.0458\u001b[0m        0.0686        239.5510\n",
      "blow up\n",
      "blow up\n",
      "    101        \u001b[36m0.0409\u001b[0m        0.0670        238.9729\n",
      "    102        \u001b[36m0.0378\u001b[0m        \u001b[32m0.0619\u001b[0m     +  246.5005\n",
      "    103        \u001b[36m0.0363\u001b[0m        \u001b[32m0.0614\u001b[0m     +  242.7857\n",
      "    104        \u001b[36m0.0348\u001b[0m        0.0615        247.6703\n",
      "    105        \u001b[36m0.0333\u001b[0m        \u001b[32m0.0613\u001b[0m     +  245.8739\n",
      "    106        \u001b[36m0.0332\u001b[0m        \u001b[32m0.0608\u001b[0m     +  246.9458\n",
      "    107        \u001b[36m0.0327\u001b[0m        \u001b[32m0.0606\u001b[0m     +  248.2259\n",
      "    108        0.0329        0.0609        248.4738\n",
      "    109        \u001b[36m0.0320\u001b[0m        0.0614        251.0544\n",
      "    110        \u001b[36m0.0315\u001b[0m        0.0610        250.7583\n",
      "    111        0.0319        \u001b[32m0.0603\u001b[0m     +  250.8611\n",
      "    112        \u001b[36m0.0310\u001b[0m        0.0607        249.3939\n",
      "    113        0.0313        0.0607        249.1879\n",
      "    114        \u001b[36m0.0308\u001b[0m        0.0605        249.2796\n",
      "    115        0.0313        0.0606        249.8829\n",
      "    116        0.0311        \u001b[32m0.0600\u001b[0m     +  250.7948\n",
      "    117        \u001b[36m0.0304\u001b[0m        0.0604        254.1195\n",
      "    118        \u001b[36m0.0291\u001b[0m        0.0606        252.1206\n",
      "    119        0.0300        0.0608        252.5463\n",
      "    120        0.0300        0.0612        254.3234\n",
      "    121        0.0300        \u001b[32m0.0598\u001b[0m     +  252.2042\n",
      "    122        0.0293        0.0608        253.7715\n",
      "    123        0.0292        0.0606        253.5181\n",
      "    124        0.0295        0.0607        253.7596\n",
      "    125        \u001b[36m0.0279\u001b[0m        0.0599        253.7493\n",
      "    126        0.0291        0.0606        255.3390\n",
      "    127        0.0292        0.0604        256.0008\n",
      "    128        0.0293        \u001b[32m0.0596\u001b[0m     +  255.7755\n",
      "    129        0.0286        0.0604        254.9722\n",
      "    130        0.0287        \u001b[32m0.0595\u001b[0m     +  257.8014\n",
      "    131        0.0286        0.0601        257.5245\n",
      "    132        0.0286        0.0602        257.6317\n",
      "    133        \u001b[36m0.0278\u001b[0m        0.0602        257.0260\n",
      "    134        0.0285        0.0604        257.9019\n",
      "    135        \u001b[36m0.0273\u001b[0m        0.0614        258.5946\n"
     ]
    },
    {
     "name": "stdout",
     "output_type": "stream",
     "text": [
      "    136        0.0279        0.0605        259.0483\n",
      "    137        0.0278        0.0602        258.9218\n",
      "    138        0.0285        0.0601        260.6545\n",
      "    139        0.0280        0.0605        257.7755\n",
      "    140        0.0276        0.0599        257.5738\n",
      "    141        \u001b[36m0.0273\u001b[0m        0.0613        260.2245\n",
      "    142        \u001b[36m0.0271\u001b[0m        0.0605        259.4908\n",
      "    143        0.0278        0.0600        260.2902\n",
      "    144        0.0273        0.0606        259.6179\n",
      "    145        0.0282        0.0606        259.9196\n",
      "    146        0.0271        0.0609        259.2731\n",
      "    147        0.0272        0.0606        260.3694\n",
      "    148        \u001b[36m0.0267\u001b[0m        0.0604        261.3831\n",
      "    149        0.0269        0.0613        260.6137\n",
      "    150        \u001b[36m0.0266\u001b[0m        0.0601        260.7742\n",
      "    151        0.0267        0.0604        261.6491\n",
      "    152        \u001b[36m0.0263\u001b[0m        0.0603        261.9023\n",
      "    153        \u001b[36m0.0263\u001b[0m        0.0604        260.6053\n",
      "    154        0.0264        0.0600        262.1631\n",
      "    155        0.0266        0.0615        262.7172\n",
      "    156        0.0268        0.0608        262.4252\n",
      "    157        0.0269        0.0608        261.9738\n",
      "    158        \u001b[36m0.0260\u001b[0m        0.0600        261.4523\n",
      "    159        0.0266        0.0601        264.1298\n",
      "    160        0.0264        0.0606        262.2934\n",
      "    161        0.0261        0.0617        262.2852\n",
      "    162        \u001b[36m0.0260\u001b[0m        0.0598        261.8765\n",
      "    163        \u001b[36m0.0257\u001b[0m        0.0603        262.5533\n",
      "    164        \u001b[36m0.0255\u001b[0m        0.0595        264.2106\n",
      "    165        0.0268        0.0606        264.0963\n",
      "    166        0.0260        0.0607        262.9959\n",
      "    167        0.0258        0.0611        262.7115\n",
      "    168        0.0257        0.0604        262.4604\n",
      "    169        0.0259        \u001b[32m0.0593\u001b[0m     +  261.3958\n",
      "    170        0.0262        0.0598        262.9125\n",
      "    171        0.0256        0.0593        264.5285\n",
      "    172        0.0258        0.0605        263.2023\n",
      "    173        \u001b[36m0.0253\u001b[0m        0.0599        263.1789\n",
      "    174        0.0257        0.0599        263.9363\n",
      "    175        0.0260        0.0595        263.5853\n",
      "    176        0.0262        0.0597        262.6311\n",
      "    177        \u001b[36m0.0253\u001b[0m        0.0600        263.8407\n",
      "    178        0.0258        0.0610        262.9238\n",
      "    179        0.0260        0.0601        264.2747\n",
      "    180        \u001b[36m0.0251\u001b[0m        0.0604        264.3683\n",
      "    181        0.0257        0.0602        263.3591\n",
      "    182        0.0265        0.0612        263.0928\n",
      "    183        0.0260        0.0610        262.7013\n",
      "    184        0.0266        0.0604        265.9575\n",
      "    185        0.0260        0.0610        266.4526\n",
      "    186        0.0254        0.0604        264.0266\n",
      "    187        0.0261        0.0596        263.8354\n",
      "    188        0.0262        0.0604        262.2438\n",
      "    189        0.0260        0.0608        264.2547\n",
      "    190        0.0258        0.0616        263.5965\n",
      "    191        0.0262        0.0613        262.2661\n",
      "    192        0.0266        0.0608        264.3003\n",
      "    193        0.0258        0.0607        262.8579\n",
      "    194        0.0261        0.0609        263.4507\n",
      "    195        0.0265        0.0594        266.0310\n",
      "    196        0.0258        0.0605        262.5827\n",
      "    197        0.0256        0.0601        264.3672\n",
      "    198        0.0264        0.0605        264.8161\n",
      "    199        0.0257        0.0606        265.0967\n",
      "    200        0.0253        0.0604        264.7336\n"
     ]
    },
    {
     "data": {
      "text/plain": [
       "<class '__main__.MyNet'>[initialized](\n",
       "  module_=CrystalGraphConvNet(\n",
       "    (embedding): Linear(in_features=140, out_features=236, bias=True)\n",
       "    (convs): ModuleList(\n",
       "      (0): ConvLayer(\n",
       "        (fc_full): Linear(in_features=499, out_features=472, bias=True)\n",
       "        (sigmoid): Sigmoid()\n",
       "        (softplus1): LeakyReLU(negative_slope=0.01)\n",
       "        (bn1): BatchNorm1d(472, eps=1e-05, momentum=0.1, affine=True, track_running_stats=True)\n",
       "        (bn2): BatchNorm1d(236, eps=1e-05, momentum=0.1, affine=True, track_running_stats=True)\n",
       "        (softplus2): LeakyReLU(negative_slope=0.01)\n",
       "        (fc_full2): Linear(in_features=499, out_features=54, bias=True)\n",
       "        (nbr_bn1): BatchNorm1d(54, eps=1e-05, momentum=0.1, affine=True, track_running_stats=True)\n",
       "        (nbr_bn2): BatchNorm1d(27, eps=1e-05, momentum=0.1, affine=True, track_running_stats=True)\n",
       "      )\n",
       "      (1): ConvLayer(\n",
       "        (fc_full): Linear(in_features=499, out_features=472, bias=True)\n",
       "        (sigmoid): Sigmoid()\n",
       "        (softplus1): LeakyReLU(negative_slope=0.01)\n",
       "        (bn1): BatchNorm1d(472, eps=1e-05, momentum=0.1, affine=True, track_running_stats=True)\n",
       "        (bn2): BatchNorm1d(236, eps=1e-05, momentum=0.1, affine=True, track_running_stats=True)\n",
       "        (softplus2): LeakyReLU(negative_slope=0.01)\n",
       "        (fc_full2): Linear(in_features=499, out_features=54, bias=True)\n",
       "        (nbr_bn1): BatchNorm1d(54, eps=1e-05, momentum=0.1, affine=True, track_running_stats=True)\n",
       "        (nbr_bn2): BatchNorm1d(27, eps=1e-05, momentum=0.1, affine=True, track_running_stats=True)\n",
       "      )\n",
       "      (2): ConvLayer(\n",
       "        (fc_full): Linear(in_features=499, out_features=472, bias=True)\n",
       "        (sigmoid): Sigmoid()\n",
       "        (softplus1): LeakyReLU(negative_slope=0.01)\n",
       "        (bn1): BatchNorm1d(472, eps=1e-05, momentum=0.1, affine=True, track_running_stats=True)\n",
       "        (bn2): BatchNorm1d(236, eps=1e-05, momentum=0.1, affine=True, track_running_stats=True)\n",
       "        (softplus2): LeakyReLU(negative_slope=0.01)\n",
       "        (fc_full2): Linear(in_features=499, out_features=54, bias=True)\n",
       "        (nbr_bn1): BatchNorm1d(54, eps=1e-05, momentum=0.1, affine=True, track_running_stats=True)\n",
       "        (nbr_bn2): BatchNorm1d(27, eps=1e-05, momentum=0.1, affine=True, track_running_stats=True)\n",
       "      )\n",
       "      (3): ConvLayer(\n",
       "        (fc_full): Linear(in_features=499, out_features=472, bias=True)\n",
       "        (sigmoid): Sigmoid()\n",
       "        (softplus1): LeakyReLU(negative_slope=0.01)\n",
       "        (bn1): BatchNorm1d(472, eps=1e-05, momentum=0.1, affine=True, track_running_stats=True)\n",
       "        (bn2): BatchNorm1d(236, eps=1e-05, momentum=0.1, affine=True, track_running_stats=True)\n",
       "        (softplus2): LeakyReLU(negative_slope=0.01)\n",
       "        (fc_full2): Linear(in_features=499, out_features=54, bias=True)\n",
       "        (nbr_bn1): BatchNorm1d(54, eps=1e-05, momentum=0.1, affine=True, track_running_stats=True)\n",
       "        (nbr_bn2): BatchNorm1d(27, eps=1e-05, momentum=0.1, affine=True, track_running_stats=True)\n",
       "      )\n",
       "      (4): ConvLayer(\n",
       "        (fc_full): Linear(in_features=499, out_features=472, bias=True)\n",
       "        (sigmoid): Sigmoid()\n",
       "        (softplus1): LeakyReLU(negative_slope=0.01)\n",
       "        (bn1): BatchNorm1d(472, eps=1e-05, momentum=0.1, affine=True, track_running_stats=True)\n",
       "        (bn2): BatchNorm1d(236, eps=1e-05, momentum=0.1, affine=True, track_running_stats=True)\n",
       "        (softplus2): LeakyReLU(negative_slope=0.01)\n",
       "        (fc_full2): Linear(in_features=499, out_features=54, bias=True)\n",
       "        (nbr_bn1): BatchNorm1d(54, eps=1e-05, momentum=0.1, affine=True, track_running_stats=True)\n",
       "        (nbr_bn2): BatchNorm1d(27, eps=1e-05, momentum=0.1, affine=True, track_running_stats=True)\n",
       "      )\n",
       "      (5): ConvLayer(\n",
       "        (fc_full): Linear(in_features=499, out_features=472, bias=True)\n",
       "        (sigmoid): Sigmoid()\n",
       "        (softplus1): LeakyReLU(negative_slope=0.01)\n",
       "        (bn1): BatchNorm1d(472, eps=1e-05, momentum=0.1, affine=True, track_running_stats=True)\n",
       "        (bn2): BatchNorm1d(236, eps=1e-05, momentum=0.1, affine=True, track_running_stats=True)\n",
       "        (softplus2): LeakyReLU(negative_slope=0.01)\n",
       "        (fc_full2): Linear(in_features=499, out_features=54, bias=True)\n",
       "        (nbr_bn1): BatchNorm1d(54, eps=1e-05, momentum=0.1, affine=True, track_running_stats=True)\n",
       "        (nbr_bn2): BatchNorm1d(27, eps=1e-05, momentum=0.1, affine=True, track_running_stats=True)\n",
       "      )\n",
       "      (6): ConvLayer(\n",
       "        (fc_full): Linear(in_features=499, out_features=472, bias=True)\n",
       "        (sigmoid): Sigmoid()\n",
       "        (softplus1): LeakyReLU(negative_slope=0.01)\n",
       "        (bn1): BatchNorm1d(472, eps=1e-05, momentum=0.1, affine=True, track_running_stats=True)\n",
       "        (bn2): BatchNorm1d(236, eps=1e-05, momentum=0.1, affine=True, track_running_stats=True)\n",
       "        (softplus2): LeakyReLU(negative_slope=0.01)\n",
       "        (fc_full2): Linear(in_features=499, out_features=54, bias=True)\n",
       "        (nbr_bn1): BatchNorm1d(54, eps=1e-05, momentum=0.1, affine=True, track_running_stats=True)\n",
       "        (nbr_bn2): BatchNorm1d(27, eps=1e-05, momentum=0.1, affine=True, track_running_stats=True)\n",
       "      )\n",
       "      (7): ConvLayer(\n",
       "        (fc_full): Linear(in_features=499, out_features=472, bias=True)\n",
       "        (sigmoid): Sigmoid()\n",
       "        (softplus1): LeakyReLU(negative_slope=0.01)\n",
       "        (bn1): BatchNorm1d(472, eps=1e-05, momentum=0.1, affine=True, track_running_stats=True)\n",
       "        (bn2): BatchNorm1d(236, eps=1e-05, momentum=0.1, affine=True, track_running_stats=True)\n",
       "        (softplus2): LeakyReLU(negative_slope=0.01)\n",
       "        (fc_full2): Linear(in_features=499, out_features=54, bias=True)\n",
       "        (nbr_bn1): BatchNorm1d(54, eps=1e-05, momentum=0.1, affine=True, track_running_stats=True)\n",
       "        (nbr_bn2): BatchNorm1d(27, eps=1e-05, momentum=0.1, affine=True, track_running_stats=True)\n",
       "      )\n",
       "      (8): ConvLayer(\n",
       "        (fc_full): Linear(in_features=499, out_features=472, bias=True)\n",
       "        (sigmoid): Sigmoid()\n",
       "        (softplus1): LeakyReLU(negative_slope=0.01)\n",
       "        (bn1): BatchNorm1d(472, eps=1e-05, momentum=0.1, affine=True, track_running_stats=True)\n",
       "        (bn2): BatchNorm1d(236, eps=1e-05, momentum=0.1, affine=True, track_running_stats=True)\n",
       "        (softplus2): LeakyReLU(negative_slope=0.01)\n",
       "        (fc_full2): Linear(in_features=499, out_features=54, bias=True)\n",
       "        (nbr_bn1): BatchNorm1d(54, eps=1e-05, momentum=0.1, affine=True, track_running_stats=True)\n",
       "        (nbr_bn2): BatchNorm1d(27, eps=1e-05, momentum=0.1, affine=True, track_running_stats=True)\n",
       "      )\n",
       "      (9): ConvLayer(\n",
       "        (fc_full): Linear(in_features=499, out_features=472, bias=True)\n",
       "        (sigmoid): Sigmoid()\n",
       "        (softplus1): LeakyReLU(negative_slope=0.01)\n",
       "        (bn1): BatchNorm1d(472, eps=1e-05, momentum=0.1, affine=True, track_running_stats=True)\n",
       "        (bn2): BatchNorm1d(236, eps=1e-05, momentum=0.1, affine=True, track_running_stats=True)\n",
       "        (softplus2): LeakyReLU(negative_slope=0.01)\n",
       "        (fc_full2): Linear(in_features=499, out_features=54, bias=True)\n",
       "        (nbr_bn1): BatchNorm1d(54, eps=1e-05, momentum=0.1, affine=True, track_running_stats=True)\n",
       "        (nbr_bn2): BatchNorm1d(27, eps=1e-05, momentum=0.1, affine=True, track_running_stats=True)\n",
       "      )\n",
       "      (10): ConvLayer(\n",
       "        (fc_full): Linear(in_features=499, out_features=472, bias=True)\n",
       "        (sigmoid): Sigmoid()\n",
       "        (softplus1): LeakyReLU(negative_slope=0.01)\n",
       "        (bn1): BatchNorm1d(472, eps=1e-05, momentum=0.1, affine=True, track_running_stats=True)\n",
       "        (bn2): BatchNorm1d(236, eps=1e-05, momentum=0.1, affine=True, track_running_stats=True)\n",
       "        (softplus2): LeakyReLU(negative_slope=0.01)\n",
       "        (fc_full2): Linear(in_features=499, out_features=54, bias=True)\n",
       "        (nbr_bn1): BatchNorm1d(54, eps=1e-05, momentum=0.1, affine=True, track_running_stats=True)\n",
       "        (nbr_bn2): BatchNorm1d(27, eps=1e-05, momentum=0.1, affine=True, track_running_stats=True)\n",
       "      )\n",
       "      (11): ConvLayer(\n",
       "        (fc_full): Linear(in_features=499, out_features=472, bias=True)\n",
       "        (sigmoid): Sigmoid()\n",
       "        (softplus1): LeakyReLU(negative_slope=0.01)\n",
       "        (bn1): BatchNorm1d(472, eps=1e-05, momentum=0.1, affine=True, track_running_stats=True)\n",
       "        (bn2): BatchNorm1d(236, eps=1e-05, momentum=0.1, affine=True, track_running_stats=True)\n",
       "        (softplus2): LeakyReLU(negative_slope=0.01)\n",
       "        (fc_full2): Linear(in_features=499, out_features=54, bias=True)\n",
       "        (nbr_bn1): BatchNorm1d(54, eps=1e-05, momentum=0.1, affine=True, track_running_stats=True)\n",
       "        (nbr_bn2): BatchNorm1d(27, eps=1e-05, momentum=0.1, affine=True, track_running_stats=True)\n",
       "      )\n",
       "    )\n",
       "    (bond_distance): Linear(in_features=499, out_features=4, bias=True)\n",
       "    (bond_distance_bn): BatchNorm1d(4, eps=1e-05, momentum=0.1, affine=True, track_running_stats=True)\n",
       "    (bond_distance_softplus): Softplus(beta=1, threshold=20)\n",
       "    (bond_constant): Linear(in_features=499, out_features=4, bias=True)\n",
       "    (bond_constant_bn): BatchNorm1d(4, eps=1e-05, momentum=0.1, affine=True, track_running_stats=True)\n",
       "    (bond_const_softplus): Softplus(beta=1, threshold=20)\n",
       "    (bond_distance2): Linear(in_features=4, out_features=1, bias=True)\n",
       "    (bond_constant2): Linear(in_features=4, out_features=1, bias=True)\n",
       "    (sigmoid): Sigmoid()\n",
       "    (softplus): Softplus(beta=1, threshold=20)\n",
       "  ),\n",
       ")"
      ]
     },
     "execution_count": 14,
     "metadata": {},
     "output_type": "execute_result"
    }
   ],
   "source": [
    "# net.initialize()\n",
    "# net.fit(SDT_training, target_training)"
   ]
  },
  {
   "cell_type": "code",
   "execution_count": 17,
   "metadata": {},
   "outputs": [
    {
     "name": "stdout",
     "output_type": "stream",
     "text": [
      "601 601 601\n",
      "601 601 601\n"
     ]
    }
   ],
   "source": [
    "natoms =[]\n",
    "types = []\n",
    "steps = []\n",
    "distances = []\n",
    "filtered_idx = []\n",
    "docs_test_new = []\n",
    "SDT_test_new, target_test_new= [], []\n",
    "print(len(docs_test), len(SDT_test), len(target_test))\n",
    "for i, doc in enumerate(docs_test):\n",
    "    sdt = SDT_test[i]\n",
    "    target = target_test[i]\n",
    "\n",
    "    atoms = mongo.make_atoms_from_doc(doc, is_initial=True)\n",
    "    atoms_final = mongo.make_atoms_from_doc(doc, is_initial=False)\n",
    "    if atoms.constraints:\n",
    "        fixed_atom_idx = atoms.constraints[0].index\n",
    "        base = np.ones(len(atoms.positions))\n",
    "        base[fixed_atom_idx] = 0\n",
    "        free_atom_idx = np.where(base==1)[0]\n",
    "        \n",
    "    else:\n",
    "        free_atom_idx = np.arange(len(atoms))\n",
    "    difference = atoms.positions[free_atom_idx] - atoms_final.positions[free_atom_idx]\n",
    "    dist = np.sqrt(np.sum(difference**2, axis=1))\n",
    "    \n",
    "    if np.mean(dist) > 0.06:\n",
    "        distances.append(dist)\n",
    "        filtered_idx.append(doc['idx'])\n",
    "        \n",
    "        SDT_test_new.append(sdt)\n",
    "        docs_test_new.append(doc)\n",
    "        target_test_new.append(target)\n",
    "\n",
    "docs_test = docs_test_new\n",
    "SDT_test = SDT_test_new\n",
    "target_test = target_test_new\n",
    "print(len(docs_test), len(SDT_test), len(target_test))\n"
   ]
  },
  {
   "cell_type": "code",
   "execution_count": 18,
   "metadata": {},
   "outputs": [],
   "source": [
    "# SDT_train, SDT_valid, target_train, target_valid = train_test_split(SDT_training, target_training, \n",
    "#                                                                     test_size=0.1, random_state=42)\n",
    "def get_targets(dummy_SDT, dummy_targets):\n",
    "    targets = []\n",
    "    for i, target in enumerate(dummy_targets):\n",
    "        free_atom_idx = dummy_SDT[i][-2]\n",
    "        targets.append(target[0].reshape(-1,3))\n",
    "    return np.concatenate(targets)\n",
    "\n",
    "def get_distance(pred, true):\n",
    "    diff = np.sum((pred - true)**2, axis=1)\n",
    "    return np.sqrt(diff)\n",
    "\n",
    "def get_initial(SDT_list):\n",
    "    init_test = []\n",
    "    for sdt in SDT_list:\n",
    "        free_atom_idx = sdt[-2]\n",
    "        atom_pos = sdt[4][free_atom_idx]\n",
    "        init_test.append(atom_pos)\n",
    "    return np.concatenate(init_test)\n",
    "        "
   ]
  },
  {
   "cell_type": "code",
   "execution_count": 21,
   "metadata": {},
   "outputs": [],
   "source": [
    "# init_test = get_initial(SDT_test)\n",
    "# pred_test = net.predict(SDT_test)\n",
    "# true_test = get_targets(SDT_test, target_test)\n",
    "\n",
    "init_test = pickle.load(open('./new_backup3/init_test.pkl', 'rb'))\n",
    "pred_test = pickle.load(open('./new_backup3/pred_test.pkl', 'rb'))\n",
    "true_test = pickle.load(open('./new_backup3/true_test.pkl', 'rb'))\n",
    "\n",
    "torch.cuda.empty_cache()\n",
    "\n",
    "distance_test = get_distance(pred_test, true_test)\n",
    "distance_pred_initial = get_distance(pred_test, init_test)\n",
    "distance_init = get_distance(init_test, true_test)\n",
    "\n",
    "###### Per ATOM MAE ##### (NOT per structure MAE)\n",
    "\n",
    "MAE_pred_final = np.mean(distance_test)\n",
    "MAE_pred_initial = np.mean(distance_pred_initial)\n",
    "MAE_initial_final = np.mean(distance_init)"
   ]
  },
  {
   "cell_type": "code",
   "execution_count": 20,
   "metadata": {},
   "outputs": [],
   "source": [
    "# pickle.dump(init_test, open('./new_backup3/init_test.pkl', 'wb'))\n",
    "# pickle.dump(pred_test, open('./new_backup3/pred_test.pkl', 'wb'))\n",
    "# pickle.dump(true_test, open('./new_backup3/true_test.pkl', 'wb'))"
   ]
  },
  {
   "cell_type": "code",
   "execution_count": 22,
   "metadata": {},
   "outputs": [
    {
     "name": "stdout",
     "output_type": "stream",
     "text": [
      "0.17722969 0.09216244 0.5200169\n"
     ]
    }
   ],
   "source": [
    "#### RMSD ####\n",
    "RMSD_init = np.sqrt(np.mean(np.sum((init_test - true_test)**2, axis=1)))\n",
    "RMSD_pred = np.sqrt(np.mean(np.sum((pred_test - true_test)**2, axis=1)))\n",
    "print(RMSD_init, RMSD_pred, RMSD_pred/RMSD_init)"
   ]
  },
  {
   "cell_type": "code",
   "execution_count": 23,
   "metadata": {},
   "outputs": [
    {
     "name": "stdout",
     "output_type": "stream",
     "text": [
      "0.06305466 0.11878607 0.1383077\n",
      "0.45590127 0.5440987348556519\n"
     ]
    }
   ],
   "source": [
    "print(MAE_pred_final, MAE_pred_initial, MAE_initial_final)\n",
    "print(MAE_pred_final/MAE_initial_final, 1 - MAE_pred_final/MAE_initial_final)"
   ]
  },
  {
   "cell_type": "code",
   "execution_count": 20,
   "metadata": {},
   "outputs": [
    {
     "data": {
      "text/plain": [
       "Text(0.5, 1.0, 'test result')"
      ]
     },
     "execution_count": 20,
     "metadata": {},
     "output_type": "execute_result"
    },
    {
     "data": {
      "image/png": "[encoded data removed]",
      "text/plain": [
       "<Figure size 432x288 with 1 Axes>"
      ]
     },
     "metadata": {
      "needs_background": "light"
     },
     "output_type": "display_data"
    }
   ],
   "source": [
    "plt.hist(distance_test, bins=20)\n",
    "plt.title('test result')"
   ]
  },
  {
   "cell_type": "code",
   "execution_count": 18,
   "metadata": {},
   "outputs": [],
   "source": [
    "docs_train, docs_val = train_test_split(docs_training, test_size=0.1, random_state=42)"
   ]
  },
  {
   "cell_type": "code",
   "execution_count": 30,
   "metadata": {},
   "outputs": [],
   "source": [
    "def analysis(SDT, docs, distance):\n",
    "    dist_per_surface = []\n",
    "    init_dist_per_surface = []\n",
    "    total_atoms = 0\n",
    "    for i in range(len(SDT)):\n",
    "        doc = docs[i]\n",
    "        sdt = SDT[i]\n",
    "        \n",
    "        num_atoms = sdt[-2].shape[0]\n",
    "        dist_per_surface.append(np.mean(distance[total_atoms: total_atoms+num_atoms]))\n",
    "        total_atoms += num_atoms\n",
    "        init_dist = torch.sqrt(torch.sum(((sdt[4] - sdt[-1])[sdt[-2]]**2), dim=1))\n",
    "        init_dist_per_surface.append(torch.mean(init_dist))\n",
    "        \n",
    "    assert len(distance) == total_atoms\n",
    "    results =[]\n",
    "    reduced = []\n",
    "    best = []\n",
    "    bad_result =[]\n",
    "    good_result=[]\n",
    "    bad_docs = []\n",
    "    good_docs = []\n",
    "    test_idx = 0\n",
    "    MAE, MAE_pos = [], []\n",
    "    for dist, doc, init_dist in zip(dist_per_surface, docs, init_dist_per_surface):\n",
    "        if doc['idx'] in filtered_idx:\n",
    "\n",
    "            atoms = mongo.make_atoms_from_doc(doc, is_initial=True)\n",
    "            atoms_final = mongo.make_atoms_from_doc(doc, is_initial=False)\n",
    "            base = np.zeros_like(atoms.positions)\n",
    "            base[atoms.constraints[0].get_indices()] = 1\n",
    "            free_atom_idx = np.where(base == 0)[0]\n",
    "\n",
    "            total_steps = len(doc['distances_per_step'])\n",
    "            reduced_steps = len(np.where(doc['distances_per_step'] >= dist)[0])\n",
    "            results.append([total_steps, reduced_steps, reduced_steps/total_steps])\n",
    "            reduced.append(reduced_steps/total_steps)\n",
    "\n",
    "            MAE_ratio = dist/init_dist.item()\n",
    "            MAE.append(dist)\n",
    "            MAE_pos.append(np.mean(np.abs((atoms.positions - atoms_final.positions)[free_atom_idx])))\n",
    "            if reduced_steps/total_steps < 0.1:\n",
    "                bad_docs.append(doc)\n",
    "                bad_result.append([test_idx, total_steps, reduced_steps, np.round(reduced_steps/total_steps, 4), \n",
    "                                   np.round(init_dist.item(),4), np.round(dist,4), np.round(MAE_ratio,4)])\n",
    "            else:\n",
    "                good_docs.append(doc)\n",
    "                good_result.append([test_idx, total_steps, reduced_steps, np.round(reduced_steps/total_steps, 4), \n",
    "                                   np.round(init_dist.item(),4), np.round(dist,4), np.round(MAE_ratio,4)])\n",
    "            test_idx += 1\n",
    "\n",
    "    return reduced, np.mean(MAE), MAE_pos, bad_result, good_result, bad_docs, good_docs"
   ]
  },
  {
   "cell_type": "code",
   "execution_count": 31,
   "metadata": {},
   "outputs": [
    {
     "data": {
      "text/plain": [
       "0.1383077"
      ]
     },
     "execution_count": 31,
     "metadata": {},
     "output_type": "execute_result"
    }
   ],
   "source": [
    "def diff(sdt, target):\n",
    "    fixed_base = sdt[8]\n",
    "    free_atom_idx = np.where(fixed_base == 0)[0]\n",
    "    free_atom_idx = torch.LongTensor(free_atom_idx)   \n",
    "    diff = np.sum(((target[0] - sdt[4].numpy()[free_atom_idx]))**2.,axis=1)**0.5 \n",
    "    return diff\n",
    "\n",
    "dist = []\n",
    "for doc, sdt, target in zip(docs_test, SDT_test, target_test):\n",
    "    if doc['idx'] in filtered_idx:\n",
    "        dist.append(diff(sdt, target))\n",
    "MAE_init = np.mean(np.concatenate(dist))\n",
    "MAE_init"
   ]
  },
  {
   "cell_type": "code",
   "execution_count": 32,
   "metadata": {},
   "outputs": [],
   "source": [
    "reduced, MAE, MAE_pos, bad_result, good_result, bad_docs, good_docs = analysis(SDT_test, docs_test, distance_test)"
   ]
  },
  {
   "cell_type": "code",
   "execution_count": 33,
   "metadata": {},
   "outputs": [
    {
     "name": "stdout",
     "output_type": "stream",
     "text": [
      "0.06319586 0.5430777966976166\n"
     ]
    }
   ],
   "source": [
    "print(MAE, 1 - MAE/MAE_init)"
   ]
  },
  {
   "cell_type": "code",
   "execution_count": 34,
   "metadata": {},
   "outputs": [
    {
     "data": {
      "text/plain": [
       "0.3340527470746858"
      ]
     },
     "execution_count": 34,
     "metadata": {},
     "output_type": "execute_result"
    }
   ],
   "source": [
    "np.mean(reduced) #after filtering dist > 0.06 on test set"
   ]
  },
  {
   "cell_type": "code",
   "execution_count": 28,
   "metadata": {
    "scrolled": true
   },
   "outputs": [],
   "source": [
    "natoms =[]\n",
    "types = []\n",
    "steps = []\n",
    "distances = []\n",
    "filtered_idx = []\n",
    "docs_test_new = []\n",
    "for doc in docs_test:\n",
    "    natoms.append(doc['atoms']['natoms'])\n",
    "    types.extend(doc['atoms']['chemical_symbols'])\n",
    "    atoms = mongo.make_atoms_from_doc(doc, is_initial=True)\n",
    "    atoms_final = mongo.make_atoms_from_doc(doc, is_initial=False)\n",
    "    if atoms.constraints:\n",
    "        fixed_atom_idx = atoms.constraints[0].index\n",
    "        base = np.ones(len(atoms.positions))\n",
    "        base[fixed_atom_idx] = 0\n",
    "        free_atom_idx = np.where(base==1)[0]\n",
    "        \n",
    "    else:\n",
    "        free_atom_idx = np.arange(len(atoms))\n",
    "    difference = atoms.positions[free_atom_idx] - atoms_final.positions[free_atom_idx]\n",
    "    dist = np.sqrt(np.sum(difference**2, axis=1))\n",
    "    if np.mean(dist) > 0.06:\n",
    "        distances.append(dist)\n",
    "        filtered_idx.append(doc['idx'])"
   ]
  },
  {
   "cell_type": "code",
   "execution_count": 29,
   "metadata": {},
   "outputs": [
    {
     "data": {
      "text/plain": [
       "(array([15., 21., 16., 14., 23., 22., 19., 24., 27., 33., 36., 18., 16.,\n",
       "        23., 19., 19., 16., 13., 23., 16., 13., 16., 14.,  9., 14., 14.,\n",
       "         4.,  8., 11.,  9.,  5.,  8.,  3.,  8.,  1.,  9.,  3.,  3.,  3.,\n",
       "         7.,  0.,  7.,  6.,  3.,  4.,  2.,  1.,  2.,  0.,  1.]),\n",
       " array([0.06068707, 0.06546743, 0.07024778, 0.07502814, 0.07980849,\n",
       "        0.08458885, 0.0893692 , 0.09414956, 0.09892991, 0.10371027,\n",
       "        0.10849062, 0.11327098, 0.11805133, 0.12283169, 0.12761204,\n",
       "        0.1323924 , 0.13717275, 0.1419531 , 0.14673346, 0.15151381,\n",
       "        0.15629417, 0.16107452, 0.16585488, 0.17063523, 0.17541559,\n",
       "        0.18019594, 0.1849763 , 0.18975665, 0.19453701, 0.19931736,\n",
       "        0.20409772, 0.20887807, 0.21365843, 0.21843878, 0.22321914,\n",
       "        0.22799949, 0.23277985, 0.2375602 , 0.24234056, 0.24712091,\n",
       "        0.25190127, 0.25668162, 0.26146198, 0.26624233, 0.27102269,\n",
       "        0.27580304, 0.2805834 , 0.28536375, 0.29014411, 0.29492446,\n",
       "        0.29970482]),\n",
       " <a list of 50 Patch objects>)"
      ]
     },
     "execution_count": 29,
     "metadata": {},
     "output_type": "execute_result"
    },
    {
     "data": {
      "image/png": "[encoded data removed]",
      "text/plain": [
       "<Figure size 432x288 with 1 Axes>"
      ]
     },
     "metadata": {
      "needs_background": "light"
     },
     "output_type": "display_data"
    }
   ],
   "source": [
    "d_mean=[]\n",
    "for dist in distances:\n",
    "    d_mean.append(np.mean(dist))\n",
    "plt.hist(d_mean, bins=50)"
   ]
  },
  {
   "cell_type": "code",
   "execution_count": 89,
   "metadata": {},
   "outputs": [],
   "source": [
    "good_idx = np.array(good_result)[:,0].astype(int)\n",
    "bad_idx = np.array(bad_result)[:,0].astype(int)\n",
    "# np.random.shuffle(good_idx)\n",
    "\n",
    "total_atoms = 0\n",
    "for i in range(len(docs_test)):\n",
    "    idx = i\n",
    "    doc = docs_test[idx]\n",
    "    sdt = SDT_test[idx]\n",
    "    fixed_base = sdt[-3]\n",
    "    fixed_atom_idx = np.where(fixed_base == 1)[0]\n",
    "    free_atom_idx2 = np.where(fixed_base == 0)[0]\n",
    "    free_atom_idx = sdt[-2]\n",
    "    assert free_atom_idx2.all() == free_atom_idx.numpy().all()\n",
    "    num_atoms = len(free_atom_idx)\n",
    "\n",
    "    init = init_test[total_atoms:total_atoms+num_atoms]\n",
    "    pred = pred_test[total_atoms:total_atoms+num_atoms]\n",
    "    true = true_test[total_atoms:total_atoms+num_atoms]\n",
    "    loss = np.mean(distance_test[total_atoms: total_atoms+num_atoms])\n",
    "    total_atoms += num_atoms\n",
    "\n",
    "    if doc['idx'] in filtered_idx:\n",
    "        if doc['data'] == 'surface':\n",
    "            atoms = mongo.make_atoms_from_doc(doc, is_initial=True)\n",
    "            atoms.write('./new_backup/traj_surface/initial/%d_%.4f_initial.traj' %(doc['idx'], loss))\n",
    "\n",
    "            atoms_pred = copy.deepcopy(atoms)\n",
    "            atoms_pred.positions[free_atom_idx] = pred\n",
    "            atoms_pred.write('./new_backup/traj_surface/test/%d_%.4f_pred.traj' %(doc['idx'],loss))\n",
    "\n",
    "        elif doc['data'] == 'slab':\n",
    "            atoms = mongo.make_atoms_from_doc(doc, is_initial=True)\n",
    "            atoms.write('./new_backup/traj_slab/initial/%d_%.4f_initial.traj' %(doc['idx'], loss))\n",
    "\n",
    "            atoms_pred = copy.deepcopy(atoms)\n",
    "            atoms_pred.positions[free_atom_idx] = pred\n",
    "            atoms_pred.write('./new_backup/traj_slab/test/%d_%.4f_pred.traj' %(doc['idx'],loss))"
   ]
  },
  {
   "cell_type": "code",
   "execution_count": 263,
   "metadata": {},
   "outputs": [
    {
     "data": {
      "text/plain": [
       "2035"
      ]
     },
     "execution_count": 263,
     "metadata": {},
     "output_type": "execute_result"
    }
   ],
   "source": [
    "doc['idx']"
   ]
  },
  {
   "cell_type": "code",
   "execution_count": 24,
   "metadata": {},
   "outputs": [
    {
     "ename": "NameError",
     "evalue": "name 'distance_val' is not defined",
     "output_type": "error",
     "traceback": [
      "\u001b[0;31m---------------------------------------------------------------------------\u001b[0m",
      "\u001b[0;31mNameError\u001b[0m                                 Traceback (most recent call last)",
      "\u001b[0;32m<ipython-input-24-37ac59825bc8>\u001b[0m in \u001b[0;36m<module>\u001b[0;34m\u001b[0m\n\u001b[0;32m----> 1\u001b[0;31m \u001b[0mresults\u001b[0m\u001b[0;34m,\u001b[0m \u001b[0mreduced\u001b[0m\u001b[0;34m,\u001b[0m \u001b[0mbad_docs\u001b[0m\u001b[0;34m,\u001b[0m \u001b[0mbad_result\u001b[0m\u001b[0;34m,\u001b[0m\u001b[0mgood_docs\u001b[0m\u001b[0;34m,\u001b[0m\u001b[0mgood_result\u001b[0m \u001b[0;34m=\u001b[0m \u001b[0manalysis\u001b[0m\u001b[0;34m(\u001b[0m\u001b[0mSDT_valid\u001b[0m\u001b[0;34m,\u001b[0m \u001b[0mdocs_val\u001b[0m\u001b[0;34m,\u001b[0m \u001b[0mdistance_val\u001b[0m\u001b[0;34m)\u001b[0m\u001b[0;34m\u001b[0m\u001b[0;34m\u001b[0m\u001b[0m\n\u001b[0m",
      "\u001b[0;31mNameError\u001b[0m: name 'distance_val' is not defined"
     ]
    }
   ],
   "source": [
    "results, reduced, bad_docs, bad_result,good_docs,good_result = analysis(SDT_valid, docs_val, distance_val)"
   ]
  },
  {
   "cell_type": "code",
   "execution_count": 133,
   "metadata": {},
   "outputs": [
    {
     "data": {
      "text/plain": [
       "Text(0.5, 0, '% Reduced')"
      ]
     },
     "execution_count": 133,
     "metadata": {},
     "output_type": "execute_result"
    },
    {
     "data": {
      "image/png": "[encoded data removed]",
      "text/plain": [
       "<Figure size 432x288 with 1 Axes>"
      ]
     },
     "metadata": {
      "needs_background": "light"
     },
     "output_type": "display_data"
    }
   ],
   "source": [
    "import matplotlib.pyplot as plt\n",
    "plt.hist(reduced, bins=40)\n",
    "plt.title(\"Test\")\n",
    "plt.xlabel(\"% Reduced\")"
   ]
  },
  {
   "cell_type": "code",
   "execution_count": 22,
   "metadata": {},
   "outputs": [
    {
     "data": {
      "text/plain": [
       "'slab'"
      ]
     },
     "execution_count": 22,
     "metadata": {},
     "output_type": "execute_result"
    }
   ],
   "source": [
    "docs_train[0]['data']"
   ]
  },
  {
   "cell_type": "code",
   "execution_count": 23,
   "metadata": {},
   "outputs": [],
   "source": [
    "f = []\n",
    "for doc in good_docs:\n",
    "    f.append(doc['data'])"
   ]
  },
  {
   "cell_type": "code",
   "execution_count": 24,
   "metadata": {},
   "outputs": [
    {
     "data": {
      "text/plain": [
       "Counter({'surface': 228, 'slab': 367})"
      ]
     },
     "execution_count": 24,
     "metadata": {},
     "output_type": "execute_result"
    }
   ],
   "source": [
    "import collections\n",
    "collections.Counter(f)"
   ]
  },
  {
   "cell_type": "code",
   "execution_count": 25,
   "metadata": {},
   "outputs": [
    {
     "data": {
      "text/plain": [
       "0.27353239056302664"
      ]
     },
     "execution_count": 25,
     "metadata": {},
     "output_type": "execute_result"
    }
   ],
   "source": [
    "np.mean(reduced)"
   ]
  },
  {
   "cell_type": "code",
   "execution_count": null,
   "metadata": {},
   "outputs": [],
   "source": []
  },
  {
   "cell_type": "code",
   "execution_count": 152,
   "metadata": {},
   "outputs": [],
   "source": [
    "natoms =[]\n",
    "types = []\n",
    "steps = []\n",
    "distances = []\n",
    "filtered_idx = []\n",
    "docs_test_new = []\n",
    "for doc in bad_docs:\n",
    "    natoms.append(doc['atoms']['natoms'])\n",
    "    types.extend(doc['atoms']['chemical_symbols'])\n",
    "    atoms = mongo.make_atoms_from_doc(doc, is_initial=True)\n",
    "    atoms_final = mongo.make_atoms_from_doc(doc, is_initial=False)\n",
    "    if atoms.constraints:\n",
    "        fixed_atom_idx = atoms.constraints[0].index\n",
    "        base = np.ones(len(atoms.positions))\n",
    "        base[fixed_atom_idx] = 0\n",
    "        free_atom_idx = np.where(base==1)[0]\n",
    "        \n",
    "    else:\n",
    "        free_atom_idx = np.arange(len(atoms))\n",
    "    difference = atoms.positions[free_atom_idx] - atoms_final.positions[free_atom_idx]\n",
    "    dist = np.sqrt(np.sum(difference**2, axis=1))\n",
    "    if np.mean(dist) > 0.05:\n",
    "        distances.append(dist)\n",
    "        filtered_idx.append(doc['idx'])"
   ]
  },
  {
   "cell_type": "code",
   "execution_count": 153,
   "metadata": {},
   "outputs": [],
   "source": [
    "d_mean=[]\n",
    "for dist in distances:\n",
    "    d_mean.append(np.mean(dist))\n",
    "plt.hist(d_mean, bins=50)"
   ]
  },
  {
   "cell_type": "code",
   "execution_count": 154,
   "metadata": {},
   "outputs": [
    {
     "data": {
      "text/plain": [
       "(array([4., 2., 3., 2., 1., 4., 3., 3., 4., 1., 0., 4., 2., 2., 0., 0., 0.,\n",
       "        4., 2., 2., 3., 2., 1., 1., 3., 1., 4., 2., 2., 0., 1., 0., 1., 0.,\n",
       "        0., 0., 2., 1., 1., 0., 0., 1., 0., 1., 1., 0., 0., 1., 0., 3.]),\n",
       " array([0.0617567 , 0.06603698, 0.07031727, 0.07459755, 0.07887784,\n",
       "        0.08315813, 0.08743841, 0.0917187 , 0.09599898, 0.10027927,\n",
       "        0.10455956, 0.10883984, 0.11312013, 0.11740042, 0.1216807 ,\n",
       "        0.12596099, 0.13024127, 0.13452156, 0.13880185, 0.14308213,\n",
       "        0.14736242, 0.15164271, 0.15592299, 0.16020328, 0.16448356,\n",
       "        0.16876385, 0.17304414, 0.17732442, 0.18160471, 0.18588499,\n",
       "        0.19016528, 0.19444557, 0.19872585, 0.20300614, 0.20728643,\n",
       "        0.21156671, 0.215847  , 0.22012728, 0.22440757, 0.22868786,\n",
       "        0.23296814, 0.23724843, 0.24152872, 0.245809  , 0.25008929,\n",
       "        0.25436957, 0.25864986, 0.26293015, 0.26721043, 0.27149072,\n",
       "        0.275771  ]),\n",
       " <a list of 50 Patch objects>)"
      ]
     },
     "execution_count": 154,
     "metadata": {},
     "output_type": "execute_result"
    },
    {
     "data": {
      "image/png": "[encoded data removed]",
      "text/plain": [
       "<Figure size 432x288 with 1 Axes>"
      ]
     },
     "metadata": {
      "needs_background": "light"
     },
     "output_type": "display_data"
    }
   ],
   "source": [
    "plt.hist(d_mean, bins=50)"
   ]
  },
  {
   "cell_type": "code",
   "execution_count": 33,
   "metadata": {},
   "outputs": [
    {
     "data": {
      "text/plain": [
       "(array([7., 6., 8., 2., 7., 4., 2., 2., 2., 4., 6., 2., 5., 1., 4., 4., 2.,\n",
       "        1., 1., 0., 2., 2., 2., 1., 2., 3., 2., 2., 3., 1., 4., 0., 0., 1.,\n",
       "        0., 0., 0., 2., 1., 1., 0., 0., 1., 0., 3., 0., 0., 1., 0., 2.]),\n",
       " array([0.04034509, 0.04505361, 0.04976213, 0.05447065, 0.05917917,\n",
       "        0.06388768, 0.0685962 , 0.07330472, 0.07801324, 0.08272176,\n",
       "        0.08743028, 0.09213879, 0.09684731, 0.10155583, 0.10626435,\n",
       "        0.11097287, 0.11568138, 0.1203899 , 0.12509842, 0.12980694,\n",
       "        0.13451546, 0.13922398, 0.14393249, 0.14864101, 0.15334953,\n",
       "        0.15805805, 0.16276657, 0.16747509, 0.1721836 , 0.17689212,\n",
       "        0.18160064, 0.18630916, 0.19101768, 0.19572619, 0.20043471,\n",
       "        0.20514323, 0.20985175, 0.21456027, 0.21926879, 0.2239773 ,\n",
       "        0.22868582, 0.23339434, 0.23810286, 0.24281138, 0.2475199 ,\n",
       "        0.25222841, 0.25693693, 0.26164545, 0.26635397, 0.27106249,\n",
       "        0.275771  ]),\n",
       " <a list of 50 Patch objects>)"
      ]
     },
     "execution_count": 33,
     "metadata": {},
     "output_type": "execute_result"
    },
    {
     "data": {
      "image/png": "[encoded data removed]",
      "text/plain": [
       "<Figure size 432x288 with 1 Axes>"
      ]
     },
     "metadata": {
      "needs_background": "light"
     },
     "output_type": "display_data"
    }
   ],
   "source": [
    "plt.hist(d_mean, bins=50)"
   ]
  },
  {
   "cell_type": "code",
   "execution_count": 48,
   "metadata": {},
   "outputs": [
    {
     "data": {
      "text/plain": [
       "158"
      ]
     },
     "execution_count": 48,
     "metadata": {},
     "output_type": "execute_result"
    }
   ],
   "source": [
    "len(distances)"
   ]
  },
  {
   "cell_type": "code",
   "execution_count": null,
   "metadata": {},
   "outputs": [],
   "source": []
  }
 ],
 "metadata": {
  "kernelspec": {
   "display_name": "Python 3",
   "language": "python",
   "name": "python3"
  },
  "language_info": {
   "codemirror_mode": {
    "name": "ipython",
    "version": 3
   },
   "file_extension": ".py",
   "mimetype": "text/x-python",
   "name": "python",
   "nbconvert_exporter": "python",
   "pygments_lexer": "ipython3",
   "version": "3.7.3"
  }
 },
 "nbformat": 4,
 "nbformat_minor": 2
}
