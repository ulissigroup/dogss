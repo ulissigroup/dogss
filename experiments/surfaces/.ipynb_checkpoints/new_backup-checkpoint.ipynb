{
 "cells": [
  {
   "cell_type": "code",
   "execution_count": 2,
   "metadata": {
    "scrolled": true
   },
   "outputs": [
    {
     "name": "stdout",
     "output_type": "stream",
     "text": [
      "env: CUDA_DEVICE_ORDER=PCI_BUS_ID\n",
      "env: CUDA_VISIBLE_DEVICES=0\n",
      "env: CUDA_LAUNCH_BLOCKING=1\n"
     ]
    }
   ],
   "source": [
    "import os\n",
    "import sys\n",
    "sys.path.insert(0,'/home/junwoony/Desktop/DOGSS/')\n",
    "\n",
    "import numpy as np\n",
    "%env CUDA_DEVICE_ORDER=PCI_BUS_ID\n",
    "%env CUDA_VISIBLE_DEVICES=0\n",
    "%env CUDA_LAUNCH_BLOCKING=1\n",
    "\n",
    "import mongo\n",
    "import time\n",
    "import pickle\n",
    "import random\n",
    "import numpy as np\n",
    "import tqdm\n",
    "import copy\n",
    "import matplotlib.pyplot as plt\n",
    "import multiprocess as mp\n",
    "import seaborn as sns\n",
    "import pandas as pd\n",
    "from pymatgen.io.ase import AseAtomsAdaptor\n",
    "\n",
    "import torch\n",
    "from torch.nn.utils import clip_grad_norm_\n",
    "from torch.utils.data import Dataset, DataLoader\n",
    "from torch.optim import Adam, SGD\n",
    "from torch.optim.lbfgs import LBFGS\n",
    "from cgcnn.data_old import StructureData, ListDataset, StructureDataTransformer, collate_pool, MergeDataset\n",
    "from cgcnn.model_old import CrystalGraphConvNet\n",
    "\n",
    "from sklearn.preprocessing import StandardScaler\n",
    "from sklearn.model_selection import ShuffleSplit, train_test_split\n",
    "from sklearn.metrics import get_scorer\n",
    "from skorch import NeuralNetRegressor\n",
    "from skorch.callbacks import Checkpoint, LoadInitState #needs skorch 0.4.0, conda-forge version at 0.3.0 doesn't cut it\n",
    "import skorch.callbacks.base\n",
    "from skorch.dataset import CVSplit\n",
    "from skorch.callbacks.lr_scheduler import WarmRestartLR, LRScheduler\n",
    "\n",
    "from utils.adamwr.adamw import AdamW\n",
    "from utils.adamwr.cosine_scheduler import CosineLRWithRestarts\n",
    "\n",
    "\n",
    "from sigopt_sklearn.search import SigOptSearchCV\n"
   ]
  },
  {
   "cell_type": "code",
   "execution_count": 3,
   "metadata": {
    "scrolled": false
   },
   "outputs": [],
   "source": [
    "SDT_list = pickle.load(open('../../../cgcnn/bond_regression3/new2/SDT_list.pkl', 'rb'))\n",
    "docs = pickle.load(open('../../../cgcnn/bond_regression3/new2/final_docs.pkl', 'rb'))\n",
    "\n",
    "structures = SDT_list[0]\n",
    "orig_atom_fea_len = structures[0].shape[-1]\n",
    "nbr_fea_len = structures[1].shape[-1]\n",
    "\n"
   ]
  },
  {
   "cell_type": "code",
   "execution_count": 24,
   "metadata": {},
   "outputs": [
    {
     "name": "stdout",
     "output_type": "stream",
     "text": [
      "32\n"
     ]
    }
   ],
   "source": [
    "natoms = []\n",
    "num_elements = []\n",
    "symbols = []\n",
    "for doc in docs:\n",
    "    natoms.append(doc['atoms']['natoms'])\n",
    "    num_elements.append(len(doc['atoms']['chemical_symbols']))\n",
    "    symbols.extend(doc['atoms']['chemical_symbols'])\n",
    "num_symbols = len(set(symbols))\n",
    "print(num_symbols)"
   ]
  },
  {
   "cell_type": "code",
   "execution_count": 25,
   "metadata": {
    "scrolled": false
   },
   "outputs": [
    {
     "data": {
      "image/png": "[encoded data removed]",
      "text/plain": [
       "<Figure size 489.6x388.8 with 1 Axes>"
      ]
     },
     "metadata": {},
     "output_type": "display_data"
    }
   ],
   "source": [
    "sns.set(color_codes=True)\n",
    "sns.set(rc={'figure.figsize':(6.8, 5.4)})\n",
    "sns.set(font_scale = 1.2)\n",
    "# sns.set_style(\"whitegrid\")\n",
    "sns.set_style(\"white\")\n",
    "\n",
    "ax = sns.distplot(np.array(natoms), bins=20, kde=False, color='darkblue'\n",
    "                 ,hist_kws={\"rwidth\":0.7})\n",
    "_ = ax.set_xlim(0, 55)\n",
    "_ = ax.set_xlabel('Number of atoms per surface', fontsize=16)\n",
    "# _ = ax.set_title('Surfaces without adsorbates', fontsize=20)\n",
    "_ = ax.yaxis.grid(True)\n",
    "\n",
    "plt.yscale('log')\n",
    "plt.savefig('./new_backup/natoms.pdf')"
   ]
  },
  {
   "cell_type": "code",
   "execution_count": 26,
   "metadata": {},
   "outputs": [
    {
     "data": {
      "image/png": "[encoded data removed]",
      "text/plain": [
       "<Figure size 489.6x388.8 with 1 Axes>"
      ]
     },
     "metadata": {},
     "output_type": "display_data"
    }
   ],
   "source": [
    "sns.set(color_codes=True)\n",
    "sns.set(rc={'figure.figsize':(6.8, 5.4)})\n",
    "sns.set(font_scale = 1.2)\n",
    "# sns.set_style(\"whitegrid\")\n",
    "sns.set_style(\"white\")\n",
    "\n",
    "ax = sns.distplot(np.array(num_elements).astype(int), bins=4, kde=False, color='darkblue'\n",
    "                 ,hist_kws={\"rwidth\":0.7})\n",
    "_ = ax.set_xlim(1, 4)\n",
    "_ = ax.set_xlabel('Number of elements per surface', fontsize=16)\n",
    "_ = ax.set_title('Surfaces without adsorbates', fontsize=20)\n",
    "_ = ax.yaxis.grid(True)\n",
    "# _ = ax.set_xticks(range(4))\n",
    "_ = ax.set_xticklabels(['1', '2','3','4'], ha='center')\n",
    "# _ = ax.set_xticklabels([])\n",
    "# plt.xticks([1,2,3,4])\n",
    "\n",
    "plt.yscale('log')\n",
    "plt.savefig('./new_backup/nsymbols.pdf')"
   ]
  },
  {
   "cell_type": "code",
   "execution_count": null,
   "metadata": {},
   "outputs": [],
   "source": []
  },
  {
   "cell_type": "code",
   "execution_count": 27,
   "metadata": {},
   "outputs": [],
   "source": [
    "init_test = pickle.load(open('./new_backup/init_test.pkl', 'rb'))\n",
    "pred_test = pickle.load(open('./new_backup/pred_test.pkl', 'rb'))\n",
    "true_test = pickle.load(open('./new_backup/true_test.pkl', 'rb'))\n",
    "\n",
    "pred_test2 = pickle.load(open('./new_backup2/pred_test.pkl', 'rb'))\n",
    "pred_test3 = pickle.load(open('./new_backup3/pred_test.pkl', 'rb'))\n"
   ]
  },
  {
   "cell_type": "code",
   "execution_count": 28,
   "metadata": {},
   "outputs": [],
   "source": [
    "# atom_fea = SDT_list[0][0]\n",
    "# nbr_fea = SDT_list[0][1]\n",
    "# nbr_fea_idx = SDT_list[0][2]\n",
    "# nbr_fea_offset = SDT_list[0][3]\n",
    "# atom_pos =SDT_list[0][4]\n",
    "# nbr_pos = SDT_list[0][5] \n",
    "# atom_pos_idx = SDT_list[0][6]\n",
    "# cells = SDT_list[0][7]\n",
    "# fixed_base = SDT_list[0][8]\n",
    "# free_atom_idx = SDT_list[0][9]\n",
    "# atom_pos_final = SDT_list[0][10]\n",
    "\n",
    "target_list = np.array([sdt[-1][sdt[9]].numpy() for sdt in SDT_list]).reshape(-1,1) #get final_pos of free atoms ONLY"
   ]
  },
  {
   "cell_type": "code",
   "execution_count": 29,
   "metadata": {},
   "outputs": [],
   "source": [
    "SDT_training, SDT_test, target_training, target_test, docs_training, docs_test \\\n",
    "= train_test_split(SDT_list, target_list, docs, test_size=0.1, random_state=42)"
   ]
  },
  {
   "cell_type": "code",
   "execution_count": 30,
   "metadata": {},
   "outputs": [
    {
     "data": {
      "text/plain": [
       "659"
      ]
     },
     "execution_count": 30,
     "metadata": {},
     "output_type": "execute_result"
    }
   ],
   "source": [
    "len(SDT_test)"
   ]
  },
  {
   "cell_type": "code",
   "execution_count": 31,
   "metadata": {},
   "outputs": [
    {
     "name": "stdout",
     "output_type": "stream",
     "text": [
      "device: cuda\n"
     ]
    }
   ],
   "source": [
    "cuda = torch.cuda.is_available()\n",
    "if cuda:\n",
    "    device = torch.device(\"cuda\")\n",
    "else:\n",
    "    device='cpu'\n",
    "\n",
    "#Make a checkpoint to save parameters every time there is a new best for validation lost\n",
    "cp = Checkpoint(monitor='valid_loss_best',fn_prefix='./new_backup/valid_best_')\n",
    "\n",
    "#Callback to load the checkpoint with the best validation loss at the end of training\n",
    "\n",
    "class train_end_load_best_valid_loss(skorch.callbacks.base.Callback):\n",
    "    def on_train_end(self, net, X, y):\n",
    "        net.load_params('./new_backup/valid_best_params.pt')\n",
    "        \n",
    "load_best_valid_loss = train_end_load_best_valid_loss()\n",
    "print('device:', device)"
   ]
  },
  {
   "cell_type": "code",
   "execution_count": 32,
   "metadata": {},
   "outputs": [
    {
     "data": {
      "text/plain": [
       "tensor(0.0059)"
      ]
     },
     "execution_count": 32,
     "metadata": {},
     "output_type": "execute_result"
    }
   ],
   "source": [
    "def get_distance(atom_pos, nbr_fea_idx, nbr_fea_offset, cells):\n",
    "    nbr_pos = atom_pos[nbr_fea_idx]\n",
    "    differ = nbr_pos - atom_pos.unsqueeze(1) + torch.bmm(nbr_fea_offset, cells)\n",
    "    differ_sum = torch.sum(differ**2, dim=2)\n",
    "    distance = torch.sqrt(differ_sum).unsqueeze(-1)            \n",
    "    return distance\n",
    "differences = []\n",
    "c = 0\n",
    "max_num_nbr = 12\n",
    "\n",
    "for sdt in SDT_list:\n",
    "    nbr_fea_idx = sdt[2]\n",
    "    nbr_fea_offset = sdt[3]\n",
    "    atom_pos =sdt[4]\n",
    "    cells = sdt[7]\n",
    "    atom_pos_final = sdt[-1]\n",
    "    free_atom_idx = sdt[-2]\n",
    "#     bond_distance = get_distance(atom_pos, nbr_fea_idx, nbr_fea_offset, cells)[free_atom_idx]\n",
    "#     final_distance = get_distance(atom_pos_final, nbr_fea_idx, nbr_fea_offset, cells)[free_atom_idx]\n",
    "#     c += len(atom_pos[free_atom_idx])*12\n",
    "    bond_distance = get_distance(atom_pos, nbr_fea_idx, nbr_fea_offset, cells)\n",
    "    final_distance = get_distance(atom_pos_final, nbr_fea_idx, nbr_fea_offset, cells)\n",
    "    N, M, C = bond_distance.shape\n",
    "    bond_distance = bond_distance #* fake_nbr.float().expand(N, M, C)    \n",
    "    final_distance = final_distance #* fake_nbr.float().expand(N, M, C) \n",
    "    \n",
    "    c += len(atom_pos) * max_num_nbr\n",
    "    differences.append((final_distance - bond_distance).view(-1))\n",
    "differences = torch.cat(differences)**2\n",
    "# differences = torch.clamp(differences, min=1e-8)\n",
    "assert c == len(differences)\n",
    "# dist_err = torch.mean(torch.abs(differences))\n",
    "# torch.log(dist_err)\n",
    "# dist_err = torch.mean(torch.sqrt(differences))\n",
    "dist_err = torch.mean(torch.abs(differences))\n",
    "dist_err\n"
   ]
  },
  {
   "cell_type": "code",
   "execution_count": 33,
   "metadata": {},
   "outputs": [
    {
     "data": {
      "text/plain": [
       "0.13144483"
      ]
     },
     "execution_count": 33,
     "metadata": {},
     "output_type": "execute_result"
    }
   ],
   "source": [
    "def diff(sdt, target):\n",
    "    fixed_base = sdt[8]\n",
    "    free_atom_idx = np.where(fixed_base == 0)[0]\n",
    "    free_atom_idx = torch.LongTensor(free_atom_idx)   \n",
    "    diff = np.sum(((target[0] - sdt[4].numpy()[free_atom_idx]))**2.,axis=1)**0.5 \n",
    "    return diff\n",
    "\n",
    "np.mean(np.abs(np.concatenate([diff(sdt, target) for sdt,target in zip(SDT_test, target_test)])))"
   ]
  },
  {
   "cell_type": "code",
   "execution_count": 34,
   "metadata": {},
   "outputs": [
    {
     "data": {
      "text/plain": [
       "0.059913088"
      ]
     },
     "execution_count": 34,
     "metadata": {},
     "output_type": "execute_result"
    }
   ],
   "source": [
    "def diff_position(sdt, target):\n",
    "    fixed_base = sdt[8]\n",
    "    free_atom_idx = np.where(fixed_base == 0)[0]\n",
    "    free_atom_idx = torch.LongTensor(free_atom_idx)   \n",
    "    diff = (target[0] - sdt[4].numpy()[free_atom_idx])\n",
    "    return diff\n",
    "\n",
    "differences = []\n",
    "for sdt, target in zip(SDT_test, target_test):\n",
    "    differences.append(diff_position(sdt, target))\n",
    "differences = np.concatenate(differences)\n",
    "np.mean(np.abs(differences))"
   ]
  },
  {
   "cell_type": "code",
   "execution_count": 35,
   "metadata": {
    "scrolled": false
   },
   "outputs": [],
   "source": [
    "from torch.optim import lr_scheduler\n",
    "import torch.optim as optim\n",
    "\n",
    "\n",
    "train_test_splitter = ShuffleSplit(n_splits=1, test_size=0.1, random_state=42)\n",
    "\n",
    "batchsize = 17\n",
    "# warm restart scheduling from https://arxiv.org/pdf/1711.05101.pdf\n",
    "# LR_schedule = LRScheduler(CosineLRWithRestarts, batch_size=batchsize, epoch_size=len(SDT_training), restart_period=10, t_mult=1.2)\n",
    "\n",
    "#### For Sigopt\n",
    "LR_schedule = LRScheduler(\"MultiStepLR\", milestones=[100], gamma=0.1)\n",
    "\n",
    "#############\n",
    "# To extract intermediate features, set the forward takes only the first return value to calculate loss\n",
    "class MyNet(NeuralNetRegressor):\n",
    "    def get_loss(self, y_pred, y_true, **kwargs):\n",
    "        y_pred = y_pred[0] if isinstance(y_pred, tuple) else y_pred  # discard the 2nd output\n",
    "        differ=torch.sum((y_pred-y_true.cuda())**2.0,dim=1)\n",
    "        if torch.nonzero(differ).shape[0] != differ.shape[0]:\n",
    "            print('zero sqrt for Loss')\n",
    "#             zero_idx = (differ == 0).nonzero()\n",
    "#             differ[zero_idx] = 1e-6\n",
    "        differ = torch.clamp(differ, min=1e-8)\n",
    "\n",
    "        return torch.mean(torch.sqrt(differ))\n",
    "\n",
    "\n",
    "net = MyNet(\n",
    "    CrystalGraphConvNet,\n",
    "    module__orig_atom_fea_len = orig_atom_fea_len,\n",
    "    module__nbr_fea_len = nbr_fea_len,\n",
    "    batch_size=batchsize, #214\n",
    "    module__classification=False,\n",
    "    lr=0.0393415,\n",
    "    max_epochs= 200,\n",
    "    module__energy_mode=\"Harmonic\", #[\"Harmonic\", \"Morse\", \"LJ\"], Default = \"Harmonic\"\n",
    "    module__atom_fea_len=236, #46,\n",
    "    module__h_fea_len=6,\n",
    "    module__h_fea_len_dist=4,\n",
    "    module__h_fea_len_const=4,\n",
    "#     module__h_fea_len_D=(3,256),\n",
    "    module__n_conv=12, #8\n",
    "    module__n_h_dist=0,\n",
    "    optimizer__weight_decay=0.0000454,\n",
    "    module__n_h_const=0,\n",
    "#     module__n_h_D=(1,12),\n",
    "#     module__max_num_nbr=12, #9\n",
    "#     module__opt_step_size=(0.1,0.7), #0.3\n",
    "    module__min_opt_steps=30,\n",
    "    module__max_opt_steps=150,\n",
    "    module__momentum=0.8,\n",
    "    optimizer=AdamW,\n",
    "    iterator_train__pin_memory=True,\n",
    "    iterator_train__num_workers=0,\n",
    "    iterator_train__shuffle=True,\n",
    "    iterator_train__collate_fn = collate_pool,\n",
    "    iterator_valid__pin_memory=True,\n",
    "    iterator_valid__num_workers=0,\n",
    "    iterator_valid__collate_fn = collate_pool,\n",
    "    device=device,\n",
    "#     criterion=torch.nn.MSELoss,\n",
    "    criterion=torch.nn.L1Loss,\n",
    "    dataset=MergeDataset,\n",
    "    train_split = CVSplit(cv=train_test_splitter),\n",
    "    callbacks=[cp,LR_schedule , load_best_valid_loss],\n",
    "\n",
    ")\n",
    "\n",
    "\n",
    "net.initialize()\n",
    "net.load_params(f_history = './new_backup/valid_best_history.json',\n",
    "               f_optimizer = './new_backup/valid_best_optimizer.pt',\n",
    "               f_params = './new_backup/valid_best_params.pt')"
   ]
  },
  {
   "cell_type": "code",
   "execution_count": 36,
   "metadata": {},
   "outputs": [],
   "source": [
    "torch.cuda.empty_cache()"
   ]
  },
  {
   "cell_type": "code",
   "execution_count": 37,
   "metadata": {},
   "outputs": [
    {
     "name": "stdout",
     "output_type": "stream",
     "text": [
      "659 659 659\n",
      "601 601 601\n"
     ]
    }
   ],
   "source": [
    "natoms =[]\n",
    "types = []\n",
    "steps = []\n",
    "distances = []\n",
    "filtered_idx = []\n",
    "docs_test_new = []\n",
    "SDT_test_new, target_test_new= [], []\n",
    "print(len(docs_test), len(SDT_test), len(target_test))\n",
    "for i, doc in enumerate(docs_test):\n",
    "    sdt = SDT_test[i]\n",
    "    target = target_test[i]\n",
    "\n",
    "    atoms = mongo.make_atoms_from_doc(doc, is_initial=True)\n",
    "    atoms_final = mongo.make_atoms_from_doc(doc, is_initial=False)\n",
    "    if atoms.constraints:\n",
    "        fixed_atom_idx = atoms.constraints[0].index\n",
    "        base = np.ones(len(atoms.positions))\n",
    "        base[fixed_atom_idx] = 0\n",
    "        free_atom_idx = np.where(base==1)[0]\n",
    "        \n",
    "    else:\n",
    "        free_atom_idx = np.arange(len(atoms))\n",
    "    difference = atoms.positions[free_atom_idx] - atoms_final.positions[free_atom_idx]\n",
    "    dist = np.sqrt(np.sum(difference**2, axis=1))\n",
    "    \n",
    "    if np.mean(dist) > 0.06:\n",
    "        distances.append(dist)\n",
    "        filtered_idx.append(doc['idx'])\n",
    "        \n",
    "        SDT_test_new.append(sdt)\n",
    "        docs_test_new.append(doc)\n",
    "        target_test_new.append(target)\n",
    "\n",
    "docs_test = docs_test_new\n",
    "SDT_test = SDT_test_new\n",
    "target_test = target_test_new\n",
    "print(len(docs_test), len(SDT_test), len(target_test))\n"
   ]
  },
  {
   "cell_type": "code",
   "execution_count": 38,
   "metadata": {},
   "outputs": [],
   "source": [
    "SDT_train, SDT_valid, target_train, target_valid = train_test_split(SDT_training, target_training, \n",
    "                                                                    test_size=0.1, random_state=42)\n",
    "def get_targets(dummy_SDT, dummy_targets):\n",
    "    targets = []\n",
    "    for i, target in enumerate(dummy_targets):\n",
    "        free_atom_idx = dummy_SDT[i][-2]\n",
    "        targets.append(target[0].reshape(-1,3))\n",
    "        assert len(free_atom_idx) == len(target[0])\n",
    "    return np.concatenate(targets)\n",
    "\n",
    "def get_distance(pred, true):\n",
    "    diff = np.sum((pred - true)**2, axis=1)\n",
    "    return np.sqrt(diff)\n",
    "\n",
    "def get_initial(dummy_SDT):\n",
    "    init_test = []\n",
    "    for sdt in dummy_SDT:\n",
    "        free_atom_idx = sdt[-2]\n",
    "        atom_pos = sdt[4][free_atom_idx]\n",
    "        init_test.append(atom_pos)\n",
    "    return np.concatenate(init_test)\n",
    "        "
   ]
  },
  {
   "cell_type": "code",
   "execution_count": 44,
   "metadata": {},
   "outputs": [],
   "source": [
    "# init_test = get_initial(SDT_test)\n",
    "# pred_test = net.predict(SDT_test)\n",
    "# true_test = get_targets(SDT_test, target_test)\n",
    "\n",
    "init_test = pickle.load(open('./new_backup/init_test.pkl', 'rb'))\n",
    "pred_test = pickle.load(open('./new_backup/pred_test.pkl', 'rb'))\n",
    "true_test = pickle.load(open('./new_backup/true_test.pkl', 'rb'))\n",
    "pred_test2 = pickle.load(open('./new_backup2/pred_test.pkl', 'rb'))\n",
    "pred_test3 = pickle.load(open('./new_backup3/pred_test.pkl', 'rb'))\n",
    "\n",
    "pred_test = np.mean(pred_test2 + pred_test3)\n",
    "\n",
    "torch.cuda.empty_cache()\n",
    "\n",
    "distance_test = get_distance(pred_test, true_test)\n",
    "distance_pred_initial = get_distance(pred_test, init_test)\n",
    "distance_init = get_distance(init_test, true_test)\n",
    "\n",
    "distance_test2 = get_distance(pred_test2, true_test)\n",
    "distance_test3 = get_distance(pred_test3, true_test)\n",
    "\n",
    "distance_test = np.mean(np.array([distance_test, distance_test2, distance_test3]), axis=0)\n",
    "distance_test_std = np.std(np.array([distance_test, distance_test2, distance_test3]), axis=0)\n",
    "\n",
    "###### Per ATOM MAE ##### (NOT per structure MAE)\n",
    "\n",
    "MAE_pred_final = np.mean(distance_test)\n",
    "MAE_pred_initial = np.mean(distance_pred_initial)\n",
    "MAE_initial_final = np.mean(distance_init)"
   ]
  },
  {
   "cell_type": "code",
   "execution_count": 45,
   "metadata": {},
   "outputs": [
    {
     "name": "stdout",
     "output_type": "stream",
     "text": [
      "6.5491133 3.057544\n"
     ]
    }
   ],
   "source": [
    "print(np.mean(distance_test), np.mean(distance_test_std))"
   ]
  },
  {
   "cell_type": "code",
   "execution_count": 46,
   "metadata": {},
   "outputs": [
    {
     "name": "stdout",
     "output_type": "stream",
     "text": [
      "0.17722969 19.952349 112.57904\n"
     ]
    }
   ],
   "source": [
    "#### RMSD ####\n",
    "RMSD_init = np.sqrt(np.mean(np.sum((init_test - true_test)**2, axis=1)))\n",
    "RMSD_pred = np.sqrt(np.mean(np.sum((pred_test - true_test)**2, axis=1)))\n",
    "print(RMSD_init, RMSD_pred, RMSD_pred/RMSD_init)"
   ]
  },
  {
   "cell_type": "code",
   "execution_count": 47,
   "metadata": {},
   "outputs": [
    {
     "name": "stdout",
     "output_type": "stream",
     "text": [
      "6.5491133 19.528082 0.1383077\n",
      "47.35176 -46.35176086425781\n"
     ]
    }
   ],
   "source": [
    "print(MAE_pred_final, MAE_pred_initial, MAE_initial_final)\n",
    "print(MAE_pred_final/MAE_initial_final, 1 - MAE_pred_final/MAE_initial_final)"
   ]
  },
  {
   "cell_type": "code",
   "execution_count": 43,
   "metadata": {},
   "outputs": [
    {
     "data": {
      "image/png": "[encoded data removed]",
      "text/plain": [
       "<Figure size 604.8x460.8 with 2 Axes>"
      ]
     },
     "metadata": {},
     "output_type": "display_data"
    }
   ],
   "source": [
    "sns.set(color_codes=True)\n",
    "sns.set(rc={'figure.figsize':(8.4, 6.4)})\n",
    "sns.set(font_scale = 1.2)\n",
    "# sns.set_style(\"whitegrid\")\n",
    "sns.set_style(\"white\")\n",
    "\n",
    "idx = np.where(distance_test < 0.6)[0]\n",
    "idx_init = np.where(distance_init < 0.6)[0]\n",
    "\n",
    "ax = sns.distplot(distance_test[idx], bins=50, kde=False, color='darkblue', label='pred, $x = \\hat{x}_{min}$'\n",
    "                 ,hist_kws={\"rwidth\":0.9, 'density':True})\n",
    "ax = sns.distplot(distance_init[idx_init], bins=50, kde=False, color='darkorange', label='initial, $x = x_{0}$'\n",
    "                 ,hist_kws={\"rwidth\":0.9})\n",
    "\n",
    "_ = ax.set_xlim(-0.02, 0.6)\n",
    "_ = ax.set_xlabel('$\\||x - x^{*}_{min}\\||_{2}$ (surface atoms) [$\\AA$]', fontsize=16)\n",
    "_ = ax.set_ylabel('Counts', fontsize=16)\n",
    "_ = ax.set_title('Surfaces without adsorbates', fontsize=20)\n",
    "_ = ax.legend(loc='upper right', fontsize=16)\n",
    "# _ = ax.yaxis.grid(True)\n",
    "\n",
    "ax2 = ax.twinx()\n",
    "ax2 = sns.kdeplot(distance_test[idx], color='darkblue')\n",
    "ax2 = sns.kdeplot(distance_init[idx_init], color='darkorange')\n",
    "_ = ax2.set_ylabel('Probability Density Function', fontsize=16)\n",
    "\n",
    "# plt.xscale('log')\n",
    "plt.savefig('./new_backup/plot.pdf')"
   ]
  },
  {
   "cell_type": "code",
   "execution_count": null,
   "metadata": {},
   "outputs": [],
   "source": []
  },
  {
   "cell_type": "code",
   "execution_count": 115,
   "metadata": {},
   "outputs": [],
   "source": [
    "def analysis(SDT, docs, distance, distance_pred_initial, distance_init):\n",
    "    dist_per_surface = []\n",
    "    init_dist_per_surface = []\n",
    "    dist_pred_init_per_surface = []\n",
    "    dist_init_per_surface = []\n",
    "    \n",
    "    total_atoms = 0\n",
    "    for i in range(len(SDT)):\n",
    "        doc = docs[i]\n",
    "        sdt = SDT[i]\n",
    "        \n",
    "        num_atoms = sdt[-2].shape[0]\n",
    "        \n",
    "        dist_per_surface.append(np.mean(distance[total_atoms: total_atoms+num_atoms]))\n",
    "        init_dist = torch.sqrt(torch.sum(((sdt[4] - sdt[-1])[sdt[-2]])**2, dim=1))\n",
    "        init_dist_per_surface.append(torch.mean(init_dist))\n",
    "        dist_pred_init_per_surface.append(np.mean(distance_pred_initial[total_atoms: total_atoms+num_atoms]))\n",
    "        dist_init_per_surface.append(np.mean(distance_init[total_atoms: total_atoms+num_atoms]))\n",
    "        \n",
    "        total_atoms += num_atoms\n",
    "    \n",
    "    assert len(distance) == total_atoms\n",
    "    assert len(distance_pred_initial) == total_atoms\n",
    "\n",
    "    results =[]\n",
    "    reduced = []\n",
    "    best = []\n",
    "    bad_result =[]\n",
    "    good_result=[]\n",
    "    bad_docs = []\n",
    "    good_docs = []\n",
    "    test_idx = 0\n",
    "    MAE, MAE_pos, MAE_pred_init, MAE_init, MAE_init2 = [], [], [], [], []\n",
    "    \n",
    "    ###### Per Structure MAE ##### (NOT Per Atom MAE)\n",
    "\n",
    "    for dist, doc, init_dist, pred_init_dist, dist_init in zip(dist_per_surface, docs, init_dist_per_surface, \n",
    "                                                    dist_pred_init_per_surface, dist_init_per_surface):\n",
    "        if doc['idx'] in filtered_idx:\n",
    "        \n",
    "            atoms = mongo.make_atoms_from_doc(doc, is_initial=True)\n",
    "            atoms_final = mongo.make_atoms_from_doc(doc, is_initial=False)\n",
    "            base = np.zeros_like(atoms.positions)\n",
    "            base[atoms.constraints[0].get_indices()] = 1\n",
    "            free_atom_idx = np.where(base == 0)[0]\n",
    "\n",
    "            total_steps = len(doc['distances_per_step'])\n",
    "            reduced_steps = len(np.where(doc['distances_per_step'] >= dist)[0])\n",
    "            results.append([total_steps, reduced_steps, reduced_steps/total_steps])\n",
    "            reduced.append(reduced_steps/total_steps)\n",
    "            \n",
    "        ###### Per Structure MAE ##### (NOT Per Atom MAE)\n",
    "            MAE_ratio = dist/init_dist.item()\n",
    "            MAE.append(dist)\n",
    "            MAE_pred_init.append(pred_init_dist)\n",
    "            MAE_init.append(init_dist)\n",
    "            MAE_init2.append(dist_init)\n",
    "            MAE_pos.append(np.mean(np.abs((atoms.positions - atoms_final.positions)[free_atom_idx])))\n",
    "            if reduced_steps/total_steps < 0.1:\n",
    "                bad_docs.append(doc)\n",
    "                bad_result.append([test_idx, total_steps, reduced_steps, np.round(reduced_steps/total_steps, 4), \n",
    "                                   np.round(init_dist.item(),4), np.round(dist,4), np.round(MAE_ratio,4)])\n",
    "            else:\n",
    "                good_docs.append(doc)\n",
    "                good_result.append([test_idx, total_steps, reduced_steps, np.round(reduced_steps/total_steps, 4), \n",
    "                                   np.round(init_dist.item(),4), np.round(dist,4), np.round(MAE_ratio,4)])\n",
    "            test_idx += 1\n",
    "    return reduced, np.mean(MAE), np.mean(MAE_pred_init), np.mean(MAE_init), np.mean(MAE_init2), MAE_pos, bad_result, good_result, bad_docs, good_docs"
   ]
  },
  {
   "cell_type": "code",
   "execution_count": 116,
   "metadata": {},
   "outputs": [],
   "source": [
    "def get_initial(SDT_list):\n",
    "    init_test = []\n",
    "    for sdt in SDT_list:\n",
    "        free_atom_idx = sdt[-2]\n",
    "        atom_pos = sdt[4][free_atom_idx]\n",
    "        init_test.append(atom_pos)\n",
    "    return np.concatenate(init_test)"
   ]
  },
  {
   "cell_type": "code",
   "execution_count": 117,
   "metadata": {},
   "outputs": [],
   "source": [
    "###### Per Structure MAE ##### (NOT Per Atom MAE)\n",
    "reduced, MAE_per_str, MAE_pred_init_per_str, MAE_init_final_per_str, MAE_init2, \\\n",
    "MAE_pos, bad_result, good_result, bad_docs, good_docs \\\n",
    "= analysis(SDT_test, docs_test, distance_test, distance_pred_initial, distance_init)"
   ]
  },
  {
   "cell_type": "code",
   "execution_count": 118,
   "metadata": {},
   "outputs": [
    {
     "name": "stdout",
     "output_type": "stream",
     "text": [
      "0.063097425 0.117505774 0.13785177 0.13785176\n",
      "0.45771936 0.5422806441783905\n"
     ]
    }
   ],
   "source": [
    "print(MAE_per_str, MAE_pred_init_per_str, MAE_init_final_per_str, MAE_init2)\n",
    "print(MAE_per_str/MAE_init_final_per_str, 1 - MAE_per_str/MAE_init_final_per_str)"
   ]
  },
  {
   "cell_type": "code",
   "execution_count": 119,
   "metadata": {},
   "outputs": [
    {
     "data": {
      "text/plain": [
       "0.32937513409170305"
      ]
     },
     "execution_count": 119,
     "metadata": {},
     "output_type": "execute_result"
    }
   ],
   "source": [
    "np.mean(reduced) #after filtering dist > 0.06 on test set"
   ]
  },
  {
   "cell_type": "code",
   "execution_count": 113,
   "metadata": {},
   "outputs": [
    {
     "name": "stdout",
     "output_type": "stream",
     "text": [
      "0.11008012753940598\n"
     ]
    }
   ],
   "source": [
    "natoms =[]\n",
    "types = []\n",
    "steps = []\n",
    "distances = []\n",
    "filtered_idx = []\n",
    "docs_test_new = []\n",
    "for i, doc in enumerate(docs_test):\n",
    "    std = SDT_test[i]\n",
    "    target = target_test[i]\n",
    "\n",
    "    atoms = mongo.make_atoms_from_doc(doc, is_initial=True)\n",
    "    atoms_final = mongo.make_atoms_from_doc(doc, is_initial=False)\n",
    "    if atoms.constraints:\n",
    "        fixed_atom_idx = atoms.constraints[0].index\n",
    "        base = np.ones(len(atoms.positions))\n",
    "        base[fixed_atom_idx] = 0\n",
    "        free_atom_idx = np.where(base==1)[0]\n",
    "        \n",
    "    else:\n",
    "        free_atom_idx = np.arange(len(atoms))\n",
    "    difference = atoms.positions[free_atom_idx] - atoms_final.positions[free_atom_idx]\n",
    "    dist = np.sqrt(np.sum(difference**2, axis=1))\n",
    "    RMSD = np.sqrt(np.mean(np.sum(difference**2, axis=1)))\n",
    "    if np.mean(dist) > 0.06:\n",
    "        distances.append(dist)\n",
    "        filtered_idx.append(doc['idx'])\n",
    "print(RMSD)"
   ]
  },
  {
   "cell_type": "code",
   "execution_count": 114,
   "metadata": {},
   "outputs": [
    {
     "data": {
      "text/plain": [
       "(array([15., 21., 16., 14., 23., 22., 19., 24., 27., 33., 36., 18., 16.,\n",
       "        23., 19., 19., 16., 13., 23., 16., 13., 16., 14.,  9., 14., 14.,\n",
       "         4.,  8., 11.,  9.,  5.,  8.,  3.,  8.,  1.,  9.,  3.,  3.,  3.,\n",
       "         7.,  0.,  7.,  6.,  3.,  4.,  2.,  1.,  2.,  0.,  1.]),\n",
       " array([0.06068707, 0.06546743, 0.07024778, 0.07502814, 0.07980849,\n",
       "        0.08458885, 0.0893692 , 0.09414956, 0.09892991, 0.10371027,\n",
       "        0.10849062, 0.11327098, 0.11805133, 0.12283169, 0.12761204,\n",
       "        0.1323924 , 0.13717275, 0.1419531 , 0.14673346, 0.15151381,\n",
       "        0.15629417, 0.16107452, 0.16585488, 0.17063523, 0.17541559,\n",
       "        0.18019594, 0.1849763 , 0.18975665, 0.19453701, 0.19931736,\n",
       "        0.20409772, 0.20887807, 0.21365843, 0.21843878, 0.22321914,\n",
       "        0.22799949, 0.23277985, 0.2375602 , 0.24234056, 0.24712091,\n",
       "        0.25190127, 0.25668162, 0.26146198, 0.26624233, 0.27102269,\n",
       "        0.27580304, 0.2805834 , 0.28536375, 0.29014411, 0.29492446,\n",
       "        0.29970482]),\n",
       " <a list of 50 Patch objects>)"
      ]
     },
     "execution_count": 114,
     "metadata": {},
     "output_type": "execute_result"
    },
    {
     "data": {
      "image/png": "[encoded data removed]",
      "text/plain": [
       "<Figure size 432x288 with 1 Axes>"
      ]
     },
     "metadata": {
      "needs_background": "light"
     },
     "output_type": "display_data"
    }
   ],
   "source": [
    "d_mean=[]\n",
    "for dist in distances:\n",
    "    d_mean.append(np.mean(dist))\n",
    "plt.hist(d_mean, bins=50)"
   ]
  },
  {
   "cell_type": "code",
   "execution_count": null,
   "metadata": {},
   "outputs": [],
   "source": [
    "final_scaled_positions = []\n",
    "pred_scaled_positions =[]\n",
    "initial_scaled_positions = []\n",
    "\n",
    "total_atoms = 0\n",
    "for i in tqdm.tqdm(range(len(docs_test))):\n",
    "    idx = i\n",
    "    doc = docs_test[idx]\n",
    "    sdt = SDT_test[idx]\n",
    "    fixed_base = sdt[-3]\n",
    "    fixed_atom_idx = np.where(fixed_base == 1)[0]\n",
    "    free_atom_idx2 = np.where(fixed_base == 0)[0]\n",
    "    free_atom_idx = sdt[-2]\n",
    "    assert free_atom_idx2.all() == free_atom_idx.numpy().all()\n",
    "    num_atoms = len(free_atom_idx)\n",
    "\n",
    "    init = init_test[total_atoms:total_atoms+num_atoms]\n",
    "    pred = pred_test[total_atoms:total_atoms+num_atoms]\n",
    "    true = true_test[total_atoms:total_atoms+num_atoms]\n",
    "    loss = np.mean(distance_test[total_atoms: total_atoms+num_atoms])\n",
    "    total_atoms += num_atoms\n",
    "\n",
    "    if doc['idx'] in filtered_idx:\n",
    "        if doc['data'] == 'surface':\n",
    "            atoms_init = mongo.make_atoms_from_doc(doc, is_initial=True)\n",
    "\n",
    "            atoms_final = mongo.make_atoms_from_doc(doc, is_initial=False)\n",
    "            atoms_pred = copy.deepcopy(atoms_final)\n",
    "            atoms_pred.positions[free_atom_idx] = pred\n",
    "\n",
    "        elif doc['data'] == 'slab':\n",
    "            atoms_init = mongo.make_atoms_from_doc(doc, is_initial=True)\n",
    "            atoms_final = mongo.make_atoms_from_doc(doc, is_initial=False)\n",
    "            atoms_pred = copy.deepcopy(atoms_final)\n",
    "            atoms_pred.positions[free_atom_idx] = pred\n",
    "\n",
    "        initial_scaled_positions.append(atoms_init.get_scaled_positions()[free_atom_idx])\n",
    "        final_scaled_positions.append(atoms_final.get_scaled_positions()[free_atom_idx])\n",
    "        pred_scaled_positions.append(atoms_pred.get_scaled_positions()[free_atom_idx])\n",
    "\n",
    "final_scaled_positions, pred_scaled_positions, initial_scaled_positions\\\n",
    "=  np.concatenate(final_scaled_positions), np.concatenate(pred_scaled_positions), np.concatenate(initial_scaled_positions)"
   ]
  },
  {
   "cell_type": "code",
   "execution_count": null,
   "metadata": {},
   "outputs": [],
   "source": [
    "import seaborn as sns\n",
    "from sklearn.metrics import mean_absolute_error, mean_squared_error, r2_score\n",
    "\n",
    "init = initial_scaled_positions[:,1]\n",
    "pred = pred_scaled_positions[:,1]\n",
    "true = final_scaled_positions[:,1]\n",
    "mae = np.mean(np.abs(pred-true))\n",
    "mae_init = np.mean(np.abs(init-true))\n",
    "print(mae, mae_init)"
   ]
  },
  {
   "cell_type": "code",
   "execution_count": 135,
   "metadata": {},
   "outputs": [
    {
     "data": {
      "image/png": "[encoded data removed]",
      "text/plain": [
       "<Figure size 432x288 with 1 Axes>"
      ]
     },
     "metadata": {
      "needs_background": "light"
     },
     "output_type": "display_data"
    }
   ],
   "source": [
    "plt.scatter(pred_scaled_positions[:,1], final_scaled_positions[:,1])\n",
    "plt.show()"
   ]
  },
  {
   "cell_type": "code",
   "execution_count": null,
   "metadata": {},
   "outputs": [],
   "source": []
  },
  {
   "cell_type": "code",
   "execution_count": 89,
   "metadata": {},
   "outputs": [],
   "source": [
    "good_idx = np.array(good_result)[:,0].astype(int)\n",
    "bad_idx = np.array(bad_result)[:,0].astype(int)\n",
    "# np.random.shuffle(good_idx)\n",
    "\n",
    "total_atoms = 0\n",
    "for i in range(len(docs_test)):\n",
    "    idx = i\n",
    "    doc = docs_test[idx]\n",
    "    sdt = SDT_test[idx]\n",
    "    fixed_base = sdt[-3]\n",
    "    fixed_atom_idx = np.where(fixed_base == 1)[0]\n",
    "    free_atom_idx2 = np.where(fixed_base == 0)[0]\n",
    "    free_atom_idx = sdt[-2]\n",
    "    assert free_atom_idx2.all() == free_atom_idx.numpy().all()\n",
    "    num_atoms = len(free_atom_idx)\n",
    "\n",
    "    init = init_test[total_atoms:total_atoms+num_atoms]\n",
    "    pred = pred_test[total_atoms:total_atoms+num_atoms]\n",
    "    true = true_test[total_atoms:total_atoms+num_atoms]\n",
    "    loss = np.mean(distance_test[total_atoms: total_atoms+num_atoms])\n",
    "    total_atoms += num_atoms\n",
    "\n",
    "    if doc['idx'] in filtered_idx:\n",
    "        if doc['data'] == 'surface':\n",
    "            atoms = mongo.make_atoms_from_doc(doc, is_initial=True)\n",
    "            atoms.write('./new_backup/traj_surface/initial/%d_%.4f_initial.traj' %(doc['idx'], loss))\n",
    "\n",
    "            atoms_pred = copy.deepcopy(atoms)\n",
    "            atoms_pred.positions[free_atom_idx] = pred\n",
    "            atoms_pred.write('./new_backup/traj_surface/test/%d_%.4f_pred.traj' %(doc['idx'],loss))\n",
    "\n",
    "        elif doc['data'] == 'slab':\n",
    "            atoms = mongo.make_atoms_from_doc(doc, is_initial=True)\n",
    "            atoms.write('./new_backup/traj_slab/initial/%d_%.4f_initial.traj' %(doc['idx'], loss))\n",
    "\n",
    "            atoms_pred = copy.deepcopy(atoms)\n",
    "            atoms_pred.positions[free_atom_idx] = pred\n",
    "            atoms_pred.write('./new_backup/traj_slab/test/%d_%.4f_pred.traj' %(doc['idx'],loss))"
   ]
  },
  {
   "cell_type": "code",
   "execution_count": 90,
   "metadata": {},
   "outputs": [
    {
     "data": {
      "text/plain": [
       "Text(0.5, 0, '% Reduced')"
      ]
     },
     "execution_count": 90,
     "metadata": {},
     "output_type": "execute_result"
    },
    {
     "data": {
      "image/png": "[encoded data removed]",
      "text/plain": [
       "<Figure size 432x288 with 1 Axes>"
      ]
     },
     "metadata": {
      "needs_background": "light"
     },
     "output_type": "display_data"
    }
   ],
   "source": [
    "import matplotlib.pyplot as plt\n",
    "plt.hist(reduced, bins=40)\n",
    "plt.title(\"Test\")\n",
    "plt.xlabel(\"% Reduced\")"
   ]
  },
  {
   "cell_type": "code",
   "execution_count": 22,
   "metadata": {},
   "outputs": [
    {
     "data": {
      "text/plain": [
       "'slab'"
      ]
     },
     "execution_count": 22,
     "metadata": {},
     "output_type": "execute_result"
    }
   ],
   "source": [
    "docs_train[0]['data']"
   ]
  },
  {
   "cell_type": "code",
   "execution_count": 23,
   "metadata": {},
   "outputs": [],
   "source": [
    "f = []\n",
    "for doc in good_docs:\n",
    "    f.append(doc['data'])"
   ]
  },
  {
   "cell_type": "code",
   "execution_count": 24,
   "metadata": {},
   "outputs": [
    {
     "data": {
      "text/plain": [
       "Counter({'surface': 228, 'slab': 367})"
      ]
     },
     "execution_count": 24,
     "metadata": {},
     "output_type": "execute_result"
    }
   ],
   "source": [
    "import collections\n",
    "collections.Counter(f)"
   ]
  },
  {
   "cell_type": "code",
   "execution_count": 25,
   "metadata": {},
   "outputs": [
    {
     "data": {
      "text/plain": [
       "0.27353239056302664"
      ]
     },
     "execution_count": 25,
     "metadata": {},
     "output_type": "execute_result"
    }
   ],
   "source": [
    "np.mean(reduced)"
   ]
  },
  {
   "cell_type": "code",
   "execution_count": null,
   "metadata": {},
   "outputs": [],
   "source": []
  }
 ],
 "metadata": {
  "kernelspec": {
   "display_name": "Python 3",
   "language": "python",
   "name": "python3"
  },
  "language_info": {
   "codemirror_mode": {
    "name": "ipython",
    "version": 3
   },
   "file_extension": ".py",
   "mimetype": "text/x-python",
   "name": "python",
   "nbconvert_exporter": "python",
   "pygments_lexer": "ipython3",
   "version": "3.7.3"
  }
 },
 "nbformat": 4,
 "nbformat_minor": 2
}
